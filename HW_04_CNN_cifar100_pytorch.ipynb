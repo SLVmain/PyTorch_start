{
  "cells": [
    {
      "cell_type": "markdown",
      "metadata": {
        "id": "view-in-github",
        "colab_type": "text"
      },
      "source": [
        "<a href=\"https://colab.research.google.com/github/SLVmain/PyTorch_start/blob/Les_04/HW_04_CNN_cifar100_pytorch.ipynb\" target=\"_parent\"><img src=\"https://colab.research.google.com/assets/colab-badge.svg\" alt=\"Open In Colab\"/></a>"
      ]
    },
    {
      "cell_type": "markdown",
      "source": [
        "#Домашнее задание. Урок 4. CNN Свертки\n",
        "Обучение классификатора картинок на примере CIFAR-100 (датасет можно изменить) сверточной сетью (самописной)\n",
        "Обучение классификатора картинок на примере CIFAR-100 (датасет можно изменить) через дообучение ImageNet Resnet-50\n",
        "Обучение классификатора картинок на примере CIFAR-100 (датасет можно изменить) через дообучение ImageNet Resnet-50 с аугментацией (самописной, с использованием Pytorch встроенных методов)"
      ],
      "metadata": {
        "id": "WtFadGro57fG"
      }
    },
    {
      "cell_type": "code",
      "execution_count": 1,
      "metadata": {
        "id": "B4-s-BFWL9pz"
      },
      "outputs": [],
      "source": [
        "import numpy as np\n",
        "import torch\n",
        "\n",
        "from torch import nn\n",
        "import torchvision\n",
        "from torch.nn import functional as F\n",
        "from PIL import Image\n",
        "from torchvision import transforms, datasets\n",
        "from tqdm import tqdm\n",
        "\n",
        "import matplotlib.pyplot as plt\n",
        "\n",
        "from sklearn.model_selection import train_test_split"
      ]
    },
    {
      "cell_type": "code",
      "source": [
        "import shutil\n",
        "\n",
        "path = \"/content/data\"\n",
        "shutil.rmtree(path)"
      ],
      "metadata": {
        "id": "rfHoFZmZGR5r"
      },
      "execution_count": 2,
      "outputs": []
    },
    {
      "cell_type": "code",
      "execution_count": 3,
      "metadata": {
        "id": "pJSznYbaL9p0",
        "outputId": "2868feb1-b1f3-4646-d704-b7490c0fb1a7",
        "colab": {
          "base_uri": "https://localhost:8080/",
          "height": 84,
          "referenced_widgets": [
            "48015356b5624dd097f778dadb5f372c",
            "6e5df668aa07422982ea0555bff54342",
            "8d276f1bd7574a9dae2527ccf15102db",
            "9c569596f28c43708efd05a60fa780dd",
            "c822b7be7ccc4014989312481e75ccd3",
            "bf8c48a6e9334abaa0cef4e411e050fd",
            "2bf4899d04e645cf9d5bdd36d403f9ea",
            "061cabcaaa374913934e43e2997b3b82",
            "7a96b07e6a4f47ba8dfb4b9447d6e71b",
            "edf368d30fd541afab354c5ef7d7cd3d",
            "51afe083df00405f9a7fe6afbc50f239"
          ]
        }
      },
      "outputs": [
        {
          "output_type": "stream",
          "name": "stdout",
          "text": [
            "Downloading https://www.cs.toronto.edu/~kriz/cifar-100-python.tar.gz to data/cifar-100-python.tar.gz\n"
          ]
        },
        {
          "output_type": "display_data",
          "data": {
            "application/vnd.jupyter.widget-view+json": {
              "model_id": "48015356b5624dd097f778dadb5f372c",
              "version_minor": 0,
              "version_major": 2
            },
            "text/plain": [
              "  0%|          | 0/169001437 [00:00<?, ?it/s]"
            ]
          },
          "metadata": {}
        },
        {
          "output_type": "stream",
          "name": "stdout",
          "text": [
            "Extracting data/cifar-100-python.tar.gz to data/\n"
          ]
        }
      ],
      "source": [
        "dataset = datasets.CIFAR100(root='data/', train=True, download=True)\n",
        "\n",
        "def train_valid_split(Xt):\n",
        "    X_train, X_test = train_test_split(Xt, test_size=0.05, random_state=13)\n",
        "    return X_train, X_test\n",
        "\n",
        "class MyOwnCifar(torch.utils.data.Dataset):\n",
        "   \n",
        "    def __init__(self, init_dataset, transform=None):\n",
        "        self._base_dataset = init_dataset\n",
        "        self.transform = transform\n",
        "\n",
        "    def __len__(self):\n",
        "        return len(self._base_dataset)\n",
        "\n",
        "    def __getitem__(self, idx):\n",
        "        img = self._base_dataset[idx][0]\n",
        "        if self.transform is not None:\n",
        "            img = self.transform(img)\n",
        "        return img, self._base_dataset[idx][1]\n",
        "\n",
        "stats = ((0.5, 0.5, 0.5), (0.5, 0.5, 0.5))\n",
        "\n",
        "trans_actions = transforms.Compose([transforms.Resize(44),\n",
        "                                    transforms.RandomHorizontalFlip(),\n",
        "                                    transforms.RandomRotation(degrees=(0, 8)),\n",
        "                                    transforms.RandomAdjustSharpness(sharpness_factor=2),\n",
        "                                    transforms.RandomCrop(32, padding=4, padding_mode=\"reflect\"), \n",
        "                                    transforms.ToTensor(),\n",
        "                                    transforms.Normalize(*stats)])\n",
        "\n",
        "trans_actions_test = transforms.Compose([transforms.ToTensor(),\n",
        "                                    transforms.Normalize(*stats)])\n",
        "\n",
        "\n",
        "train_dataset, valid_dataset = train_valid_split(dataset)\n",
        "\n",
        "train_dataset = MyOwnCifar(train_dataset, trans_actions)\n",
        "valid_dataset = MyOwnCifar(valid_dataset, trans_actions_test)\n",
        "\n",
        "train_loader = torch.utils.data.DataLoader(train_dataset,\n",
        "                          batch_size=128,\n",
        "                          shuffle=True,\n",
        "                          num_workers=3)\n",
        "valid_loader = torch.utils.data.DataLoader(valid_dataset,\n",
        "                          batch_size=128,\n",
        "                          shuffle=False,\n",
        "                          num_workers=1)"
      ]
    },
    {
      "cell_type": "code",
      "source": [
        "for image,label in train_loader:\n",
        "    print(\"Image shape: \",image.shape)\n",
        "    print(\"Image tensor: \", image)\n",
        "    print(\"Label: \", label)\n",
        "    break\n",
        "\n",
        "for image,label in valid_loader:\n",
        "    print(\"Image shape: \",image.shape)\n",
        "    print(\"Image tensor: \", image)\n",
        "    print(\"Label: \", label)\n",
        "    break"
      ],
      "metadata": {
        "colab": {
          "base_uri": "https://localhost:8080/"
        },
        "id": "M1VB7RSCCipV",
        "outputId": "6e7a39e1-6916-40fb-dace-b35b3978feaf"
      },
      "execution_count": 32,
      "outputs": [
        {
          "output_type": "stream",
          "name": "stdout",
          "text": [
            "Image shape:  torch.Size([128, 3, 32, 32])\n",
            "Image tensor:  tensor([[[[ 0.6157,  0.7020,  0.6706,  ..., -0.7020, -0.6000, -0.5216],\n",
            "          [ 0.6706,  0.8431,  0.7647,  ..., -0.6941, -0.7333, -0.5686],\n",
            "          [ 0.8667,  0.9216,  0.8588,  ..., -0.4275, -0.5765, -0.4039],\n",
            "          ...,\n",
            "          [ 0.6314,  0.3882,  0.0196,  ..., -0.1765, -1.0000, -1.0000],\n",
            "          [ 0.7333,  0.4118,  0.0745,  ..., -0.4275, -0.3098, -0.2706],\n",
            "          [ 0.7882,  0.4667,  0.0196,  ..., -0.5686, -0.4196, -0.3882]],\n",
            "\n",
            "         [[ 0.1294,  0.0039, -0.1216,  ..., -0.5529, -0.4196, -0.3255],\n",
            "          [ 0.0118,  0.3176,  0.1216,  ..., -0.5765, -0.6392, -0.3961],\n",
            "          [ 0.3882,  0.5843,  0.3412,  ..., -0.2235, -0.3961, -0.1294],\n",
            "          ...,\n",
            "          [ 0.1765, -0.1922, -0.6863,  ...,  0.2941, -1.0000, -1.0000],\n",
            "          [ 0.4275, -0.0118, -0.6000,  ..., -0.0980,  0.0431,  0.0824],\n",
            "          [ 0.4667,  0.0510, -0.5529,  ..., -0.3098, -0.1059, -0.0980]],\n",
            "\n",
            "         [[ 0.3725,  0.2863,  0.2235,  ..., -0.7804, -0.7020, -0.6471],\n",
            "          [ 0.3098,  0.5373,  0.3961,  ..., -0.8196, -0.8510, -0.7098],\n",
            "          [ 0.5922,  0.7255,  0.5451,  ..., -0.6941, -0.7176, -0.5686],\n",
            "          ...,\n",
            "          [ 0.3490,  0.0275, -0.4353,  ..., -0.3255, -1.0000, -1.0000],\n",
            "          [ 0.5608,  0.1529, -0.3647,  ..., -0.6235, -0.4431, -0.4588],\n",
            "          [ 0.6000,  0.2314, -0.3333,  ..., -0.8039, -0.6235, -0.6157]]],\n",
            "\n",
            "\n",
            "        [[[ 0.8196,  0.6549, -0.0510,  ..., -1.0000, -1.0000,  0.9922],\n",
            "          [ 0.5216,  0.1608, -0.4824,  ..., -1.0000, -1.0000,  0.9922],\n",
            "          [ 0.1137, -0.2784, -0.5059,  ..., -1.0000, -1.0000,  0.9922],\n",
            "          ...,\n",
            "          [ 0.8745,  0.9137,  0.8824,  ...,  0.9843,  0.9843,  0.9922],\n",
            "          [ 0.8745,  0.9137,  0.9059,  ...,  0.9843,  0.9843,  0.9922],\n",
            "          [ 0.8902,  0.9137,  0.9059,  ...,  0.9843,  0.9843,  0.9922]],\n",
            "\n",
            "         [[ 0.7569,  0.5686, -0.1765,  ..., -1.0000, -1.0000,  0.9922],\n",
            "          [ 0.4431,  0.0510, -0.6235,  ..., -1.0000, -1.0000,  0.9922],\n",
            "          [ 0.0196, -0.4118, -0.6549,  ..., -1.0000, -1.0000,  0.9922],\n",
            "          ...,\n",
            "          [ 0.8039,  0.8118,  0.8275,  ...,  0.9922,  0.9922,  0.9843],\n",
            "          [ 0.7961,  0.8039,  0.8275,  ...,  0.9922,  0.9922,  0.9843],\n",
            "          [ 0.7961,  0.7961,  0.8275,  ...,  0.9922,  0.9922,  0.9843]],\n",
            "\n",
            "         [[ 0.7490,  0.5686, -0.1843,  ..., -1.0000, -1.0000,  0.9922],\n",
            "          [ 0.4275,  0.0431, -0.6392,  ..., -1.0000, -1.0000,  0.9922],\n",
            "          [ 0.0118, -0.4196, -0.6627,  ..., -1.0000, -1.0000,  0.9922],\n",
            "          ...,\n",
            "          [ 0.8510,  0.8353,  0.8118,  ...,  0.9922,  0.9922,  0.9843],\n",
            "          [ 0.8431,  0.8431,  0.8431,  ...,  0.9922,  0.9922,  0.9843],\n",
            "          [ 0.8510,  0.8431,  0.8588,  ...,  0.9922,  0.9922,  0.9843]]],\n",
            "\n",
            "\n",
            "        [[[-0.8431, -0.8431, -0.8431,  ..., -0.3882, -0.6471, -0.8353],\n",
            "          [-0.8510, -0.8588, -0.8431,  ..., -0.2235, -0.6078, -0.7569],\n",
            "          [-0.8431, -0.8431, -0.8431,  ..., -0.0902, -0.4431, -0.4275],\n",
            "          ...,\n",
            "          [-0.2863, -0.1529, -0.1373,  ..., -0.6863, -0.6157, -0.3804],\n",
            "          [-0.2784, -0.0745, -0.0902,  ..., -0.7412, -0.4824, -0.2627],\n",
            "          [-1.0000, -0.2941, -0.2157,  ..., -0.6157, -0.8275, -0.4745]],\n",
            "\n",
            "         [[-0.9216, -0.9216, -0.9216,  ..., -0.3490, -0.5608, -0.7725],\n",
            "          [-0.9059, -0.9137, -0.9137,  ..., -0.2078, -0.5059, -0.6863],\n",
            "          [-0.8980, -0.9137, -0.9137,  ..., -0.1137, -0.4039, -0.4510],\n",
            "          ...,\n",
            "          [-0.1686, -0.0745, -0.1137,  ..., -0.8275, -0.7333, -0.5608],\n",
            "          [-0.1686,  0.0275, -0.0039,  ..., -0.8745, -0.6784, -0.5137],\n",
            "          [-1.0000, -0.1294, -0.1373,  ..., -0.7961, -0.9294, -0.6863]],\n",
            "\n",
            "         [[-0.9294, -0.9294, -0.9294,  ..., -0.5294, -0.6941, -0.8275],\n",
            "          [-0.9137, -0.9216, -0.9059,  ..., -0.3725, -0.6392, -0.7725],\n",
            "          [-0.9059, -0.9294, -0.9137,  ..., -0.2863, -0.5373, -0.5686],\n",
            "          ...,\n",
            "          [-0.4902, -0.3882, -0.3961,  ..., -0.9373, -0.8196, -0.7333],\n",
            "          [-0.5294, -0.3804, -0.4196,  ..., -0.9686, -0.8118, -0.7255],\n",
            "          [-1.0000, -0.5059, -0.4510,  ..., -0.9059, -1.0000, -0.8431]]],\n",
            "\n",
            "\n",
            "        ...,\n",
            "\n",
            "\n",
            "        [[[-1.0000, -1.0000, -1.0000,  ...,  0.2706,  0.2549,  0.2078],\n",
            "          [-1.0000,  0.2235,  0.2392,  ...,  0.2471,  0.2157,  0.1922],\n",
            "          [ 0.1529,  0.1373,  0.1922,  ...,  0.1843,  0.1529,  0.1137],\n",
            "          ...,\n",
            "          [-1.0000, -0.4431, -0.3176,  ..., -0.0431,  0.0980,  0.1059],\n",
            "          [-1.0000, -0.4431, -0.3490,  ..., -0.2314,  0.0275,  0.1608],\n",
            "          [-1.0000, -0.4353, -0.3490,  ..., -0.2078, -0.1137,  0.0745]],\n",
            "\n",
            "         [[-1.0000, -1.0000, -1.0000,  ...,  0.2235,  0.2078,  0.1608],\n",
            "          [-1.0000,  0.1765,  0.1922,  ...,  0.2000,  0.1686,  0.1451],\n",
            "          [ 0.1059,  0.0902,  0.1451,  ...,  0.1373,  0.0980,  0.0667],\n",
            "          ...,\n",
            "          [-1.0000, -0.4510, -0.3490,  ..., -0.0431,  0.0824,  0.1059],\n",
            "          [-1.0000, -0.4667, -0.3882,  ..., -0.2392, -0.0118,  0.1137],\n",
            "          [-1.0000, -0.4667, -0.3882,  ..., -0.2157, -0.1608,  0.0118]],\n",
            "\n",
            "         [[-1.0000, -1.0000, -1.0000,  ...,  0.0510,  0.0353, -0.0118],\n",
            "          [-1.0000,  0.0039,  0.0196,  ...,  0.0196, -0.0039, -0.0275],\n",
            "          [-0.0667, -0.0824, -0.0275,  ..., -0.0353, -0.0667, -0.1059],\n",
            "          ...,\n",
            "          [-1.0000, -0.5137, -0.4353,  ..., -0.2078, -0.0667, -0.0431],\n",
            "          [-1.0000, -0.5529, -0.4824,  ..., -0.4039, -0.1765, -0.0431],\n",
            "          [-1.0000, -0.5686, -0.4824,  ..., -0.3569, -0.3020, -0.1451]]],\n",
            "\n",
            "\n",
            "        [[[-1.0000, -1.0000, -1.0000,  ..., -0.3098, -0.2235, -0.0902],\n",
            "          [-1.0000, -1.0000, -1.0000,  ..., -0.5373, -0.5294, -0.3020],\n",
            "          [ 0.5765,  0.7490,  0.9137,  ..., -0.7490, -0.8118, -0.5529],\n",
            "          ...,\n",
            "          [ 0.9216,  0.5451,  0.5294,  ...,  0.4588,  0.4275,  0.4275],\n",
            "          [ 0.8980,  0.4980,  0.4824,  ...,  0.4667,  0.4510,  0.4510],\n",
            "          [ 0.8745,  0.4824,  0.4431,  ...,  0.4824,  0.4745,  0.4745]],\n",
            "\n",
            "         [[-1.0000, -1.0000, -1.0000,  ...,  0.1765,  0.2941,  0.3725],\n",
            "          [-1.0000, -1.0000, -1.0000,  ..., -0.0667, -0.0431,  0.1294],\n",
            "          [ 0.5686,  0.7412,  0.8980,  ..., -0.2627, -0.3176, -0.0745],\n",
            "          ...,\n",
            "          [ 0.9451,  0.5608,  0.5529,  ...,  0.8196,  0.8118,  0.8118],\n",
            "          [ 0.9373,  0.5451,  0.5137,  ...,  0.8196,  0.8118,  0.8118],\n",
            "          [ 0.9373,  0.5294,  0.4902,  ...,  0.8118,  0.8196,  0.8196]],\n",
            "\n",
            "         [[-1.0000, -1.0000, -1.0000,  ...,  0.3255,  0.4431,  0.5608],\n",
            "          [-1.0000, -1.0000, -1.0000,  ...,  0.0667,  0.0824,  0.2549],\n",
            "          [ 0.6392,  0.8353,  1.0000,  ..., -0.1451, -0.2314, -0.0275],\n",
            "          ...,\n",
            "          [ 0.9373,  0.5451,  0.5373,  ...,  0.7255,  0.7176,  0.7176],\n",
            "          [ 0.9294,  0.5294,  0.4980,  ...,  0.7255,  0.7020,  0.6941],\n",
            "          [ 0.9137,  0.5216,  0.4824,  ...,  0.7020,  0.6784,  0.6706]]],\n",
            "\n",
            "\n",
            "        [[[-0.6549, -0.5137, -0.0275,  ...,  0.0196,  0.0431,  0.0510],\n",
            "          [-0.5843, -0.4667, -0.0431,  ...,  0.0431,  0.0588,  0.0667],\n",
            "          [-0.5451, -0.3490,  0.0196,  ...,  0.0588,  0.0745,  0.0824],\n",
            "          ...,\n",
            "          [-0.1373, -0.1137,  0.0353,  ..., -0.3961, -0.4353, -0.4588],\n",
            "          [-0.1451, -0.1294, -0.0745,  ..., -0.3882, -0.4196, -0.4431],\n",
            "          [-0.1373, -0.1137,  0.0353,  ..., -0.3961, -0.4353, -0.4588]],\n",
            "\n",
            "         [[-0.6863, -0.5608, -0.0510,  ...,  0.2706,  0.2863,  0.2941],\n",
            "          [-0.6157, -0.5137, -0.0667,  ...,  0.2784,  0.2941,  0.3020],\n",
            "          [-0.5765, -0.3961, -0.0039,  ...,  0.2863,  0.3020,  0.3098],\n",
            "          ...,\n",
            "          [-0.2078, -0.1765, -0.0275,  ..., -0.4118, -0.4431, -0.4510],\n",
            "          [-0.2157, -0.2000, -0.1451,  ..., -0.3961, -0.4196, -0.4353],\n",
            "          [-0.2078, -0.1765, -0.0275,  ..., -0.4118, -0.4431, -0.4510]],\n",
            "\n",
            "         [[-0.6627, -0.5686, -0.1059,  ...,  0.3647,  0.3725,  0.3725],\n",
            "          [-0.5922, -0.5216, -0.1294,  ...,  0.3647,  0.3725,  0.3647],\n",
            "          [-0.5529, -0.3961, -0.0667,  ...,  0.3569,  0.3569,  0.3569],\n",
            "          ...,\n",
            "          [-0.2000, -0.1922, -0.0745,  ..., -0.4196, -0.4275, -0.4196],\n",
            "          [-0.2078, -0.2078, -0.1686,  ..., -0.4118, -0.4118, -0.4039],\n",
            "          [-0.2000, -0.1922, -0.0745,  ..., -0.4196, -0.4275, -0.4196]]]])\n",
            "Label:  tensor([62, 11, 29,  9, 37, 18,  8, 67,  7, 43, 98, 62,  5, 19, 77, 72, 36, 64,\n",
            "        77, 33, 12, 96,  1, 30, 77, 59, 51, 79, 78, 31, 85, 91, 80, 41, 70, 25,\n",
            "        39, 13, 33, 83, 33, 96, 39, 61, 14, 65,  2, 11, 70, 31, 78, 17, 55, 25,\n",
            "        88, 92, 22,  1, 24, 32, 93, 41,  8, 10, 68, 22, 49, 23, 73, 27, 92, 12,\n",
            "        40, 33, 53, 87, 37, 73, 94, 43, 78, 27, 55, 31, 69, 15, 78, 73, 70,  4,\n",
            "        34, 35, 35, 19, 49, 30, 48, 47, 80, 86, 11, 12, 18, 81, 36, 34, 31, 94,\n",
            "        52, 69, 57, 73, 46, 71, 78, 66, 19, 45, 79, 53, 84, 95, 58, 87, 73, 22,\n",
            "        76, 69])\n",
            "Image shape:  torch.Size([128, 3, 32, 32])\n",
            "Image tensor:  tensor([[[[-0.4824, -0.4275, -0.3569,  ..., -0.5529, -0.4353, -0.3176],\n",
            "          [-0.5843, -0.5922, -0.5608,  ..., -0.8588, -0.7569, -0.5373],\n",
            "          [-0.4510, -0.5137, -0.4980,  ..., -0.8980, -0.8667, -0.5922],\n",
            "          ...,\n",
            "          [ 0.0431, -0.0980, -0.0745,  ..., -0.1059, -0.0824, -0.1137],\n",
            "          [-0.0118, -0.0588, -0.0431,  ..., -0.0118, -0.0510,  0.0275],\n",
            "          [-0.0510,  0.0039, -0.0196,  ..., -0.0275, -0.0510,  0.0745]],\n",
            "\n",
            "         [[-0.7176, -0.6706, -0.6549,  ..., -0.7412, -0.6627, -0.4980],\n",
            "          [-0.6863, -0.6471, -0.6235,  ..., -0.7490, -0.6941, -0.4902],\n",
            "          [-0.7412, -0.7020, -0.6549,  ..., -0.8196, -0.8275, -0.6157],\n",
            "          ...,\n",
            "          [-0.0745, -0.0824, -0.0431,  ..., -0.0902, -0.1137, -0.1373],\n",
            "          [-0.0510,  0.0039,  0.0510,  ...,  0.0667,  0.0039,  0.0039],\n",
            "          [-0.0431,  0.0431,  0.0431,  ...,  0.0039,  0.0118,  0.0196]],\n",
            "\n",
            "         [[-0.7882, -0.7020, -0.7020,  ..., -0.8353, -0.7490, -0.5765],\n",
            "          [-0.7569, -0.6941, -0.7020,  ..., -0.8902, -0.8353, -0.5922],\n",
            "          [-0.7020, -0.6627, -0.6627,  ..., -0.9137, -0.9216, -0.6549],\n",
            "          ...,\n",
            "          [-0.3882, -0.3804, -0.3804,  ..., -0.3412, -0.3255, -0.4039],\n",
            "          [-0.3804, -0.3020, -0.3020,  ..., -0.2627, -0.2784, -0.2784],\n",
            "          [-0.4196, -0.2863, -0.3333,  ..., -0.3961, -0.3412, -0.3098]]],\n",
            "\n",
            "\n",
            "        [[[-0.4039, -0.1686, -0.1137,  ..., -0.1059, -0.1294, -0.1373],\n",
            "          [-0.4745, -0.1922, -0.1059,  ..., -0.2235, -0.1843, -0.1451],\n",
            "          [-0.5922, -0.3804, -0.2157,  ..., -0.2706, -0.1765, -0.1843],\n",
            "          ...,\n",
            "          [-0.6000, -0.1686,  0.0902,  ...,  0.7490,  0.6627,  0.5451],\n",
            "          [ 0.4275,  0.8275,  0.9373,  ...,  1.0000,  1.0000,  1.0000],\n",
            "          [ 1.0000,  1.0000,  1.0000,  ...,  0.9922,  0.9922,  1.0000]],\n",
            "\n",
            "         [[-0.4275, -0.2078, -0.1765,  ..., -0.1686, -0.2235, -0.2314],\n",
            "          [-0.4980, -0.2314, -0.1686,  ..., -0.2784, -0.2706, -0.2392],\n",
            "          [-0.6078, -0.4196, -0.2784,  ..., -0.3176, -0.2627, -0.2706],\n",
            "          ...,\n",
            "          [-0.6000, -0.1686,  0.0902,  ...,  0.7412,  0.6549,  0.5373],\n",
            "          [ 0.4196,  0.8275,  0.9373,  ...,  1.0000,  1.0000,  1.0000],\n",
            "          [ 1.0000,  1.0000,  1.0000,  ...,  0.9922,  0.9922,  1.0000]],\n",
            "\n",
            "         [[-0.4196, -0.1922, -0.1529,  ..., -0.1686, -0.2235, -0.2314],\n",
            "          [-0.4902, -0.2157, -0.1451,  ..., -0.2863, -0.2784, -0.2471],\n",
            "          [-0.6000, -0.4039, -0.2549,  ..., -0.3490, -0.2863, -0.2941],\n",
            "          ...,\n",
            "          [-0.6000, -0.1686,  0.0902,  ...,  0.7647,  0.6863,  0.5686],\n",
            "          [ 0.4196,  0.8275,  0.9373,  ...,  1.0000,  1.0000,  1.0000],\n",
            "          [ 1.0000,  1.0000,  1.0000,  ...,  0.9922,  0.9922,  1.0000]]],\n",
            "\n",
            "\n",
            "        [[[ 0.7098,  0.6941,  0.7176,  ...,  0.8196,  0.8196,  0.8118],\n",
            "          [ 0.6941,  0.6784,  0.6941,  ...,  0.7961,  0.7961,  0.7882],\n",
            "          [ 0.7020,  0.6941,  0.7020,  ...,  0.7961,  0.7961,  0.7882],\n",
            "          ...,\n",
            "          [ 0.9216,  0.8902,  0.8902,  ...,  0.8118,  0.5922,  0.5608],\n",
            "          [ 0.9608,  0.9294,  0.9373,  ...,  0.5137,  0.5843,  0.8588],\n",
            "          [ 0.9686,  0.9451,  0.9529,  ...,  0.6235,  0.8902,  0.9608]],\n",
            "\n",
            "         [[ 0.6784,  0.6627,  0.6784,  ...,  0.8196,  0.8196,  0.8118],\n",
            "          [ 0.6627,  0.6471,  0.6627,  ...,  0.7961,  0.7961,  0.7882],\n",
            "          [ 0.6706,  0.6627,  0.6706,  ...,  0.7961,  0.7961,  0.7882],\n",
            "          ...,\n",
            "          [ 0.8902,  0.8588,  0.8588,  ...,  0.7882,  0.5686,  0.5373],\n",
            "          [ 0.9294,  0.8980,  0.9059,  ...,  0.4902,  0.5608,  0.8353],\n",
            "          [ 0.9373,  0.9137,  0.9216,  ...,  0.6000,  0.8745,  0.9373]],\n",
            "\n",
            "         [[ 0.6863,  0.6706,  0.6863,  ...,  0.8196,  0.8196,  0.8118],\n",
            "          [ 0.6706,  0.6549,  0.6706,  ...,  0.7961,  0.7961,  0.7882],\n",
            "          [ 0.6784,  0.6706,  0.6784,  ...,  0.7961,  0.7961,  0.7882],\n",
            "          ...,\n",
            "          [ 0.8667,  0.8353,  0.8353,  ...,  0.7490,  0.5294,  0.4980],\n",
            "          [ 0.9059,  0.8745,  0.8824,  ...,  0.4510,  0.5216,  0.7961],\n",
            "          [ 0.9137,  0.8902,  0.8980,  ...,  0.5608,  0.8353,  0.8980]]],\n",
            "\n",
            "\n",
            "        ...,\n",
            "\n",
            "\n",
            "        [[[ 0.2235,  0.3098,  0.2706,  ...,  0.1294,  0.1686,  0.1686],\n",
            "          [ 0.1529,  0.2235,  0.2392,  ...,  0.0275,  0.0745,  0.0902],\n",
            "          [ 0.1608,  0.1294,  0.1843,  ...,  0.2000,  0.2157,  0.2549],\n",
            "          ...,\n",
            "          [-0.2235, -0.2471, -0.2078,  ..., -0.0039, -0.0118, -0.2314],\n",
            "          [-0.1843, -0.1294, -0.0902,  ..., -0.0667, -0.0824, -0.2314],\n",
            "          [-0.2471, -0.1922, -0.2314,  ..., -0.0824, -0.2000, -0.2706]],\n",
            "\n",
            "         [[ 0.0980,  0.1843,  0.1373,  ...,  0.0588,  0.0980,  0.0902],\n",
            "          [ 0.0039,  0.0745,  0.0980,  ...,  0.0039,  0.0510,  0.0353],\n",
            "          [ 0.0039, -0.0039,  0.0588,  ...,  0.0039,  0.0196,  0.0667],\n",
            "          ...,\n",
            "          [-0.4510, -0.4824, -0.4275,  ..., -0.2235, -0.2314, -0.4431],\n",
            "          [-0.3961, -0.3412, -0.2941,  ..., -0.2863, -0.3020, -0.4353],\n",
            "          [-0.4431, -0.3882, -0.4353,  ..., -0.3098, -0.4275, -0.4824]],\n",
            "\n",
            "         [[-0.0980,  0.0039, -0.0196,  ..., -0.2549, -0.2157, -0.1843],\n",
            "          [-0.1686, -0.1137, -0.0980,  ..., -0.3961, -0.3490, -0.3176],\n",
            "          [-0.1765, -0.2157, -0.1451,  ..., -0.2157, -0.1843, -0.1294],\n",
            "          ...,\n",
            "          [-0.7020, -0.7333, -0.6706,  ..., -0.4980, -0.5059, -0.6627],\n",
            "          [-0.5922, -0.5451, -0.5059,  ..., -0.5686, -0.5843, -0.6706],\n",
            "          [-0.6784, -0.6157, -0.6549,  ..., -0.5686, -0.6863, -0.7020]]],\n",
            "\n",
            "\n",
            "        [[[ 0.0431,  0.0431,  0.1373,  ...,  0.1843,  0.1373,  0.1608],\n",
            "          [ 0.0980,  0.0431,  0.1373,  ...,  0.1451,  0.1059,  0.1686],\n",
            "          [ 0.1373,  0.1216,  0.0824,  ...,  0.1451,  0.0745,  0.2157],\n",
            "          ...,\n",
            "          [ 0.2314,  0.2627,  0.3255,  ...,  0.3412,  0.3255,  0.3725],\n",
            "          [ 0.0980,  0.0980,  0.1922,  ...,  0.3176,  0.2706,  0.2784],\n",
            "          [ 0.1373,  0.0824,  0.1294,  ...,  0.1451,  0.1686,  0.2078]],\n",
            "\n",
            "         [[-0.1765, -0.1765, -0.0824,  ..., -0.0431, -0.0824, -0.0510],\n",
            "          [-0.1294, -0.1765, -0.0824,  ..., -0.0275, -0.0824, -0.0588],\n",
            "          [-0.0902, -0.0980, -0.1373,  ..., -0.0118, -0.1059, -0.0118],\n",
            "          ...,\n",
            "          [-0.0667, -0.0431,  0.0118,  ...,  0.0275,  0.0118,  0.0510],\n",
            "          [-0.1922, -0.1922, -0.0980,  ..., -0.0196, -0.0667, -0.0588],\n",
            "          [-0.1686, -0.2078, -0.1686,  ..., -0.1765, -0.1529, -0.1137]],\n",
            "\n",
            "         [[-0.3569, -0.3490, -0.2549,  ..., -0.2157, -0.2549, -0.2314],\n",
            "          [-0.3020, -0.3490, -0.2549,  ..., -0.2157, -0.2627, -0.2314],\n",
            "          [-0.2627, -0.2706, -0.3098,  ..., -0.2078, -0.2941, -0.1843],\n",
            "          ...,\n",
            "          [-0.4902, -0.4667, -0.4118,  ..., -0.3255, -0.3333, -0.2784],\n",
            "          [-0.6078, -0.6000, -0.4980,  ..., -0.3490, -0.3882, -0.3882],\n",
            "          [-0.5529, -0.5843, -0.5451,  ..., -0.5059, -0.4824, -0.4431]]],\n",
            "\n",
            "\n",
            "        [[[ 0.2078, -0.2549, -0.1294,  ...,  0.0353, -0.1765,  0.2235],\n",
            "          [-0.3176,  0.2471,  0.2314,  ...,  0.7490,  0.3725, -0.2784],\n",
            "          [-0.0745,  0.3098,  0.4353,  ...,  0.8980,  0.7333,  0.0039],\n",
            "          ...,\n",
            "          [ 0.1843,  0.7804,  0.9137,  ...,  0.8275,  0.8353,  0.2235],\n",
            "          [-0.2471,  0.6078,  0.8510,  ...,  0.8902,  0.6471, -0.2235],\n",
            "          [-0.1216,  0.0039,  0.4980,  ...,  0.5216,  0.0118, -0.1608]],\n",
            "\n",
            "         [[ 0.4980,  0.1608,  0.3333,  ...,  0.4039,  0.1529,  0.4824],\n",
            "          [ 0.1373,  0.5765,  0.4353,  ...,  0.9451,  0.6706,  0.1137],\n",
            "          [ 0.4118,  0.5216,  0.4510,  ...,  0.9686,  0.9451,  0.3961],\n",
            "          ...,\n",
            "          [ 0.5529,  0.9686,  0.9843,  ...,  0.7647,  0.9373,  0.5529],\n",
            "          [ 0.1686,  0.8510,  0.9608,  ...,  0.9373,  0.8510,  0.1922],\n",
            "          [ 0.2314,  0.3098,  0.7333,  ...,  0.7412,  0.3412,  0.2471]],\n",
            "\n",
            "         [[ 0.2471, -0.2471, -0.1294,  ...,  0.0431, -0.1922,  0.1843],\n",
            "          [-0.3098,  0.2627,  0.2549,  ...,  0.7255,  0.3647, -0.2706],\n",
            "          [-0.0824,  0.3333,  0.4667,  ...,  0.8667,  0.7490,  0.0510],\n",
            "          ...,\n",
            "          [ 0.1608,  0.7725,  0.9137,  ...,  0.7098,  0.7647,  0.2392],\n",
            "          [-0.2706,  0.6000,  0.8588,  ...,  0.8118,  0.6078, -0.2000],\n",
            "          [-0.1294,  0.0039,  0.5059,  ...,  0.5137,  0.0275, -0.1137]]]])\n",
            "Label:  tensor([88, 97,  8, 90, 31, 72, 65, 87, 64,  0,  3, 12, 87, 19, 76, 44, 49, 77,\n",
            "        93, 15, 30, 21, 46, 60, 90, 87, 89, 54, 36, 79, 65, 94, 69, 49, 91, 19,\n",
            "        22, 13, 14, 37, 44, 72, 50, 10, 53, 79, 89, 55, 15, 78,  1, 98, 13, 59,\n",
            "         4, 39,  6, 17, 33, 52, 76, 97, 41, 47, 53, 10, 85, 98, 74, 86, 43, 41,\n",
            "        58, 49, 48, 48, 25, 70, 48, 38, 54, 66, 61, 46, 24, 13, 90,  7, 27, 93,\n",
            "        68, 55, 49, 55, 86, 21, 10, 71, 40, 51, 63, 17, 27, 53, 53, 83, 29, 95,\n",
            "        98, 52, 84, 93, 14, 91, 23, 77, 82, 15, 61,  4, 28, 92, 19,  5, 64, 79,\n",
            "        38, 41])\n"
          ]
        }
      ]
    },
    {
      "cell_type": "code",
      "source": [
        "classes = ['apple', 'aquarium_fish', 'baby', 'bear', 'beaver', 'bed', 'bee', 'beetle', 'bicycle', 'bottle', 'bowl', 'boy', 'bridge', 'bus', 'butterfly', \n",
        "                    'camel', 'can', 'castle', 'caterpillar', 'cattle', 'chair', 'chimpanzee', 'clock', 'cloud', 'cockroach', 'couch', 'crab', 'crocodile', 'cup', \n",
        "                    'dinosaur', 'dolphin', 'elephant', 'flatfish', 'forest', 'fox', 'girl', 'hamster', 'house', 'kangaroo', 'computer_keyboard', \n",
        "                    'lamp', 'lawn_mower', 'leopard', 'lion', 'lizard', 'lobster', 'man', 'maple_tree', 'motorcycle', 'mountain', 'mouse', 'mushroom', \n",
        "                    'oak_tree', 'orange', 'orchid', 'otter', 'palm_tree', 'pear', 'pickup_truck', 'pine_tree', 'plain', 'plate', 'poppy', 'porcupine', 'possum', \n",
        "                    'rabbit', 'raccoon', 'ray', 'road', 'rocket', 'rose', \n",
        "                    'sea', 'seal', 'shark', 'shrew', 'skunk', 'skyscraper', 'snail', 'snake', 'spider', 'squirrel', 'streetcar', 'sunflower', 'sweet_pepper', \n",
        "                    'table', 'tank', 'telephone', 'television', 'tiger', 'tractor', 'train', 'trout', 'tulip', 'turtle', \n",
        "                    'wardrobe', 'whale', 'willow_tree', 'wolf', 'woman', 'worm']"
      ],
      "metadata": {
        "id": "2l1bOzjT--KQ"
      },
      "execution_count": 4,
      "outputs": []
    },
    {
      "cell_type": "code",
      "source": [
        "def imshow(img):\n",
        "    img = img / 2 + 0.5     # unnormalize\n",
        "    npimg = img.numpy()\n",
        "    plt.imshow(np.transpose(npimg, (1, 2, 0)))\n",
        "    plt.show()\n",
        "\n",
        "\n",
        "# get some random training images\n",
        "dataiter = iter(train_loader)\n",
        "images, labels = dataiter.next()\n",
        "\n",
        "# show images\n",
        "imshow(torchvision.utils.make_grid(images))\n",
        "# print labels\n",
        "print(' '.join(f'{classes[labels[j]]:5s}' for j in range(5)))"
      ],
      "metadata": {
        "colab": {
          "base_uri": "https://localhost:8080/",
          "height": 286
        },
        "id": "wgpFiYap9d1B",
        "outputId": "097b079f-4526-410b-cdb9-5cf1572ef600"
      },
      "execution_count": 34,
      "outputs": [
        {
          "output_type": "display_data",
          "data": {
            "image/png": "[encoded data removed]",
            "text/plain": [
              "<Figure size 432x288 with 1 Axes>"
            ]
          },
          "metadata": {
            "needs_background": "light"
          }
        },
        {
          "output_type": "stream",
          "name": "stdout",
          "text": [
            "snail shrew maple_tree bottle bottle\n"
          ]
        }
      ]
    },
    {
      "cell_type": "code",
      "execution_count": 35,
      "metadata": {
        "id": "jWkyYd2zL9p2",
        "outputId": "d96f9215-5854-42aa-fa2a-d9b3dc21c6ec",
        "colab": {
          "base_uri": "https://localhost:8080/"
        }
      },
      "outputs": [
        {
          "output_type": "stream",
          "name": "stdout",
          "text": [
            "Net(\n",
            "  (dp_three): Dropout(p=0.2, inplace=False)\n",
            "  (dp_four): Dropout(p=0.2, inplace=False)\n",
            "  (bn_one): BatchNorm2d(3, eps=1e-05, momentum=0.1, affine=True, track_running_stats=True)\n",
            "  (conv_one): Conv2d(3, 30, kernel_size=(3, 3), stride=(1, 1))\n",
            "  (bn_two): BatchNorm2d(30, eps=1e-05, momentum=0.1, affine=True, track_running_stats=True)\n",
            "  (conv_two): Conv2d(30, 60, kernel_size=(3, 3), stride=(1, 1))\n",
            "  (bn_three): BatchNorm2d(60, eps=1e-05, momentum=0.1, affine=True, track_running_stats=True)\n",
            "  (conv_three): Conv2d(60, 120, kernel_size=(3, 3), stride=(1, 1))\n",
            "  (bn_four): BatchNorm2d(120, eps=1e-05, momentum=0.1, affine=True, track_running_stats=True)\n",
            "  (fc1): Linear(in_features=480, out_features=200, bias=True)\n",
            "  (fc2): Linear(in_features=200, out_features=60, bias=True)\n",
            "  (out): Linear(in_features=60, out_features=100, bias=True)\n",
            ")\n"
          ]
        }
      ],
      "source": [
        "class Net(nn.Module):\n",
        "\n",
        "    def __init__(self):\n",
        "        super(Net, self).__init__()\n",
        "        self.dp_three = nn.Dropout(0.2)\n",
        "        self.dp_four = nn.Dropout(0.2)\n",
        "        \n",
        "        self.bn_one = torch.nn.BatchNorm2d(3) \n",
        "        self.conv_one = torch.nn.Conv2d(3, 30, 3)\n",
        "        self.bn_two = torch.nn.BatchNorm2d(30) \n",
        "        self.conv_two = torch.nn.Conv2d(30, 60, 3)\n",
        "        self.bn_three = torch.nn.BatchNorm2d(60)\n",
        "        self.conv_three = torch.nn.Conv2d(60, 120, 3)\n",
        "        self.bn_four = torch.nn.BatchNorm2d(120)\n",
        "        self.fc1 = torch.nn.Linear(480, 200)\n",
        "        self.fc2 = torch.nn.Linear(200, 60)\n",
        "        self.out = torch.nn.Linear(60, 100)\n",
        "        \n",
        "        \n",
        "    def forward(self, x):\n",
        "        #x = self.bn_one(x)\n",
        "        x = self.conv_one(x)\n",
        "        x = F.relu(x)\n",
        "        x = F.max_pool2d(x, 2)\n",
        "        \n",
        "        x = self.bn_two(x)\n",
        "        x = self.conv_two(x)\n",
        "        x = F.relu(x)\n",
        "        x = F.max_pool2d(x, 2)\n",
        "        \n",
        "        x = self.bn_three(x)\n",
        "        x = self.conv_three(x)\n",
        "        x = F.relu(x)\n",
        "        x = F.max_pool2d(x, 2)\n",
        "        \n",
        "        x = self.bn_four(x)\n",
        "        x = x.view(x.size(0), -1)\n",
        "        x = self.dp_three(x)\n",
        "        x = self.fc1(x)\n",
        "        x = F.relu(x)\n",
        "        x = self.dp_four(x)\n",
        "        x = self.fc2(x)\n",
        "        x = F.relu(x)\n",
        "        return self.out(x)\n",
        "       \n",
        "net = Net()\n",
        "print(net)"
      ]
    },
    {
      "cell_type": "code",
      "execution_count": 36,
      "metadata": {
        "id": "3pFObb9NL9p3"
      },
      "outputs": [],
      "source": [
        "optimizer = torch.optim.Adam(net.parameters(), lr=0.0001)\n",
        "criterion = nn.CrossEntropyLoss()"
      ]
    },
    {
      "cell_type": "code",
      "execution_count": 29,
      "metadata": {
        "id": "dHc9u-XmL9p3",
        "outputId": "ed498454-93e2-4ad4-c7ce-5294e770dbab",
        "colab": {
          "base_uri": "https://localhost:8080/"
        }
      },
      "outputs": [
        {
          "metadata": {
            "tags": null
          },
          "name": "stderr",
          "output_type": "stream",
          "text": [
            " 10%|█         | 1/10 [00:41<06:15, 41.77s/it]"
          ]
        },
        {
          "metadata": {
            "tags": null
          },
          "name": "stdout",
          "output_type": "stream",
          "text": [
            "Epoch 0 valid_loss 84.167236328125\n"
          ]
        },
        {
          "metadata": {
            "tags": null
          },
          "name": "stderr",
          "output_type": "stream",
          "text": [
            "\r 20%|██        | 2/10 [01:23<05:32, 41.53s/it]"
          ]
        },
        {
          "metadata": {
            "tags": null
          },
          "name": "stdout",
          "output_type": "stream",
          "text": [
            "Epoch 1 valid_loss 77.42247009277344\n"
          ]
        },
        {
          "metadata": {
            "tags": null
          },
          "name": "stderr",
          "output_type": "stream",
          "text": [
            "\r 30%|███       | 3/10 [02:05<04:52, 41.84s/it]"
          ]
        },
        {
          "metadata": {
            "tags": null
          },
          "name": "stdout",
          "output_type": "stream",
          "text": [
            "Epoch 2 valid_loss 73.78138732910156\n"
          ]
        },
        {
          "output_type": "stream",
          "name": "stderr",
          "text": [
            "\r 40%|████      | 4/10 [02:47<04:11, 41.88s/it]"
          ]
        },
        {
          "output_type": "stream",
          "name": "stdout",
          "text": [
            "Epoch 3 valid_loss 71.48516082763672\n"
          ]
        },
        {
          "output_type": "stream",
          "name": "stderr",
          "text": [
            "\r 50%|█████     | 5/10 [03:29<03:29, 41.90s/it]"
          ]
        },
        {
          "output_type": "stream",
          "name": "stdout",
          "text": [
            "Epoch 4 valid_loss 70.37422943115234\n"
          ]
        },
        {
          "output_type": "stream",
          "name": "stderr",
          "text": [
            "\r 60%|██████    | 6/10 [04:11<02:47, 41.96s/it]"
          ]
        },
        {
          "output_type": "stream",
          "name": "stdout",
          "text": [
            "Epoch 5 valid_loss 68.70604705810547\n"
          ]
        },
        {
          "output_type": "stream",
          "name": "stderr",
          "text": [
            "\r 70%|███████   | 7/10 [04:53<02:05, 41.88s/it]"
          ]
        },
        {
          "output_type": "stream",
          "name": "stdout",
          "text": [
            "Epoch 6 valid_loss 67.22708892822266\n"
          ]
        },
        {
          "output_type": "stream",
          "name": "stderr",
          "text": [
            "\r 80%|████████  | 8/10 [05:34<01:23, 41.89s/it]"
          ]
        },
        {
          "output_type": "stream",
          "name": "stdout",
          "text": [
            "Epoch 7 valid_loss 66.23456573486328\n"
          ]
        },
        {
          "output_type": "stream",
          "name": "stderr",
          "text": [
            "\r 90%|█████████ | 9/10 [06:16<00:41, 41.92s/it]"
          ]
        },
        {
          "output_type": "stream",
          "name": "stdout",
          "text": [
            "Epoch 8 valid_loss 64.93138885498047\n"
          ]
        },
        {
          "output_type": "stream",
          "name": "stderr",
          "text": [
            "100%|██████████| 10/10 [06:58<00:00, 41.88s/it]"
          ]
        },
        {
          "output_type": "stream",
          "name": "stdout",
          "text": [
            "Epoch 9 valid_loss 64.1535415649414\n",
            "Training is finished!\n"
          ]
        },
        {
          "output_type": "stream",
          "name": "stderr",
          "text": [
            "\n"
          ]
        }
      ],
      "source": [
        "for epoch in tqdm(range(10)):  \n",
        "    net.train()\n",
        "    for i, data in enumerate(train_loader, 0):\n",
        "        inputs, labels = data[0], data[1]\n",
        "        optimizer.zero_grad()\n",
        "\n",
        "        outputs = net(inputs)\n",
        "        loss = criterion(outputs, labels)\n",
        "        loss.backward()\n",
        "        optimizer.step()\n",
        "        \n",
        "    net.eval()\n",
        "    loss_accumed = 0\n",
        "    for X, y in valid_loader:\n",
        "        output = net(X)\n",
        "        loss = criterion(output, y)\n",
        "        loss_accumed += loss\n",
        "    print(\"Epoch {} valid_loss {}\".format(epoch, loss_accumed))\n",
        "\n",
        "print('Training is finished!')"
      ]
    },
    {
      "cell_type": "markdown",
      "metadata": {
        "id": "WyNArvqeL9p4"
      },
      "source": [
        "# используем претрейнед сеть"
      ]
    },
    {
      "cell_type": "code",
      "source": [
        "device = torch.device('cuda' if torch.cuda.is_available() else 'cpu')\n",
        "device"
      ],
      "metadata": {
        "colab": {
          "base_uri": "https://localhost:8080/"
        },
        "id": "tRisRnfHTy57",
        "outputId": "303ee2bc-f9bc-4cd9-f1f4-fd14bb68ead0"
      },
      "execution_count": 5,
      "outputs": [
        {
          "output_type": "execute_result",
          "data": {
            "text/plain": [
              "device(type='cuda')"
            ]
          },
          "metadata": {},
          "execution_count": 5
        }
      ]
    },
    {
      "cell_type": "code",
      "execution_count": 6,
      "metadata": {
        "id": "LMNaxeQmL9p5",
        "colab": {
          "base_uri": "https://localhost:8080/"
        },
        "outputId": "361185fd-e59f-4ef5-f0d6-586ec45e3847"
      },
      "outputs": [
        {
          "output_type": "execute_result",
          "data": {
            "text/plain": [
              "ResNet(\n",
              "  (conv1): Conv2d(3, 64, kernel_size=(7, 7), stride=(2, 2), padding=(3, 3), bias=False)\n",
              "  (bn1): BatchNorm2d(64, eps=1e-05, momentum=0.1, affine=True, track_running_stats=True)\n",
              "  (relu): ReLU(inplace=True)\n",
              "  (maxpool): MaxPool2d(kernel_size=3, stride=2, padding=1, dilation=1, ceil_mode=False)\n",
              "  (layer1): Sequential(\n",
              "    (0): Bottleneck(\n",
              "      (conv1): Conv2d(64, 64, kernel_size=(1, 1), stride=(1, 1), bias=False)\n",
              "      (bn1): BatchNorm2d(64, eps=1e-05, momentum=0.1, affine=True, track_running_stats=True)\n",
              "      (conv2): Conv2d(64, 64, kernel_size=(3, 3), stride=(1, 1), padding=(1, 1), bias=False)\n",
              "      (bn2): BatchNorm2d(64, eps=1e-05, momentum=0.1, affine=True, track_running_stats=True)\n",
              "      (conv3): Conv2d(64, 256, kernel_size=(1, 1), stride=(1, 1), bias=False)\n",
              "      (bn3): BatchNorm2d(256, eps=1e-05, momentum=0.1, affine=True, track_running_stats=True)\n",
              "      (relu): ReLU(inplace=True)\n",
              "      (downsample): Sequential(\n",
              "        (0): Conv2d(64, 256, kernel_size=(1, 1), stride=(1, 1), bias=False)\n",
              "        (1): BatchNorm2d(256, eps=1e-05, momentum=0.1, affine=True, track_running_stats=True)\n",
              "      )\n",
              "    )\n",
              "    (1): Bottleneck(\n",
              "      (conv1): Conv2d(256, 64, kernel_size=(1, 1), stride=(1, 1), bias=False)\n",
              "      (bn1): BatchNorm2d(64, eps=1e-05, momentum=0.1, affine=True, track_running_stats=True)\n",
              "      (conv2): Conv2d(64, 64, kernel_size=(3, 3), stride=(1, 1), padding=(1, 1), bias=False)\n",
              "      (bn2): BatchNorm2d(64, eps=1e-05, momentum=0.1, affine=True, track_running_stats=True)\n",
              "      (conv3): Conv2d(64, 256, kernel_size=(1, 1), stride=(1, 1), bias=False)\n",
              "      (bn3): BatchNorm2d(256, eps=1e-05, momentum=0.1, affine=True, track_running_stats=True)\n",
              "      (relu): ReLU(inplace=True)\n",
              "    )\n",
              "    (2): Bottleneck(\n",
              "      (conv1): Conv2d(256, 64, kernel_size=(1, 1), stride=(1, 1), bias=False)\n",
              "      (bn1): BatchNorm2d(64, eps=1e-05, momentum=0.1, affine=True, track_running_stats=True)\n",
              "      (conv2): Conv2d(64, 64, kernel_size=(3, 3), stride=(1, 1), padding=(1, 1), bias=False)\n",
              "      (bn2): BatchNorm2d(64, eps=1e-05, momentum=0.1, affine=True, track_running_stats=True)\n",
              "      (conv3): Conv2d(64, 256, kernel_size=(1, 1), stride=(1, 1), bias=False)\n",
              "      (bn3): BatchNorm2d(256, eps=1e-05, momentum=0.1, affine=True, track_running_stats=True)\n",
              "      (relu): ReLU(inplace=True)\n",
              "    )\n",
              "  )\n",
              "  (layer2): Sequential(\n",
              "    (0): Bottleneck(\n",
              "      (conv1): Conv2d(256, 128, kernel_size=(1, 1), stride=(1, 1), bias=False)\n",
              "      (bn1): BatchNorm2d(128, eps=1e-05, momentum=0.1, affine=True, track_running_stats=True)\n",
              "      (conv2): Conv2d(128, 128, kernel_size=(3, 3), stride=(2, 2), padding=(1, 1), bias=False)\n",
              "      (bn2): BatchNorm2d(128, eps=1e-05, momentum=0.1, affine=True, track_running_stats=True)\n",
              "      (conv3): Conv2d(128, 512, kernel_size=(1, 1), stride=(1, 1), bias=False)\n",
              "      (bn3): BatchNorm2d(512, eps=1e-05, momentum=0.1, affine=True, track_running_stats=True)\n",
              "      (relu): ReLU(inplace=True)\n",
              "      (downsample): Sequential(\n",
              "        (0): Conv2d(256, 512, kernel_size=(1, 1), stride=(2, 2), bias=False)\n",
              "        (1): BatchNorm2d(512, eps=1e-05, momentum=0.1, affine=True, track_running_stats=True)\n",
              "      )\n",
              "    )\n",
              "    (1): Bottleneck(\n",
              "      (conv1): Conv2d(512, 128, kernel_size=(1, 1), stride=(1, 1), bias=False)\n",
              "      (bn1): BatchNorm2d(128, eps=1e-05, momentum=0.1, affine=True, track_running_stats=True)\n",
              "      (conv2): Conv2d(128, 128, kernel_size=(3, 3), stride=(1, 1), padding=(1, 1), bias=False)\n",
              "      (bn2): BatchNorm2d(128, eps=1e-05, momentum=0.1, affine=True, track_running_stats=True)\n",
              "      (conv3): Conv2d(128, 512, kernel_size=(1, 1), stride=(1, 1), bias=False)\n",
              "      (bn3): BatchNorm2d(512, eps=1e-05, momentum=0.1, affine=True, track_running_stats=True)\n",
              "      (relu): ReLU(inplace=True)\n",
              "    )\n",
              "    (2): Bottleneck(\n",
              "      (conv1): Conv2d(512, 128, kernel_size=(1, 1), stride=(1, 1), bias=False)\n",
              "      (bn1): BatchNorm2d(128, eps=1e-05, momentum=0.1, affine=True, track_running_stats=True)\n",
              "      (conv2): Conv2d(128, 128, kernel_size=(3, 3), stride=(1, 1), padding=(1, 1), bias=False)\n",
              "      (bn2): BatchNorm2d(128, eps=1e-05, momentum=0.1, affine=True, track_running_stats=True)\n",
              "      (conv3): Conv2d(128, 512, kernel_size=(1, 1), stride=(1, 1), bias=False)\n",
              "      (bn3): BatchNorm2d(512, eps=1e-05, momentum=0.1, affine=True, track_running_stats=True)\n",
              "      (relu): ReLU(inplace=True)\n",
              "    )\n",
              "    (3): Bottleneck(\n",
              "      (conv1): Conv2d(512, 128, kernel_size=(1, 1), stride=(1, 1), bias=False)\n",
              "      (bn1): BatchNorm2d(128, eps=1e-05, momentum=0.1, affine=True, track_running_stats=True)\n",
              "      (conv2): Conv2d(128, 128, kernel_size=(3, 3), stride=(1, 1), padding=(1, 1), bias=False)\n",
              "      (bn2): BatchNorm2d(128, eps=1e-05, momentum=0.1, affine=True, track_running_stats=True)\n",
              "      (conv3): Conv2d(128, 512, kernel_size=(1, 1), stride=(1, 1), bias=False)\n",
              "      (bn3): BatchNorm2d(512, eps=1e-05, momentum=0.1, affine=True, track_running_stats=True)\n",
              "      (relu): ReLU(inplace=True)\n",
              "    )\n",
              "  )\n",
              "  (layer3): Sequential(\n",
              "    (0): Bottleneck(\n",
              "      (conv1): Conv2d(512, 256, kernel_size=(1, 1), stride=(1, 1), bias=False)\n",
              "      (bn1): BatchNorm2d(256, eps=1e-05, momentum=0.1, affine=True, track_running_stats=True)\n",
              "      (conv2): Conv2d(256, 256, kernel_size=(3, 3), stride=(2, 2), padding=(1, 1), bias=False)\n",
              "      (bn2): BatchNorm2d(256, eps=1e-05, momentum=0.1, affine=True, track_running_stats=True)\n",
              "      (conv3): Conv2d(256, 1024, kernel_size=(1, 1), stride=(1, 1), bias=False)\n",
              "      (bn3): BatchNorm2d(1024, eps=1e-05, momentum=0.1, affine=True, track_running_stats=True)\n",
              "      (relu): ReLU(inplace=True)\n",
              "      (downsample): Sequential(\n",
              "        (0): Conv2d(512, 1024, kernel_size=(1, 1), stride=(2, 2), bias=False)\n",
              "        (1): BatchNorm2d(1024, eps=1e-05, momentum=0.1, affine=True, track_running_stats=True)\n",
              "      )\n",
              "    )\n",
              "    (1): Bottleneck(\n",
              "      (conv1): Conv2d(1024, 256, kernel_size=(1, 1), stride=(1, 1), bias=False)\n",
              "      (bn1): BatchNorm2d(256, eps=1e-05, momentum=0.1, affine=True, track_running_stats=True)\n",
              "      (conv2): Conv2d(256, 256, kernel_size=(3, 3), stride=(1, 1), padding=(1, 1), bias=False)\n",
              "      (bn2): BatchNorm2d(256, eps=1e-05, momentum=0.1, affine=True, track_running_stats=True)\n",
              "      (conv3): Conv2d(256, 1024, kernel_size=(1, 1), stride=(1, 1), bias=False)\n",
              "      (bn3): BatchNorm2d(1024, eps=1e-05, momentum=0.1, affine=True, track_running_stats=True)\n",
              "      (relu): ReLU(inplace=True)\n",
              "    )\n",
              "    (2): Bottleneck(\n",
              "      (conv1): Conv2d(1024, 256, kernel_size=(1, 1), stride=(1, 1), bias=False)\n",
              "      (bn1): BatchNorm2d(256, eps=1e-05, momentum=0.1, affine=True, track_running_stats=True)\n",
              "      (conv2): Conv2d(256, 256, kernel_size=(3, 3), stride=(1, 1), padding=(1, 1), bias=False)\n",
              "      (bn2): BatchNorm2d(256, eps=1e-05, momentum=0.1, affine=True, track_running_stats=True)\n",
              "      (conv3): Conv2d(256, 1024, kernel_size=(1, 1), stride=(1, 1), bias=False)\n",
              "      (bn3): BatchNorm2d(1024, eps=1e-05, momentum=0.1, affine=True, track_running_stats=True)\n",
              "      (relu): ReLU(inplace=True)\n",
              "    )\n",
              "    (3): Bottleneck(\n",
              "      (conv1): Conv2d(1024, 256, kernel_size=(1, 1), stride=(1, 1), bias=False)\n",
              "      (bn1): BatchNorm2d(256, eps=1e-05, momentum=0.1, affine=True, track_running_stats=True)\n",
              "      (conv2): Conv2d(256, 256, kernel_size=(3, 3), stride=(1, 1), padding=(1, 1), bias=False)\n",
              "      (bn2): BatchNorm2d(256, eps=1e-05, momentum=0.1, affine=True, track_running_stats=True)\n",
              "      (conv3): Conv2d(256, 1024, kernel_size=(1, 1), stride=(1, 1), bias=False)\n",
              "      (bn3): BatchNorm2d(1024, eps=1e-05, momentum=0.1, affine=True, track_running_stats=True)\n",
              "      (relu): ReLU(inplace=True)\n",
              "    )\n",
              "    (4): Bottleneck(\n",
              "      (conv1): Conv2d(1024, 256, kernel_size=(1, 1), stride=(1, 1), bias=False)\n",
              "      (bn1): BatchNorm2d(256, eps=1e-05, momentum=0.1, affine=True, track_running_stats=True)\n",
              "      (conv2): Conv2d(256, 256, kernel_size=(3, 3), stride=(1, 1), padding=(1, 1), bias=False)\n",
              "      (bn2): BatchNorm2d(256, eps=1e-05, momentum=0.1, affine=True, track_running_stats=True)\n",
              "      (conv3): Conv2d(256, 1024, kernel_size=(1, 1), stride=(1, 1), bias=False)\n",
              "      (bn3): BatchNorm2d(1024, eps=1e-05, momentum=0.1, affine=True, track_running_stats=True)\n",
              "      (relu): ReLU(inplace=True)\n",
              "    )\n",
              "    (5): Bottleneck(\n",
              "      (conv1): Conv2d(1024, 256, kernel_size=(1, 1), stride=(1, 1), bias=False)\n",
              "      (bn1): BatchNorm2d(256, eps=1e-05, momentum=0.1, affine=True, track_running_stats=True)\n",
              "      (conv2): Conv2d(256, 256, kernel_size=(3, 3), stride=(1, 1), padding=(1, 1), bias=False)\n",
              "      (bn2): BatchNorm2d(256, eps=1e-05, momentum=0.1, affine=True, track_running_stats=True)\n",
              "      (conv3): Conv2d(256, 1024, kernel_size=(1, 1), stride=(1, 1), bias=False)\n",
              "      (bn3): BatchNorm2d(1024, eps=1e-05, momentum=0.1, affine=True, track_running_stats=True)\n",
              "      (relu): ReLU(inplace=True)\n",
              "    )\n",
              "  )\n",
              "  (layer4): Sequential(\n",
              "    (0): Bottleneck(\n",
              "      (conv1): Conv2d(1024, 512, kernel_size=(1, 1), stride=(1, 1), bias=False)\n",
              "      (bn1): BatchNorm2d(512, eps=1e-05, momentum=0.1, affine=True, track_running_stats=True)\n",
              "      (conv2): Conv2d(512, 512, kernel_size=(3, 3), stride=(2, 2), padding=(1, 1), bias=False)\n",
              "      (bn2): BatchNorm2d(512, eps=1e-05, momentum=0.1, affine=True, track_running_stats=True)\n",
              "      (conv3): Conv2d(512, 2048, kernel_size=(1, 1), stride=(1, 1), bias=False)\n",
              "      (bn3): BatchNorm2d(2048, eps=1e-05, momentum=0.1, affine=True, track_running_stats=True)\n",
              "      (relu): ReLU(inplace=True)\n",
              "      (downsample): Sequential(\n",
              "        (0): Conv2d(1024, 2048, kernel_size=(1, 1), stride=(2, 2), bias=False)\n",
              "        (1): BatchNorm2d(2048, eps=1e-05, momentum=0.1, affine=True, track_running_stats=True)\n",
              "      )\n",
              "    )\n",
              "    (1): Bottleneck(\n",
              "      (conv1): Conv2d(2048, 512, kernel_size=(1, 1), stride=(1, 1), bias=False)\n",
              "      (bn1): BatchNorm2d(512, eps=1e-05, momentum=0.1, affine=True, track_running_stats=True)\n",
              "      (conv2): Conv2d(512, 512, kernel_size=(3, 3), stride=(1, 1), padding=(1, 1), bias=False)\n",
              "      (bn2): BatchNorm2d(512, eps=1e-05, momentum=0.1, affine=True, track_running_stats=True)\n",
              "      (conv3): Conv2d(512, 2048, kernel_size=(1, 1), stride=(1, 1), bias=False)\n",
              "      (bn3): BatchNorm2d(2048, eps=1e-05, momentum=0.1, affine=True, track_running_stats=True)\n",
              "      (relu): ReLU(inplace=True)\n",
              "    )\n",
              "    (2): Bottleneck(\n",
              "      (conv1): Conv2d(2048, 512, kernel_size=(1, 1), stride=(1, 1), bias=False)\n",
              "      (bn1): BatchNorm2d(512, eps=1e-05, momentum=0.1, affine=True, track_running_stats=True)\n",
              "      (conv2): Conv2d(512, 512, kernel_size=(3, 3), stride=(1, 1), padding=(1, 1), bias=False)\n",
              "      (bn2): BatchNorm2d(512, eps=1e-05, momentum=0.1, affine=True, track_running_stats=True)\n",
              "      (conv3): Conv2d(512, 2048, kernel_size=(1, 1), stride=(1, 1), bias=False)\n",
              "      (bn3): BatchNorm2d(2048, eps=1e-05, momentum=0.1, affine=True, track_running_stats=True)\n",
              "      (relu): ReLU(inplace=True)\n",
              "    )\n",
              "  )\n",
              "  (avgpool): AdaptiveAvgPool2d(output_size=(1, 1))\n",
              "  (fc): Linear(in_features=2048, out_features=1000, bias=True)\n",
              ")"
            ]
          },
          "metadata": {},
          "execution_count": 6
        }
      ],
      "source": [
        "from torchvision import models\n",
        "import torchvision.transforms as T\n",
        "\n",
        "resnet50 = models.resnet50(pretrained=True)\n",
        "resnet50.to(device)\n",
        "\n",
        "#resnet18 = models.resnet18(pretrained=True)\n",
        "#alexnet = models.alexnet(pretrained=True)\n",
        "#vgg16 = models.vgg16(pretrained=True)\n",
        "#inception = models.inception_v3(pretrained=True)"
      ]
    },
    {
      "cell_type": "code",
      "execution_count": null,
      "metadata": {
        "id": "oaP9ijBxL9p7"
      },
      "outputs": [],
      "source": [
        "print(resnet50)"
      ]
    },
    {
      "cell_type": "code",
      "execution_count": 7,
      "metadata": {
        "id": "DFoRgy78L9p7"
      },
      "outputs": [],
      "source": [
        "def set_parameter_requires_grad(model, feature_extracting):\n",
        "    if feature_extracting:\n",
        "        for param in model.parameters():\n",
        "            param.requires_grad = False"
      ]
    },
    {
      "cell_type": "code",
      "source": [
        "num_ftrs = resnet50.fc.in_features\n",
        "num_ftrs"
      ],
      "metadata": {
        "colab": {
          "base_uri": "https://localhost:8080/"
        },
        "id": "HerbUvHC1P1v",
        "outputId": "92b49f71-1920-4d7c-a3e5-1e3f13effe66"
      },
      "execution_count": 8,
      "outputs": [
        {
          "output_type": "execute_result",
          "data": {
            "text/plain": [
              "2048"
            ]
          },
          "metadata": {},
          "execution_count": 8
        }
      ]
    },
    {
      "cell_type": "code",
      "execution_count": 9,
      "metadata": {
        "id": "EUKvzmXtL9p8"
      },
      "outputs": [],
      "source": [
        "set_parameter_requires_grad(resnet50, True)"
      ]
    },
    {
      "cell_type": "code",
      "source": [
        "num_classes = 100\n",
        "resnet50.fc = nn.Linear(num_ftrs, num_classes)"
      ],
      "metadata": {
        "id": "Z2MZkN4L1nTE"
      },
      "execution_count": 10,
      "outputs": []
    },
    {
      "cell_type": "code",
      "execution_count": 11,
      "metadata": {
        "id": "8_LtgcctL9p6"
      },
      "outputs": [],
      "source": [
        "# Необходимые трансформации размер изображений на входе должен быть 224 на 224, 3 канала\n",
        "normalize = transforms.Normalize(mean=[0.485, 0.456, 0.406],\n",
        "                                 std=[0.229, 0.224, 0.225])"
      ]
    },
    {
      "cell_type": "code",
      "execution_count": 12,
      "metadata": {
        "id": "QUI0tOwtL9p8"
      },
      "outputs": [],
      "source": [
        "trans_actions = transforms.Compose([transforms.Resize(256),\n",
        "                                    transforms.RandomCrop(224, padding=4),\n",
        "                                    transforms.ToTensor(),\n",
        "                                    normalize])\n",
        "\n",
        "\n",
        "valid_transforms = transforms.Compose([transforms.Resize(224),\n",
        "                                       transforms.ToTensor(),\n",
        "                                       normalize])\n",
        "\n",
        "train_dataset, valid_dataset = train_valid_split(dataset)\n",
        "\n",
        "train_dataset = MyOwnCifar(train_dataset, trans_actions)\n",
        "valid_dataset = MyOwnCifar(valid_dataset, valid_transforms)\n",
        "\n",
        "train_loader = torch.utils.data.DataLoader(train_dataset,\n",
        "                          batch_size=128,\n",
        "                          shuffle=True,\n",
        "                          num_workers=3)\n",
        "valid_loader = torch.utils.data.DataLoader(valid_dataset,\n",
        "                          batch_size=128,\n",
        "                          shuffle=False,\n",
        "                          num_workers=1)"
      ]
    },
    {
      "cell_type": "code",
      "source": [
        "for image,label in train_loader:\n",
        "    print(\"Image shape: \",image.shape)\n",
        "    #print(\"Image tensor: \", image)\n",
        "    #print(\"Label: \", label)\n",
        "    break\n",
        "\n",
        "for image,label in valid_loader:\n",
        "    print(\"Image shape: \",image.shape)\n",
        "    #print(\"Image tensor: \", image)\n",
        "    #print(\"Label: \", label)\n",
        "    break"
      ],
      "metadata": {
        "colab": {
          "base_uri": "https://localhost:8080/"
        },
        "id": "U6Wk3uwIDRKP",
        "outputId": "a03e1c99-b6e5-4da7-960b-72ba79319ed8"
      },
      "execution_count": 13,
      "outputs": [
        {
          "output_type": "stream",
          "name": "stdout",
          "text": [
            "Image shape:  torch.Size([128, 3, 224, 224])\n",
            "Image shape:  torch.Size([128, 3, 224, 224])\n"
          ]
        }
      ]
    },
    {
      "cell_type": "code",
      "execution_count": 14,
      "metadata": {
        "id": "_xgxE2QhL9p9"
      },
      "outputs": [],
      "source": [
        "params_to_update = []\n",
        "for name,param in resnet50.named_parameters():\n",
        "    if param.requires_grad == True:\n",
        "        params_to_update.append(param)\n",
        "\n",
        "optimizer = torch.optim.Adam(params_to_update, lr=0.001)\n",
        "criterion = nn.CrossEntropyLoss()"
      ]
    },
    {
      "cell_type": "code",
      "execution_count": 15,
      "metadata": {
        "id": "WOBCUgNeL9p9",
        "outputId": "a5b1377e-db4e-4cda-e8b1-e1a7579fc532",
        "colab": {
          "base_uri": "https://localhost:8080/"
        }
      },
      "outputs": [
        {
          "output_type": "execute_result",
          "data": {
            "text/plain": [
              "[Parameter containing:\n",
              " tensor([[-2.2161e-03,  2.2581e-03, -9.1088e-03,  ...,  9.8173e-05,\n",
              "          -6.7349e-03,  7.4602e-03],\n",
              "         [ 8.1576e-03, -1.6465e-02,  6.1960e-03,  ..., -1.7486e-03,\n",
              "          -1.5036e-02,  9.7467e-03],\n",
              "         [-7.6686e-03,  4.2970e-04, -2.2077e-02,  ...,  1.4333e-02,\n",
              "          -1.2911e-02,  1.1404e-02],\n",
              "         ...,\n",
              "         [ 7.2573e-03,  2.3407e-03,  2.0483e-03,  ...,  1.1416e-02,\n",
              "           1.4260e-02,  1.0350e-02],\n",
              "         [-8.9097e-03,  2.1145e-02,  5.7081e-03,  ..., -1.7686e-02,\n",
              "          -1.4394e-02, -1.5570e-02],\n",
              "         [ 1.9799e-02, -5.7480e-03,  1.8418e-03,  ..., -1.4421e-02,\n",
              "           3.5792e-03,  2.0736e-02]], requires_grad=True),\n",
              " Parameter containing:\n",
              " tensor([ 0.0154, -0.0083,  0.0161, -0.0152, -0.0005,  0.0170,  0.0098,  0.0173,\n",
              "         -0.0120,  0.0171,  0.0049,  0.0034,  0.0182,  0.0193, -0.0133,  0.0013,\n",
              "         -0.0213,  0.0101, -0.0173,  0.0005, -0.0072,  0.0192,  0.0087,  0.0087,\n",
              "         -0.0156, -0.0022,  0.0158, -0.0034,  0.0007, -0.0182, -0.0011, -0.0087,\n",
              "          0.0194, -0.0161,  0.0026, -0.0137, -0.0107,  0.0051,  0.0189,  0.0207,\n",
              "         -0.0049, -0.0109, -0.0209,  0.0037,  0.0027,  0.0011,  0.0147, -0.0050,\n",
              "         -0.0172,  0.0131,  0.0151, -0.0129,  0.0165, -0.0172,  0.0065,  0.0058,\n",
              "         -0.0166, -0.0211,  0.0025,  0.0188, -0.0097,  0.0140, -0.0099,  0.0147,\n",
              "          0.0205, -0.0100, -0.0042,  0.0020, -0.0122,  0.0082,  0.0119, -0.0162,\n",
              "          0.0204,  0.0125,  0.0213,  0.0109,  0.0054, -0.0127,  0.0033, -0.0197,\n",
              "         -0.0114,  0.0108, -0.0018,  0.0141, -0.0056, -0.0156,  0.0169, -0.0183,\n",
              "         -0.0174, -0.0169, -0.0193,  0.0051, -0.0040, -0.0208,  0.0148, -0.0187,\n",
              "         -0.0047,  0.0202, -0.0111,  0.0021], requires_grad=True)]"
            ]
          },
          "metadata": {},
          "execution_count": 15
        }
      ],
      "source": [
        "params_to_update"
      ]
    },
    {
      "cell_type": "code",
      "execution_count": 19,
      "metadata": {
        "id": "wt7QE8beL9p-",
        "outputId": "7580f3ea-25ba-4290-95c4-9614da9a4c1f",
        "colab": {
          "base_uri": "https://localhost:8080/"
        }
      },
      "outputs": [
        {
          "output_type": "stream",
          "name": "stderr",
          "text": [
            " 10%|█         | 1/10 [01:24<12:44, 84.94s/it]"
          ]
        },
        {
          "output_type": "stream",
          "name": "stdout",
          "text": [
            "Epoch 0 valid_loss 36.54513168334961\n"
          ]
        },
        {
          "output_type": "stream",
          "name": "stderr",
          "text": [
            "\r 20%|██        | 2/10 [02:49<11:19, 84.92s/it]"
          ]
        },
        {
          "output_type": "stream",
          "name": "stdout",
          "text": [
            "Epoch 1 valid_loss 32.194969177246094\n"
          ]
        },
        {
          "output_type": "stream",
          "name": "stderr",
          "text": [
            "\r 30%|███       | 3/10 [04:14<09:54, 84.95s/it]"
          ]
        },
        {
          "output_type": "stream",
          "name": "stdout",
          "text": [
            "Epoch 2 valid_loss 32.453521728515625\n"
          ]
        },
        {
          "output_type": "stream",
          "name": "stderr",
          "text": [
            "\r 40%|████      | 4/10 [05:39<08:29, 84.96s/it]"
          ]
        },
        {
          "output_type": "stream",
          "name": "stdout",
          "text": [
            "Epoch 3 valid_loss 30.42387580871582\n"
          ]
        },
        {
          "output_type": "stream",
          "name": "stderr",
          "text": [
            "\r 50%|█████     | 5/10 [07:04<07:04, 84.99s/it]"
          ]
        },
        {
          "output_type": "stream",
          "name": "stdout",
          "text": [
            "Epoch 4 valid_loss 30.89453125\n"
          ]
        },
        {
          "output_type": "stream",
          "name": "stderr",
          "text": [
            "\r 60%|██████    | 6/10 [08:30<05:40, 85.07s/it]"
          ]
        },
        {
          "output_type": "stream",
          "name": "stdout",
          "text": [
            "Epoch 5 valid_loss 30.633724212646484\n"
          ]
        },
        {
          "output_type": "stream",
          "name": "stderr",
          "text": [
            "\r 70%|███████   | 7/10 [09:55<04:15, 85.06s/it]"
          ]
        },
        {
          "output_type": "stream",
          "name": "stdout",
          "text": [
            "Epoch 6 valid_loss 29.579675674438477\n"
          ]
        },
        {
          "output_type": "stream",
          "name": "stderr",
          "text": [
            "\r 80%|████████  | 8/10 [11:20<02:50, 85.06s/it]"
          ]
        },
        {
          "output_type": "stream",
          "name": "stdout",
          "text": [
            "Epoch 7 valid_loss 30.92918586730957\n"
          ]
        },
        {
          "output_type": "stream",
          "name": "stderr",
          "text": [
            "\r 90%|█████████ | 9/10 [12:44<01:24, 84.95s/it]"
          ]
        },
        {
          "output_type": "stream",
          "name": "stdout",
          "text": [
            "Epoch 8 valid_loss 30.397432327270508\n"
          ]
        },
        {
          "output_type": "stream",
          "name": "stderr",
          "text": [
            "100%|██████████| 10/10 [14:09<00:00, 84.94s/it]"
          ]
        },
        {
          "output_type": "stream",
          "name": "stdout",
          "text": [
            "Epoch 9 valid_loss 29.293893814086914\n",
            "Training is finished!\n"
          ]
        },
        {
          "output_type": "stream",
          "name": "stderr",
          "text": [
            "\n"
          ]
        }
      ],
      "source": [
        "for epoch in tqdm(range(10)):  \n",
        "    resnet50.train().to(device)\n",
        "    for i, data in enumerate(train_loader, 0):\n",
        "        inputs, labels = data[0], data[1]\n",
        "        inputs, labels = inputs.to(device), labels.to(device)\n",
        "        optimizer.zero_grad()\n",
        "\n",
        "        outputs = resnet50(inputs)\n",
        "        loss = criterion(outputs, labels)\n",
        "        loss.backward()\n",
        "        optimizer.step()\n",
        "        \n",
        "    resnet50.eval().to(device)\n",
        "    loss_accumed = 0\n",
        "    for X, y in valid_loader:\n",
        "        X, y = X.to(device), y.to(device)\n",
        "        output = resnet50(X)\n",
        "        loss = criterion(output, y)\n",
        "        loss_accumed += loss\n",
        "    print(\"Epoch {} valid_loss {}\".format(epoch, loss_accumed))\n",
        "\n",
        "print('Training is finished!')"
      ]
    },
    {
      "cell_type": "code",
      "source": [
        ""
      ],
      "metadata": {
        "id": "v4hjSQnMeiys"
      },
      "execution_count": null,
      "outputs": []
    },
    {
      "cell_type": "markdown",
      "source": [
        "Михаил, еще вопрос к Вам: в transforms документации нашла AutoAugmentPolicy\n",
        "policies = [T.AutoAugmentPolicy.CIFAR10, T.AutoAugmentPolicy.IMAGENET, T.AutoAugmentPolicy.SVHN]\n",
        "\n",
        "Можете пояснить, как пользоваться ими? пыталась запихнуть к трансформерам в compose, не получилось\n",
        "\n",
        "https://pytorch.org/vision/main/generated/torchvision.transforms.AutoAugmentPolicy.html#torchvision.transforms.AutoAugmentPolicy"
      ],
      "metadata": {
        "id": "h8VGzNWmabsu"
      }
    },
    {
      "cell_type": "code",
      "source": [
        "trans_actions = transforms.Compose([T.AutoAugmentPolicy.CIFAR10,\n",
        "                                    transforms.Resize(224),\n",
        "                                    transforms.ToTensor(),\n",
        "                                    normalize])\n",
        "\n",
        "\n",
        "valid_transforms = transforms.Compose([transforms.Resize(224),\n",
        "                                       transforms.ToTensor(),\n",
        "                                       normalize])\n",
        "\n",
        "train_dataset, valid_dataset = train_valid_split(dataset)\n",
        "\n",
        "train_dataset = MyOwnCifar(train_dataset, trans_actions)\n",
        "valid_dataset = MyOwnCifar(valid_dataset, valid_transforms)\n",
        "\n",
        "train_loader = torch.utils.data.DataLoader(train_dataset,\n",
        "                          batch_size=128,\n",
        "                          shuffle=True,\n",
        "                          num_workers=3)\n",
        "valid_loader = torch.utils.data.DataLoader(valid_dataset,\n",
        "                          batch_size=128,\n",
        "                          shuffle=False,\n",
        "                          num_workers=1)"
      ],
      "metadata": {
        "id": "2IBlY8c9es7I"
      },
      "execution_count": 37,
      "outputs": []
    },
    {
      "cell_type": "code",
      "source": [
        "for epoch in tqdm(range(10)):  \n",
        "    resnet50.train().to(device)\n",
        "    for i, data in enumerate(train_loader, 0):\n",
        "        inputs, labels = data[0], data[1]\n",
        "        inputs, labels = inputs.to(device), labels.to(device)\n",
        "        optimizer.zero_grad()\n",
        "\n",
        "        outputs = resnet50(inputs)\n",
        "        loss = criterion(outputs, labels)\n",
        "        loss.backward()\n",
        "        optimizer.step()\n",
        "        \n",
        "    resnet50.eval().to(device)\n",
        "    loss_accumed = 0\n",
        "    for X, y in valid_loader:\n",
        "        X, y = X.to(device), y.to(device)\n",
        "        output = resnet50(X)\n",
        "        loss = criterion(output, y)\n",
        "        loss_accumed += loss\n",
        "    print(\"Epoch {} valid_loss {}\".format(epoch, loss_accumed))\n",
        "\n",
        "print('Training is finished!')"
      ],
      "metadata": {
        "colab": {
          "base_uri": "https://localhost:8080/",
          "height": 607
        },
        "id": "xyxaVFfOhCYF",
        "outputId": "59832e32-8224-4e98-c8f8-edc1e64da92f"
      },
      "execution_count": 38,
      "outputs": [
        {
          "output_type": "stream",
          "name": "stderr",
          "text": [
            "  0%|          | 0/10 [00:00<?, ?it/s]\n"
          ]
        },
        {
          "output_type": "error",
          "ename": "TypeError",
          "evalue": "ignored",
          "traceback": [
            "\u001b[0;31m---------------------------------------------------------------------------\u001b[0m",
            "\u001b[0;31mTypeError\u001b[0m                                 Traceback (most recent call last)",
            "\u001b[0;32m<ipython-input-38-c80935b8c378>\u001b[0m in \u001b[0;36m<module>\u001b[0;34m()\u001b[0m\n\u001b[1;32m      1\u001b[0m \u001b[0;32mfor\u001b[0m \u001b[0mepoch\u001b[0m \u001b[0;32min\u001b[0m \u001b[0mtqdm\u001b[0m\u001b[0;34m(\u001b[0m\u001b[0mrange\u001b[0m\u001b[0;34m(\u001b[0m\u001b[0;36m10\u001b[0m\u001b[0;34m)\u001b[0m\u001b[0;34m)\u001b[0m\u001b[0;34m:\u001b[0m\u001b[0;34m\u001b[0m\u001b[0;34m\u001b[0m\u001b[0m\n\u001b[1;32m      2\u001b[0m     \u001b[0mresnet50\u001b[0m\u001b[0;34m.\u001b[0m\u001b[0mtrain\u001b[0m\u001b[0;34m(\u001b[0m\u001b[0;34m)\u001b[0m\u001b[0;34m.\u001b[0m\u001b[0mto\u001b[0m\u001b[0;34m(\u001b[0m\u001b[0mdevice\u001b[0m\u001b[0;34m)\u001b[0m\u001b[0;34m\u001b[0m\u001b[0;34m\u001b[0m\u001b[0m\n\u001b[0;32m----> 3\u001b[0;31m     \u001b[0;32mfor\u001b[0m \u001b[0mi\u001b[0m\u001b[0;34m,\u001b[0m \u001b[0mdata\u001b[0m \u001b[0;32min\u001b[0m \u001b[0menumerate\u001b[0m\u001b[0;34m(\u001b[0m\u001b[0mtrain_loader\u001b[0m\u001b[0;34m,\u001b[0m \u001b[0;36m0\u001b[0m\u001b[0;34m)\u001b[0m\u001b[0;34m:\u001b[0m\u001b[0;34m\u001b[0m\u001b[0;34m\u001b[0m\u001b[0m\n\u001b[0m\u001b[1;32m      4\u001b[0m         \u001b[0minputs\u001b[0m\u001b[0;34m,\u001b[0m \u001b[0mlabels\u001b[0m \u001b[0;34m=\u001b[0m \u001b[0mdata\u001b[0m\u001b[0;34m[\u001b[0m\u001b[0;36m0\u001b[0m\u001b[0;34m]\u001b[0m\u001b[0;34m,\u001b[0m \u001b[0mdata\u001b[0m\u001b[0;34m[\u001b[0m\u001b[0;36m1\u001b[0m\u001b[0;34m]\u001b[0m\u001b[0;34m\u001b[0m\u001b[0;34m\u001b[0m\u001b[0m\n\u001b[1;32m      5\u001b[0m         \u001b[0minputs\u001b[0m\u001b[0;34m,\u001b[0m \u001b[0mlabels\u001b[0m \u001b[0;34m=\u001b[0m \u001b[0minputs\u001b[0m\u001b[0;34m.\u001b[0m\u001b[0mto\u001b[0m\u001b[0;34m(\u001b[0m\u001b[0mdevice\u001b[0m\u001b[0;34m)\u001b[0m\u001b[0;34m,\u001b[0m \u001b[0mlabels\u001b[0m\u001b[0;34m.\u001b[0m\u001b[0mto\u001b[0m\u001b[0;34m(\u001b[0m\u001b[0mdevice\u001b[0m\u001b[0;34m)\u001b[0m\u001b[0;34m\u001b[0m\u001b[0;34m\u001b[0m\u001b[0m\n",
            "\u001b[0;32m/usr/local/lib/python3.7/dist-packages/torch/utils/data/dataloader.py\u001b[0m in \u001b[0;36m__next__\u001b[0;34m(self)\u001b[0m\n\u001b[1;32m    519\u001b[0m             \u001b[0;32mif\u001b[0m \u001b[0mself\u001b[0m\u001b[0;34m.\u001b[0m\u001b[0m_sampler_iter\u001b[0m \u001b[0;32mis\u001b[0m \u001b[0;32mNone\u001b[0m\u001b[0;34m:\u001b[0m\u001b[0;34m\u001b[0m\u001b[0;34m\u001b[0m\u001b[0m\n\u001b[1;32m    520\u001b[0m                 \u001b[0mself\u001b[0m\u001b[0;34m.\u001b[0m\u001b[0m_reset\u001b[0m\u001b[0;34m(\u001b[0m\u001b[0;34m)\u001b[0m\u001b[0;34m\u001b[0m\u001b[0;34m\u001b[0m\u001b[0m\n\u001b[0;32m--> 521\u001b[0;31m             \u001b[0mdata\u001b[0m \u001b[0;34m=\u001b[0m \u001b[0mself\u001b[0m\u001b[0;34m.\u001b[0m\u001b[0m_next_data\u001b[0m\u001b[0;34m(\u001b[0m\u001b[0;34m)\u001b[0m\u001b[0;34m\u001b[0m\u001b[0;34m\u001b[0m\u001b[0m\n\u001b[0m\u001b[1;32m    522\u001b[0m             \u001b[0mself\u001b[0m\u001b[0;34m.\u001b[0m\u001b[0m_num_yielded\u001b[0m \u001b[0;34m+=\u001b[0m \u001b[0;36m1\u001b[0m\u001b[0;34m\u001b[0m\u001b[0;34m\u001b[0m\u001b[0m\n\u001b[1;32m    523\u001b[0m             \u001b[0;32mif\u001b[0m \u001b[0mself\u001b[0m\u001b[0;34m.\u001b[0m\u001b[0m_dataset_kind\u001b[0m \u001b[0;34m==\u001b[0m \u001b[0m_DatasetKind\u001b[0m\u001b[0;34m.\u001b[0m\u001b[0mIterable\u001b[0m \u001b[0;32mand\u001b[0m\u001b[0;31m \u001b[0m\u001b[0;31m\\\u001b[0m\u001b[0;34m\u001b[0m\u001b[0;34m\u001b[0m\u001b[0m\n",
            "\u001b[0;32m/usr/local/lib/python3.7/dist-packages/torch/utils/data/dataloader.py\u001b[0m in \u001b[0;36m_next_data\u001b[0;34m(self)\u001b[0m\n\u001b[1;32m   1201\u001b[0m             \u001b[0;32melse\u001b[0m\u001b[0;34m:\u001b[0m\u001b[0;34m\u001b[0m\u001b[0;34m\u001b[0m\u001b[0m\n\u001b[1;32m   1202\u001b[0m                 \u001b[0;32mdel\u001b[0m \u001b[0mself\u001b[0m\u001b[0;34m.\u001b[0m\u001b[0m_task_info\u001b[0m\u001b[0;34m[\u001b[0m\u001b[0midx\u001b[0m\u001b[0;34m]\u001b[0m\u001b[0;34m\u001b[0m\u001b[0;34m\u001b[0m\u001b[0m\n\u001b[0;32m-> 1203\u001b[0;31m                 \u001b[0;32mreturn\u001b[0m \u001b[0mself\u001b[0m\u001b[0;34m.\u001b[0m\u001b[0m_process_data\u001b[0m\u001b[0;34m(\u001b[0m\u001b[0mdata\u001b[0m\u001b[0;34m)\u001b[0m\u001b[0;34m\u001b[0m\u001b[0;34m\u001b[0m\u001b[0m\n\u001b[0m\u001b[1;32m   1204\u001b[0m \u001b[0;34m\u001b[0m\u001b[0m\n\u001b[1;32m   1205\u001b[0m     \u001b[0;32mdef\u001b[0m \u001b[0m_try_put_index\u001b[0m\u001b[0;34m(\u001b[0m\u001b[0mself\u001b[0m\u001b[0;34m)\u001b[0m\u001b[0;34m:\u001b[0m\u001b[0;34m\u001b[0m\u001b[0;34m\u001b[0m\u001b[0m\n",
            "\u001b[0;32m/usr/local/lib/python3.7/dist-packages/torch/utils/data/dataloader.py\u001b[0m in \u001b[0;36m_process_data\u001b[0;34m(self, data)\u001b[0m\n\u001b[1;32m   1227\u001b[0m         \u001b[0mself\u001b[0m\u001b[0;34m.\u001b[0m\u001b[0m_try_put_index\u001b[0m\u001b[0;34m(\u001b[0m\u001b[0;34m)\u001b[0m\u001b[0;34m\u001b[0m\u001b[0;34m\u001b[0m\u001b[0m\n\u001b[1;32m   1228\u001b[0m         \u001b[0;32mif\u001b[0m \u001b[0misinstance\u001b[0m\u001b[0;34m(\u001b[0m\u001b[0mdata\u001b[0m\u001b[0;34m,\u001b[0m \u001b[0mExceptionWrapper\u001b[0m\u001b[0;34m)\u001b[0m\u001b[0;34m:\u001b[0m\u001b[0;34m\u001b[0m\u001b[0;34m\u001b[0m\u001b[0m\n\u001b[0;32m-> 1229\u001b[0;31m             \u001b[0mdata\u001b[0m\u001b[0;34m.\u001b[0m\u001b[0mreraise\u001b[0m\u001b[0;34m(\u001b[0m\u001b[0;34m)\u001b[0m\u001b[0;34m\u001b[0m\u001b[0;34m\u001b[0m\u001b[0m\n\u001b[0m\u001b[1;32m   1230\u001b[0m         \u001b[0;32mreturn\u001b[0m \u001b[0mdata\u001b[0m\u001b[0;34m\u001b[0m\u001b[0;34m\u001b[0m\u001b[0m\n\u001b[1;32m   1231\u001b[0m \u001b[0;34m\u001b[0m\u001b[0m\n",
            "\u001b[0;32m/usr/local/lib/python3.7/dist-packages/torch/_utils.py\u001b[0m in \u001b[0;36mreraise\u001b[0;34m(self)\u001b[0m\n\u001b[1;32m    432\u001b[0m             \u001b[0;31m# instantiate since we don't know how to\u001b[0m\u001b[0;34m\u001b[0m\u001b[0;34m\u001b[0m\u001b[0;34m\u001b[0m\u001b[0m\n\u001b[1;32m    433\u001b[0m             \u001b[0;32mraise\u001b[0m \u001b[0mRuntimeError\u001b[0m\u001b[0;34m(\u001b[0m\u001b[0mmsg\u001b[0m\u001b[0;34m)\u001b[0m \u001b[0;32mfrom\u001b[0m \u001b[0;32mNone\u001b[0m\u001b[0;34m\u001b[0m\u001b[0;34m\u001b[0m\u001b[0m\n\u001b[0;32m--> 434\u001b[0;31m         \u001b[0;32mraise\u001b[0m \u001b[0mexception\u001b[0m\u001b[0;34m\u001b[0m\u001b[0;34m\u001b[0m\u001b[0m\n\u001b[0m\u001b[1;32m    435\u001b[0m \u001b[0;34m\u001b[0m\u001b[0m\n\u001b[1;32m    436\u001b[0m \u001b[0;34m\u001b[0m\u001b[0m\n",
            "\u001b[0;31mTypeError\u001b[0m: Caught TypeError in DataLoader worker process 0.\nOriginal Traceback (most recent call last):\n  File \"/usr/local/lib/python3.7/dist-packages/torch/utils/data/_utils/worker.py\", line 287, in _worker_loop\n    data = fetcher.fetch(index)\n  File \"/usr/local/lib/python3.7/dist-packages/torch/utils/data/_utils/fetch.py\", line 49, in fetch\n    data = [self.dataset[idx] for idx in possibly_batched_index]\n  File \"/usr/local/lib/python3.7/dist-packages/torch/utils/data/_utils/fetch.py\", line 49, in <listcomp>\n    data = [self.dataset[idx] for idx in possibly_batched_index]\n  File \"<ipython-input-3-acbeddd1925a>\", line 19, in __getitem__\n    img = self.transform(img)\n  File \"/usr/local/lib/python3.7/dist-packages/torchvision/transforms/transforms.py\", line 61, in __call__\n    img = t(img)\nTypeError: 'AutoAugmentPolicy' object is not callable\n"
          ]
        }
      ]
    }
  ],
  "metadata": {
    "kernelspec": {
      "display_name": "Python 3",
      "language": "python",
      "name": "python3"
    },
    "language_info": {
      "codemirror_mode": {
        "name": "ipython",
        "version": 3
      },
      "file_extension": ".py",
      "mimetype": "text/x-python",
      "name": "python",
      "nbconvert_exporter": "python",
      "pygments_lexer": "ipython3",
      "version": "3.7.4"
    },
    "colab": {
      "name": "HW_04_CNN_cifar100_pytorch.ipynb",
      "provenance": [],
      "collapsed_sections": [],
      "machine_shape": "hm",
      "include_colab_link": true
    },
    "accelerator": "GPU",
    "widgets": {
      "application/vnd.jupyter.widget-state+json": {
        "48015356b5624dd097f778dadb5f372c": {
          "model_module": "@jupyter-widgets/controls",
          "model_name": "HBoxModel",
          "model_module_version": "1.5.0",
          "state": {
            "_view_name": "HBoxView",
            "_dom_classes": [],
            "_model_name": "HBoxModel",
            "_view_module": "@jupyter-widgets/controls",
            "_model_module_version": "1.5.0",
            "_view_count": null,
            "_view_module_version": "1.5.0",
            "box_style": "",
            "layout": "IPY_MODEL_6e5df668aa07422982ea0555bff54342",
            "_model_module": "@jupyter-widgets/controls",
            "children": [
              "IPY_MODEL_8d276f1bd7574a9dae2527ccf15102db",
              "IPY_MODEL_9c569596f28c43708efd05a60fa780dd",
              "IPY_MODEL_c822b7be7ccc4014989312481e75ccd3"
            ]
          }
        },
        "6e5df668aa07422982ea0555bff54342": {
          "model_module": "@jupyter-widgets/base",
          "model_name": "LayoutModel",
          "model_module_version": "1.2.0",
          "state": {
            "_view_name": "LayoutView",
            "grid_template_rows": null,
            "right": null,
            "justify_content": null,
            "_view_module": "@jupyter-widgets/base",
            "overflow": null,
            "_model_module_version": "1.2.0",
            "_view_count": null,
            "flex_flow": null,
            "width": null,
            "min_width": null,
            "border": null,
            "align_items": null,
            "bottom": null,
            "_model_module": "@jupyter-widgets/base",
            "top": null,
            "grid_column": null,
            "overflow_y": null,
            "overflow_x": null,
            "grid_auto_flow": null,
            "grid_area": null,
            "grid_template_columns": null,
            "flex": null,
            "_model_name": "LayoutModel",
            "justify_items": null,
            "grid_row": null,
            "max_height": null,
            "align_content": null,
            "visibility": null,
            "align_self": null,
            "height": null,
            "min_height": null,
            "padding": null,
            "grid_auto_rows": null,
            "grid_gap": null,
            "max_width": null,
            "order": null,
            "_view_module_version": "1.2.0",
            "grid_template_areas": null,
            "object_position": null,
            "object_fit": null,
            "grid_auto_columns": null,
            "margin": null,
            "display": null,
            "left": null
          }
        },
        "8d276f1bd7574a9dae2527ccf15102db": {
          "model_module": "@jupyter-widgets/controls",
          "model_name": "HTMLModel",
          "model_module_version": "1.5.0",
          "state": {
            "_view_name": "HTMLView",
            "style": "IPY_MODEL_bf8c48a6e9334abaa0cef4e411e050fd",
            "_dom_classes": [],
            "description": "",
            "_model_name": "HTMLModel",
            "placeholder": "​",
            "_view_module": "@jupyter-widgets/controls",
            "_model_module_version": "1.5.0",
            "value": "",
            "_view_count": null,
            "_view_module_version": "1.5.0",
            "description_tooltip": null,
            "_model_module": "@jupyter-widgets/controls",
            "layout": "IPY_MODEL_2bf4899d04e645cf9d5bdd36d403f9ea"
          }
        },
        "9c569596f28c43708efd05a60fa780dd": {
          "model_module": "@jupyter-widgets/controls",
          "model_name": "FloatProgressModel",
          "model_module_version": "1.5.0",
          "state": {
            "_view_name": "ProgressView",
            "style": "IPY_MODEL_061cabcaaa374913934e43e2997b3b82",
            "_dom_classes": [],
            "description": "",
            "_model_name": "FloatProgressModel",
            "bar_style": "success",
            "max": 169001437,
            "_view_module": "@jupyter-widgets/controls",
            "_model_module_version": "1.5.0",
            "value": 169001437,
            "_view_count": null,
            "_view_module_version": "1.5.0",
            "orientation": "horizontal",
            "min": 0,
            "description_tooltip": null,
            "_model_module": "@jupyter-widgets/controls",
            "layout": "IPY_MODEL_7a96b07e6a4f47ba8dfb4b9447d6e71b"
          }
        },
        "c822b7be7ccc4014989312481e75ccd3": {
          "model_module": "@jupyter-widgets/controls",
          "model_name": "HTMLModel",
          "model_module_version": "1.5.0",
          "state": {
            "_view_name": "HTMLView",
            "style": "IPY_MODEL_edf368d30fd541afab354c5ef7d7cd3d",
            "_dom_classes": [],
            "description": "",
            "_model_name": "HTMLModel",
            "placeholder": "​",
            "_view_module": "@jupyter-widgets/controls",
            "_model_module_version": "1.5.0",
            "value": " 169001984/? [00:48&lt;00:00, 3058476.01it/s]",
            "_view_count": null,
            "_view_module_version": "1.5.0",
            "description_tooltip": null,
            "_model_module": "@jupyter-widgets/controls",
            "layout": "IPY_MODEL_51afe083df00405f9a7fe6afbc50f239"
          }
        },
        "bf8c48a6e9334abaa0cef4e411e050fd": {
          "model_module": "@jupyter-widgets/controls",
          "model_name": "DescriptionStyleModel",
          "model_module_version": "1.5.0",
          "state": {
            "_view_name": "StyleView",
            "_model_name": "DescriptionStyleModel",
            "description_width": "",
            "_view_module": "@jupyter-widgets/base",
            "_model_module_version": "1.5.0",
            "_view_count": null,
            "_view_module_version": "1.2.0",
            "_model_module": "@jupyter-widgets/controls"
          }
        },
        "2bf4899d04e645cf9d5bdd36d403f9ea": {
          "model_module": "@jupyter-widgets/base",
          "model_name": "LayoutModel",
          "model_module_version": "1.2.0",
          "state": {
            "_view_name": "LayoutView",
            "grid_template_rows": null,
            "right": null,
            "justify_content": null,
            "_view_module": "@jupyter-widgets/base",
            "overflow": null,
            "_model_module_version": "1.2.0",
            "_view_count": null,
            "flex_flow": null,
            "width": null,
            "min_width": null,
            "border": null,
            "align_items": null,
            "bottom": null,
            "_model_module": "@jupyter-widgets/base",
            "top": null,
            "grid_column": null,
            "overflow_y": null,
            "overflow_x": null,
            "grid_auto_flow": null,
            "grid_area": null,
            "grid_template_columns": null,
            "flex": null,
            "_model_name": "LayoutModel",
            "justify_items": null,
            "grid_row": null,
            "max_height": null,
            "align_content": null,
            "visibility": null,
            "align_self": null,
            "height": null,
            "min_height": null,
            "padding": null,
            "grid_auto_rows": null,
            "grid_gap": null,
            "max_width": null,
            "order": null,
            "_view_module_version": "1.2.0",
            "grid_template_areas": null,
            "object_position": null,
            "object_fit": null,
            "grid_auto_columns": null,
            "margin": null,
            "display": null,
            "left": null
          }
        },
        "061cabcaaa374913934e43e2997b3b82": {
          "model_module": "@jupyter-widgets/controls",
          "model_name": "ProgressStyleModel",
          "model_module_version": "1.5.0",
          "state": {
            "_view_name": "StyleView",
            "_model_name": "ProgressStyleModel",
            "description_width": "",
            "_view_module": "@jupyter-widgets/base",
            "_model_module_version": "1.5.0",
            "_view_count": null,
            "_view_module_version": "1.2.0",
            "bar_color": null,
            "_model_module": "@jupyter-widgets/controls"
          }
        },
        "7a96b07e6a4f47ba8dfb4b9447d6e71b": {
          "model_module": "@jupyter-widgets/base",
          "model_name": "LayoutModel",
          "model_module_version": "1.2.0",
          "state": {
            "_view_name": "LayoutView",
            "grid_template_rows": null,
            "right": null,
            "justify_content": null,
            "_view_module": "@jupyter-widgets/base",
            "overflow": null,
            "_model_module_version": "1.2.0",
            "_view_count": null,
            "flex_flow": null,
            "width": null,
            "min_width": null,
            "border": null,
            "align_items": null,
            "bottom": null,
            "_model_module": "@jupyter-widgets/base",
            "top": null,
            "grid_column": null,
            "overflow_y": null,
            "overflow_x": null,
            "grid_auto_flow": null,
            "grid_area": null,
            "grid_template_columns": null,
            "flex": null,
            "_model_name": "LayoutModel",
            "justify_items": null,
            "grid_row": null,
            "max_height": null,
            "align_content": null,
            "visibility": null,
            "align_self": null,
            "height": null,
            "min_height": null,
            "padding": null,
            "grid_auto_rows": null,
            "grid_gap": null,
            "max_width": null,
            "order": null,
            "_view_module_version": "1.2.0",
            "grid_template_areas": null,
            "object_position": null,
            "object_fit": null,
            "grid_auto_columns": null,
            "margin": null,
            "display": null,
            "left": null
          }
        },
        "edf368d30fd541afab354c5ef7d7cd3d": {
          "model_module": "@jupyter-widgets/controls",
          "model_name": "DescriptionStyleModel",
          "model_module_version": "1.5.0",
          "state": {
            "_view_name": "StyleView",
            "_model_name": "DescriptionStyleModel",
            "description_width": "",
            "_view_module": "@jupyter-widgets/base",
            "_model_module_version": "1.5.0",
            "_view_count": null,
            "_view_module_version": "1.2.0",
            "_model_module": "@jupyter-widgets/controls"
          }
        },
        "51afe083df00405f9a7fe6afbc50f239": {
          "model_module": "@jupyter-widgets/base",
          "model_name": "LayoutModel",
          "model_module_version": "1.2.0",
          "state": {
            "_view_name": "LayoutView",
            "grid_template_rows": null,
            "right": null,
            "justify_content": null,
            "_view_module": "@jupyter-widgets/base",
            "overflow": null,
            "_model_module_version": "1.2.0",
            "_view_count": null,
            "flex_flow": null,
            "width": null,
            "min_width": null,
            "border": null,
            "align_items": null,
            "bottom": null,
            "_model_module": "@jupyter-widgets/base",
            "top": null,
            "grid_column": null,
            "overflow_y": null,
            "overflow_x": null,
            "grid_auto_flow": null,
            "grid_area": null,
            "grid_template_columns": null,
            "flex": null,
            "_model_name": "LayoutModel",
            "justify_items": null,
            "grid_row": null,
            "max_height": null,
            "align_content": null,
            "visibility": null,
            "align_self": null,
            "height": null,
            "min_height": null,
            "padding": null,
            "grid_auto_rows": null,
            "grid_gap": null,
            "max_width": null,
            "order": null,
            "_view_module_version": "1.2.0",
            "grid_template_areas": null,
            "object_position": null,
            "object_fit": null,
            "grid_auto_columns": null,
            "margin": null,
            "display": null,
            "left": null
          }
        }
      }
    }
  },
  "nbformat": 4,
  "nbformat_minor": 0
}