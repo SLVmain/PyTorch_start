{
  "cells": [
    {
      "cell_type": "markdown",
      "metadata": {
        "id": "view-in-github",
        "colab_type": "text"
      },
      "source": [
        "<a href=\"https://colab.research.google.com/github/SLVmain/PyTorch_start/blob/Les_08/HW_08_final_pytorch_gan.ipynb\" target=\"_parent\"><img src=\"https://colab.research.google.com/assets/colab-badge.svg\" alt=\"Open In Colab\"/></a>"
      ]
    },
    {
      "cell_type": "markdown",
      "metadata": {
        "id": "QKwUHROgXW3a"
      },
      "source": [
        "<h1><center>Generative Adversarial Networks</center></h1>\n",
        "\n",
        "#Домашнее задание по результатам 8 вебинара.\n",
        "Как было сказано ранее, GAN обучается воспроизводить реальные данные.\n",
        "Поэтому Вам предлагается обучить генератор создавать точки, которые будут\n",
        "лежать на графике функции\n",
        "$$y = \\frac{sin(x)}{x} - \\frac{x}{10}$$\n",
        "При выполнении данного задания структура GAN остается той же, но Вам нужно:\n",
        "● Сгенерировать настоящие данные\n",
        "● Изменить архитектуру дискриминатора и генератора\n",
        "● Без графиков домашку не принимаю\n"
      ]
    },
    {
      "cell_type": "code",
      "execution_count": 2,
      "metadata": {
        "id": "PphUDYB_XW4I"
      },
      "outputs": [],
      "source": [
        "import os\n",
        "import numpy as np\n",
        "import math\n",
        "\n",
        "from torch.utils.data import DataLoader\n",
        "import torchvision.transforms as transforms\n",
        "from torchvision import datasets\n",
        "from torch.autograd import Variable\n",
        "\n",
        "import torch.nn as nn\n",
        "import torch\n",
        "\n",
        "########### Вывод изображений и их сохранение\n",
        "import matplotlib.pyplot as plt\n",
        "from IPython import display\n",
        "from torchvision.utils import save_image, make_grid"
      ]
    },
    {
      "cell_type": "code",
      "execution_count": 3,
      "metadata": {
        "colab": {
          "base_uri": "https://localhost:8080/"
        },
        "id": "a4o34PBXXW4L",
        "outputId": "8ec69ab4-6eae-4b83-c271-30d639095a44"
      },
      "outputs": [
        {
          "output_type": "stream",
          "name": "stdout",
          "text": [
            "cuda\n"
          ]
        }
      ],
      "source": [
        "use_cuda = torch.cuda.is_available()\n",
        "# device = torch.device(\"cpu\")\n",
        "device = torch.device('cuda') if torch.cuda.is_available() else torch.device('cpu')\n",
        "print(device)"
      ]
    },
    {
      "cell_type": "markdown",
      "metadata": {
        "id": "qf4Y_GDiXW4M"
      },
      "source": [
        "### 1. Загрузка датасета"
      ]
    },
    {
      "cell_type": "code",
      "source": [
        "'''a = torch.randn(10000)\n",
        "b = np.random.normal( 0, 1, 10)'''"
      ],
      "metadata": {
        "id": "t742XGCrnexb",
        "colab": {
          "base_uri": "https://localhost:8080/",
          "height": 35
        },
        "outputId": "40a47594-8439-4a21-9d7a-ac3caf24983d"
      },
      "execution_count": 3,
      "outputs": [
        {
          "output_type": "execute_result",
          "data": {
            "text/plain": [
              "'a = torch.randn(10000)\\nb = np.random.normal( 0, 1, 10)'"
            ],
            "application/vnd.google.colaboratory.intrinsic+json": {
              "type": "string"
            }
          },
          "metadata": {},
          "execution_count": 3
        }
      ]
    },
    {
      "cell_type": "code",
      "source": [
        "def func_y_0(x):\n",
        "  if 0 in x:\n",
        "    x[x == 0] = 0.00001\n",
        "\n",
        "  return np.sin(x)/x - x/10"
      ],
      "metadata": {
        "id": "FZTEmOV6Lo4p"
      },
      "execution_count": 4,
      "outputs": []
    },
    {
      "cell_type": "code",
      "source": [
        "x = np.linspace(-50, 50, 10000)\n",
        "y = func_y_0(x)\n",
        "plt.plot(x, y)\n",
        "plt.show()"
      ],
      "metadata": {
        "colab": {
          "base_uri": "https://localhost:8080/",
          "height": 265
        },
        "id": "fcjTd-GOTyBe",
        "outputId": "9a9ac395-2b2b-4bd2-900c-d748925c93b0"
      },
      "execution_count": 5,
      "outputs": [
        {
          "output_type": "display_data",
          "data": {
            "text/plain": [
              "<Figure size 432x288 with 1 Axes>"
            ],
            "image/png": "[encoded data removed]"
          },
          "metadata": {
            "needs_background": "light"
          }
        }
      ]
    },
    {
      "cell_type": "code",
      "source": [
        "def normalize(x):\n",
        "  res = (x - np.min(x))/(np.max(x) - np.min(x))\n",
        "  return res"
      ],
      "metadata": {
        "id": "uYiN2NuAi8ao"
      },
      "execution_count": 6,
      "outputs": []
    },
    {
      "cell_type": "code",
      "source": [
        "c = np.linspace(-50, 50, 10)\n",
        "normalize(c)"
      ],
      "metadata": {
        "colab": {
          "base_uri": "https://localhost:8080/"
        },
        "id": "irG-03qEvx22",
        "outputId": "23e13d83-51bd-4f9a-e734-540a79bd5018"
      },
      "execution_count": 7,
      "outputs": [
        {
          "output_type": "execute_result",
          "data": {
            "text/plain": [
              "array([0.        , 0.11111111, 0.22222222, 0.33333333, 0.44444444,\n",
              "       0.55555556, 0.66666667, 0.77777778, 0.88888889, 1.        ])"
            ]
          },
          "metadata": {},
          "execution_count": 7
        }
      ]
    },
    {
      "cell_type": "code",
      "source": [
        "a = [2,5,6]\n",
        "print(normalize(a))"
      ],
      "metadata": {
        "colab": {
          "base_uri": "https://localhost:8080/"
        },
        "id": "QL7MH9uxjR80",
        "outputId": "ef986aaa-2d17-405e-db01-2fe93e6f26b5"
      },
      "execution_count": 8,
      "outputs": [
        {
          "output_type": "stream",
          "name": "stdout",
          "text": [
            "[0.   0.75 1.  ]\n"
          ]
        }
      ]
    },
    {
      "cell_type": "code",
      "source": [
        "train_data_length = 8192\n",
        "train_data = torch.zeros((train_data_length, 2))\n",
        "train_data[:, 0] = torch.Tensor(normalize(np.linspace(-50, 50, train_data_length)))\n",
        "train_data[:, 1] = func_y_0(train_data[:, 0])\n",
        "train_labels = torch.zeros(train_data_length)\n",
        "train_set = [\n",
        "    (train_data[i], train_labels[i]) for i in range(train_data_length)\n",
        "]"
      ],
      "metadata": {
        "id": "1NFNq8x_gvNe"
      },
      "execution_count": 9,
      "outputs": []
    },
    {
      "cell_type": "code",
      "source": [
        "train_data[:, 0]"
      ],
      "metadata": {
        "colab": {
          "base_uri": "https://localhost:8080/"
        },
        "id": "2y5vbPhDhkEi",
        "outputId": "aff8c40e-3b25-4173-9a00-d1f30bc214c4"
      },
      "execution_count": 10,
      "outputs": [
        {
          "output_type": "execute_result",
          "data": {
            "text/plain": [
              "tensor([1.0000e-05, 1.2209e-04, 2.4417e-04,  ..., 9.9976e-01, 9.9988e-01,\n",
              "        1.0000e+00])"
            ]
          },
          "metadata": {},
          "execution_count": 10
        }
      ]
    },
    {
      "cell_type": "code",
      "source": [
        "plt.plot(train_data[:, 0], train_data[:, 1], '.')\n"
      ],
      "metadata": {
        "colab": {
          "base_uri": "https://localhost:8080/",
          "height": 283
        },
        "id": "WV4wQDFmhdn1",
        "outputId": "a73792ac-e5a6-4790-9c79-14aa99666496"
      },
      "execution_count": 12,
      "outputs": [
        {
          "output_type": "execute_result",
          "data": {
            "text/plain": [
              "[<matplotlib.lines.Line2D at 0x7f28e18b0d50>]"
            ]
          },
          "metadata": {},
          "execution_count": 12
        },
        {
          "output_type": "display_data",
          "data": {
            "text/plain": [
              "<Figure size 432x288 with 1 Axes>"
            ],
            "image/png": "[encoded data removed]"
          },
          "metadata": {
            "needs_background": "light"
          }
        }
      ]
    },
    {
      "cell_type": "code",
      "source": [
        "batch_size = 32\n",
        "train_loader = torch.utils.data.DataLoader(\n",
        "    train_set, batch_size=batch_size, shuffle=True\n",
        ")"
      ],
      "metadata": {
        "id": "alGbQkV5ivJ3"
      },
      "execution_count": 13,
      "outputs": []
    },
    {
      "cell_type": "code",
      "source": [
        "dataiter = iter(train_loader)\n",
        "data_x = dataiter.next()\n",
        "print(data_x)"
      ],
      "metadata": {
        "colab": {
          "base_uri": "https://localhost:8080/"
        },
        "id": "vR4x7BmLRhtE",
        "outputId": "b9e8fe1d-f313-4069-fc1a-081e1af9f454"
      },
      "execution_count": 14,
      "outputs": [
        {
          "output_type": "stream",
          "name": "stdout",
          "text": [
            "[tensor([[0.0805, 0.9909],\n",
            "        [0.9355, 0.7668],\n",
            "        [0.7129, 0.8461],\n",
            "        [0.5821, 0.8863],\n",
            "        [0.3854, 0.9369],\n",
            "        [0.9410, 0.7647],\n",
            "        [0.1187, 0.9858],\n",
            "        [0.2996, 0.9551],\n",
            "        [0.9954, 0.7433],\n",
            "        [0.5908, 0.8838],\n",
            "        [0.8357, 0.8040],\n",
            "        [0.1824, 0.9762],\n",
            "        [0.0415, 0.9956],\n",
            "        [0.5805, 0.8867],\n",
            "        [0.8672, 0.7926],\n",
            "        [0.3672, 0.9410],\n",
            "        [0.7268, 0.8416],\n",
            "        [0.6207, 0.8749],\n",
            "        [0.5670, 0.8906],\n",
            "        [0.9582, 0.7580],\n",
            "        [0.4371, 0.9248],\n",
            "        [0.7545, 0.8323],\n",
            "        [0.0305, 0.9968],\n",
            "        [0.0322, 0.9966],\n",
            "        [0.6964, 0.8515],\n",
            "        [0.2351, 0.9673],\n",
            "        [0.1251, 0.9849],\n",
            "        [0.0297, 0.9969],\n",
            "        [0.6816, 0.8562],\n",
            "        [0.3497, 0.9448],\n",
            "        [0.6433, 0.8681],\n",
            "        [0.1648, 0.9790]]), tensor([0., 0., 0., 0., 0., 0., 0., 0., 0., 0., 0., 0., 0., 0., 0., 0., 0., 0., 0., 0., 0., 0., 0., 0.,\n",
            "        0., 0., 0., 0., 0., 0., 0., 0.])]\n"
          ]
        }
      ]
    },
    {
      "cell_type": "markdown",
      "metadata": {
        "id": "kTxMjTciXW4N"
      },
      "source": [
        "### 2. Создание модели"
      ]
    },
    {
      "cell_type": "code",
      "source": [
        "device = torch.device('cuda') if torch.cuda.is_available() else torch.device('cpu')\n",
        "print(device)"
      ],
      "metadata": {
        "colab": {
          "base_uri": "https://localhost:8080/"
        },
        "id": "4DoNQgBLyb9X",
        "outputId": "a07a3927-f0a5-413c-ef54-1e23f56daf00"
      },
      "execution_count": 15,
      "outputs": [
        {
          "output_type": "stream",
          "name": "stdout",
          "text": [
            "cuda\n"
          ]
        }
      ]
    },
    {
      "cell_type": "code",
      "source": [
        "n_epochs = 100  # количество эпох\n",
        "lr = 0.0001     # шаг обучения\n",
        "\n",
        "b1 = 0.5        # гиперпараметр для оптимайзера Adam\n",
        "b2 = 0.999      # гиперпараметр для оптимайзера Adam\n",
        "\n",
        "#latent_dim = 2    # Размерность случайного вектора, который подается на вход генератору\n",
        "\n",
        "#sample_interval = 20  # количество итераций для отображения процесса обучения\n",
        "\n",
        "#batch_size = 32   # размер батча\n",
        "\n",
        "#f_shape = 2    #  X и Y.\n"
      ],
      "metadata": {
        "id": "39cKfzgWys9j"
      },
      "execution_count": 16,
      "outputs": []
    },
    {
      "cell_type": "code",
      "execution_count": 17,
      "metadata": {
        "id": "AwJRiiW2XW4O"
      },
      "outputs": [],
      "source": [
        "class Generator(nn.Module):\n",
        "    def __init__(self):\n",
        "        super().__init__()\n",
        "        \n",
        "        # Использование таких словарей позволяет нам варьировать параметры нашей сети в процессе использования\n",
        "        self.activations = nn.ModuleDict([\n",
        "                ['lrelu', nn.LeakyReLU(0.2, inplace=True)],\n",
        "                ['relu', nn.ReLU(0.2)]])\n",
        "        \n",
        "        def block(in_feat, out_feat, normalize=True, activation='relu'): #activation='relu\n",
        "            layers = [nn.Linear(in_feat, out_feat)] # Если мы создаем последовательность слоев - то мы задаем их\n",
        "                                                    # с помощью списка.\n",
        "            if normalize:\n",
        "                layers.append(nn.BatchNorm1d(out_feat, 0.8))\n",
        "            layers.append(self.activations[activation]) # Эта сторчка означает тоже самое что и\n",
        "                                                       # layers.append(nn.LeakyReLU(0.2, inplace=True))\n",
        "            return layers\n",
        "\n",
        "        self.model = nn.Sequential(\n",
        "            *block(2, 128, normalize=False), # Звездочка означает unpacking списка\n",
        "            *block(128, 256, activation='lrelu'),\n",
        "            *block(256, 512),\n",
        "            *block(512, 1024),\n",
        "            nn.Linear(1024, 2),\n",
        "            nn.ReLU(0.2)\n",
        "        )\n",
        "        # \n",
        "\n",
        "    def forward(self, z):\n",
        "        output_ = self.model(z)\n",
        "        \n",
        "        return output_\n"
      ]
    },
    {
      "cell_type": "code",
      "execution_count": 18,
      "metadata": {
        "id": "Jko_TJgUXW4P"
      },
      "outputs": [],
      "source": [
        "class Discriminator(nn.Module):\n",
        "    def __init__(self):\n",
        "        super().__init__()\n",
        "\n",
        "        self.model = nn.Sequential(\n",
        "            nn.Linear(2, 512),\n",
        "            nn.LeakyReLU(0.2, inplace=True),\n",
        "            nn.Linear(512, 256),\n",
        "            nn.LeakyReLU(0.2, inplace=True),\n",
        "            nn.Linear(256, 1),\n",
        "            nn.Sigmoid(),\n",
        "        )\n",
        "  \n",
        "\n",
        "    def forward(self, data_in):\n",
        "        \n",
        "        validity = self.model(data_in)\n",
        "\n",
        "        return validity"
      ]
    },
    {
      "cell_type": "markdown",
      "metadata": {
        "id": "0wiTbC-CXW4Q"
      },
      "source": [
        "# 3. Обучение"
      ]
    },
    {
      "cell_type": "code",
      "execution_count": 19,
      "metadata": {
        "id": "7YD-7PnAXW4Q"
      },
      "outputs": [],
      "source": [
        "generator = Generator().to(device)\n",
        "discriminator = Discriminator().to(device)\n",
        "\n",
        "# Для каждой нейронки свой опитимизатор\n",
        "optimizer_G = torch.optim.Adam(generator.parameters(), lr=lr, betas=(b1, b2))\n",
        "optimizer_D = torch.optim.Adam(discriminator.parameters(), lr=lr, betas=(b1, b2))\n",
        "\n",
        "# Но вот функция ошибки у нас будет одна общая\n",
        "adversarial_loss = torch.nn.BCELoss()"
      ]
    },
    {
      "cell_type": "code",
      "execution_count": 20,
      "metadata": {
        "id": "6PvBhwhsXW4R"
      },
      "outputs": [],
      "source": [
        "d_loss_history = []\n",
        "g_loss_history = []"
      ]
    },
    {
      "cell_type": "markdown",
      "metadata": {
        "id": "OHsv9ZGuXW4R"
      },
      "source": [
        "процесс обучения, \n",
        "график сгенерированных точек выводится на каждой эпохе"
      ]
    },
    {
      "cell_type": "code",
      "execution_count": 24,
      "metadata": {
        "scrolled": true,
        "colab": {
          "base_uri": "https://localhost:8080/",
          "height": 531
        },
        "id": "M-nMI3NbXW4R",
        "outputId": "f4281209-47be-4178-8730-30f2e8c82723"
      },
      "outputs": [
        {
          "output_type": "stream",
          "name": "stdout",
          "text": [
            "[Epoch 99/100] [Batch 252/32] [D loss: 0.691015] [G loss: 0.697839]\n"
          ]
        },
        {
          "output_type": "display_data",
          "data": {
            "text/plain": [
              "<Figure size 432x288 with 1 Axes>"
            ],
            "image/png": "[encoded data removed]"
          },
          "metadata": {}
        },
        {
          "output_type": "display_data",
          "data": {
            "text/plain": [
              "<Figure size 432x288 with 1 Axes>"
            ],
            "image/png": "[encoded data removed]"
          },
          "metadata": {
            "needs_background": "light"
          }
        }
      ],
      "source": [
        "import matplotlib.patches as mpatches\n",
        "\n",
        "red_patch = mpatches.Patch(color='red', label='D loss')\n",
        "green_patch = mpatches.Patch(color='green', label='G loss')\n",
        "\n",
        "\n",
        "\n",
        "for epoch in range(n_epochs):\n",
        "    for i, (real_samples, _) in enumerate(train_loader):\n",
        "\n",
        "        \n",
        "##################### Лnnейблы для данных: 1 - настоящие, 0 - сгенерированные ########\n",
        "        #real_samples_labels = torch.ones((batch_size, 1)).to(device)\n",
        "        #latent_space_samples = torch.randn((batch_size, 2)).to(device)\n",
        "        \n",
        "        valid = torch.FloatTensor(batch_size, 1).fill_(1.0).to(device)\n",
        "        fake = torch.FloatTensor(batch_size, 1).fill_(0.0).to(device)\n",
        "\n",
        "        real_dt = real_samples.type(torch.FloatTensor).to(device)\n",
        "        #real_samples = real_samples.to(device)\n",
        "\n",
        "######################  Тренировка генератора    ##########################\n",
        "\n",
        "        optimizer_G.zero_grad()\n",
        "    \n",
        "        #генерация шума\n",
        "        z = torch.FloatTensor(np.random.normal(0, 1, (batch_size, 2))).to(device)\n",
        "        \n",
        "        # Генерируем даные Генератором на основе шума\n",
        "        gen_dt = generator(z)\n",
        "        \n",
        "        # Подаем сгенерированые данные на Дискриминатор \n",
        "        validity = discriminator(gen_dt)\n",
        "        \n",
        "        # Тут сравниваем предсказанные значения Дискриминатора(на основе сгенерировнных данных) с настоящими\n",
        "        g_loss = adversarial_loss(validity, valid)\n",
        "        \n",
        "        # Делаем шаг обучения нашего Генератора\n",
        "        g_loss.backward()\n",
        "        optimizer_G.step()\n",
        "\n",
        "\n",
        "######################  Тренировка дискриминатора    ##########################\n",
        "\n",
        "        optimizer_D.zero_grad()\n",
        "        \n",
        "        # Получаем предсказания дискриминатора на основе реальных данных\n",
        "        real_pred = discriminator(real_dt)\n",
        "        \n",
        "        # Тут сравниваем предсказанные значения Дискриминатора(на основе настоящих данных) с настоящими\n",
        "        d_real_loss = adversarial_loss(real_pred, valid)\n",
        "        \n",
        "        # Опять делаем предсказание на Дискриминаторе с помощью сгенерированных данных\n",
        "        fake_pred = discriminator(gen_dt.detach())\n",
        "        \n",
        "        # расчитываем ошибку предсказанного с фейковыми лейблами\n",
        "        d_fake_loss = adversarial_loss(fake_pred, fake)\n",
        "        \n",
        "        # И усредняем два лосса в один\n",
        "        d_loss = (d_real_loss + d_fake_loss) / 2\n",
        "\n",
        "        d_loss.backward()\n",
        "        optimizer_D.step()\n",
        "        \n",
        "######## Отображение процесса обучения и вывод функций потерь ############\n",
        "        batches_done = epoch * len(real_dt) + i\n",
        "    \n",
        "        if batches_done % sample_interval == 0:\n",
        "            with torch.no_grad():\n",
        "                plt.clf()\n",
        "\n",
        "                display.clear_output(wait=False)\n",
        "                \n",
        "                print(\"[Epoch %d/%d] [Batch %d/%d] [D loss: %f] [G loss: %f]\"% (epoch, n_epochs, i, len(real_dt), d_loss.item(), g_loss.item()) ) \n",
        "\n",
        "                generated_samples = gen_dt.detach().cpu()\n",
        "                plt.plot(generated_samples[:, 0], generated_samples[:, 1], \".\")\n",
        "                \n",
        "\n",
        "                display.display(plt.gcf())\n",
        "\n",
        "                d_loss = d_loss.cpu().detach()\n",
        "                g_loss = g_loss.cpu().detach()\n",
        "\n",
        "\n",
        "                d_loss_history.append(d_loss)\n",
        "                g_loss_history.append(g_loss)\n",
        "\n",
        "                plt.plot(np.log(np.array(d_loss_history)), label='D loss', color = 'red')\n",
        "                plt.plot(np.log(np.array(g_loss_history)), label='G loss', color = 'green')\n",
        "                plt.legend(handles=[red_patch, green_patch])\n",
        "                plt.show()\n",
        "\n",
        "            "
      ]
    },
    {
      "cell_type": "code",
      "source": [
        "#для сравнения исходный график\n",
        "plt.plot(train_data[:, 0], train_data[:, 1])"
      ],
      "metadata": {
        "colab": {
          "base_uri": "https://localhost:8080/",
          "height": 283
        },
        "id": "5ZK3hGmTswvT",
        "outputId": "da1f2f08-dccc-4cc2-d97f-bb8adc3d36c9"
      },
      "execution_count": 26,
      "outputs": [
        {
          "output_type": "execute_result",
          "data": {
            "text/plain": [
              "[<matplotlib.lines.Line2D at 0x7f28cf7c6310>]"
            ]
          },
          "metadata": {},
          "execution_count": 26
        },
        {
          "output_type": "display_data",
          "data": {
            "text/plain": [
              "<Figure size 432x288 with 1 Axes>"
            ],
            "image/png": "[encoded data removed]"
          },
          "metadata": {
            "needs_background": "light"
          }
        }
      ]
    },
    {
      "cell_type": "markdown",
      "source": [
        "получили данные, очень похожие на исходные"
      ],
      "metadata": {
        "id": "-UxUmRzZsftz"
      }
    },
    {
      "cell_type": "code",
      "source": [
        ""
      ],
      "metadata": {
        "id": "RdiGytqusfSJ"
      },
      "execution_count": null,
      "outputs": []
    },
    {
      "cell_type": "code",
      "source": [
        ""
      ],
      "metadata": {
        "id": "yZHJw_EQsfOh"
      },
      "execution_count": null,
      "outputs": []
    },
    {
      "cell_type": "code",
      "source": [
        ""
      ],
      "metadata": {
        "id": "lQeKuvdWsfKz"
      },
      "execution_count": null,
      "outputs": []
    },
    {
      "cell_type": "code",
      "source": [
        ""
      ],
      "metadata": {
        "id": "jtH7KrDHsfHf"
      },
      "execution_count": null,
      "outputs": []
    },
    {
      "cell_type": "code",
      "source": [
        ""
      ],
      "metadata": {
        "id": "X4XPEJPWsfER"
      },
      "execution_count": null,
      "outputs": []
    },
    {
      "cell_type": "code",
      "source": [
        ""
      ],
      "metadata": {
        "id": "EyeeR-tQsfA-"
      },
      "execution_count": null,
      "outputs": []
    },
    {
      "cell_type": "code",
      "source": [
        ""
      ],
      "metadata": {
        "id": "AtBAcirpse9f"
      },
      "execution_count": null,
      "outputs": []
    },
    {
      "cell_type": "code",
      "source": [
        ""
      ],
      "metadata": {
        "id": "yW2023nese6X"
      },
      "execution_count": null,
      "outputs": []
    },
    {
      "cell_type": "code",
      "source": [
        ""
      ],
      "metadata": {
        "id": "lIZHowHNse3E"
      },
      "execution_count": null,
      "outputs": []
    },
    {
      "cell_type": "code",
      "source": [
        ""
      ],
      "metadata": {
        "id": "7uN0xNPQse0U"
      },
      "execution_count": null,
      "outputs": []
    },
    {
      "cell_type": "code",
      "source": [
        ""
      ],
      "metadata": {
        "id": "uXlaj8w3sevz"
      },
      "execution_count": null,
      "outputs": []
    },
    {
      "cell_type": "code",
      "source": [
        ""
      ],
      "metadata": {
        "id": "STxCG6Fosesv"
      },
      "execution_count": null,
      "outputs": []
    },
    {
      "cell_type": "code",
      "source": [
        ""
      ],
      "metadata": {
        "id": "aYBqJbfCsepj"
      },
      "execution_count": null,
      "outputs": []
    },
    {
      "cell_type": "code",
      "source": [
        ""
      ],
      "metadata": {
        "id": "B3maqoPwsemN"
      },
      "execution_count": null,
      "outputs": []
    },
    {
      "cell_type": "code",
      "source": [
        ""
      ],
      "metadata": {
        "id": "L5XMf6EDsejk"
      },
      "execution_count": null,
      "outputs": []
    },
    {
      "cell_type": "code",
      "source": [
        ""
      ],
      "metadata": {
        "id": "dSIL3-xPsegN"
      },
      "execution_count": null,
      "outputs": []
    },
    {
      "cell_type": "code",
      "source": [
        ""
      ],
      "metadata": {
        "id": "5XLvNNTasedT"
      },
      "execution_count": null,
      "outputs": []
    },
    {
      "cell_type": "code",
      "source": [
        ""
      ],
      "metadata": {
        "id": "W_zaUbFFseaL"
      },
      "execution_count": null,
      "outputs": []
    },
    {
      "cell_type": "code",
      "source": [
        ""
      ],
      "metadata": {
        "id": "9egbcRl2seW0"
      },
      "execution_count": null,
      "outputs": []
    },
    {
      "cell_type": "code",
      "source": [
        ""
      ],
      "metadata": {
        "id": "S_EltFCTseS3"
      },
      "execution_count": null,
      "outputs": []
    },
    {
      "cell_type": "code",
      "source": [
        ""
      ],
      "metadata": {
        "id": "0vbpMhooseDV"
      },
      "execution_count": null,
      "outputs": []
    },
    {
      "cell_type": "code",
      "source": [
        "'''for epoch in range(n_epochs):\n",
        "    for n, (real_samples, _) in enumerate(train_loader):\n",
        "        # Данные для обучения дискриминатора\n",
        "        # Данные для обучения дискриминатора\n",
        "        real_samples = real_samples.to(device)\n",
        "        #единичные лейблы для валидных данных\n",
        "        real_samples_labels = torch.ones((batch_size, 1)).to(device)\n",
        "        #создание шума\n",
        "        latent_space_samples = torch.randn((batch_size, 2)).to(device)\n",
        "        generated_samples = generator(latent_space_samples).to(device)\n",
        "        #нулевые лейблы для фейковых данных\n",
        "        generated_samples_labels = torch.zeros((batch_size, 1)).to(device)\n",
        "        \n",
        "        all_samples = torch.cat((real_samples, generated_samples)).to(device)\n",
        "        all_samples_labels = torch.cat(\n",
        "            (real_samples_labels, generated_samples_labels)\n",
        "        ).to(device)\n",
        "        \n",
        "        # Обучение дискриминатора\n",
        "        discriminator.zero_grad()\n",
        "        output_discriminator = discriminator(all_samples)\n",
        "        loss_discriminator = adversarial_loss(\n",
        "            output_discriminator, all_samples_labels).to(device)\n",
        "        loss_discriminator.backward()\n",
        "        optimizer_D.step()\n",
        "\n",
        "        # Данные для обучения генератора (шум)\n",
        "        latent_space_samples = torch.randn((batch_size, 2)).to(device)\n",
        "\n",
        "        # Обучение генератора\n",
        "        generator.zero_grad()\n",
        "        generated_samples = generator(latent_space_samples).to(device)\n",
        "        output_discriminator_generated = discriminator(generated_samples)\n",
        "        loss_generator = adversarial_loss(\n",
        "            output_discriminator_generated, real_samples_labels\n",
        "        )\n",
        "        loss_generator.backward()\n",
        "        optimizer_G.step()\n",
        "        # Показать ошибку\n",
        "        if epoch % 10 == 0 and n == batch_size - 1:\n",
        "            print(f\"Epoch: {epoch} Loss D.: {loss_discriminator}\")\n",
        "            print(f\"Epoch: {epoch} Loss G.: {loss_generator}\")'''"
      ],
      "metadata": {
        "colab": {
          "base_uri": "https://localhost:8080/"
        },
        "id": "uyHY4H8LkO94",
        "outputId": "c2f0bbde-ab3a-42b5-c856-b5d1806efc79"
      },
      "execution_count": 20,
      "outputs": [
        {
          "output_type": "stream",
          "name": "stdout",
          "text": [
            "Epoch: 0 Loss D.: 0.7338923215866089\n",
            "Epoch: 0 Loss G.: 0.6298244595527649\n",
            "Epoch: 10 Loss D.: 0.6906738877296448\n",
            "Epoch: 10 Loss G.: 0.7022876739501953\n",
            "Epoch: 20 Loss D.: 0.6861050724983215\n",
            "Epoch: 20 Loss G.: 0.690874457359314\n",
            "Epoch: 30 Loss D.: 0.6936075091362\n",
            "Epoch: 30 Loss G.: 0.7203025817871094\n",
            "Epoch: 40 Loss D.: 0.6790013313293457\n",
            "Epoch: 40 Loss G.: 0.7384317517280579\n",
            "Epoch: 50 Loss D.: 0.701734185218811\n",
            "Epoch: 50 Loss G.: 0.8568160533905029\n",
            "Epoch: 60 Loss D.: 0.6839019656181335\n",
            "Epoch: 60 Loss G.: 0.8217995762825012\n",
            "Epoch: 70 Loss D.: 0.6600666046142578\n",
            "Epoch: 70 Loss G.: 0.6997248530387878\n",
            "Epoch: 80 Loss D.: 0.653719425201416\n",
            "Epoch: 80 Loss G.: 0.7752078771591187\n",
            "Epoch: 90 Loss D.: 0.6486188173294067\n",
            "Epoch: 90 Loss G.: 1.0881860256195068\n"
          ]
        }
      ]
    },
    {
      "cell_type": "code",
      "source": [
        "'''# проверим генератор. создадим шум, используем тоже распределение\n",
        "latent_space_samples = torch.randn(1000, 2).to(device)\n",
        "#latent_space_samples = torch.linspace(-50,50,100)\n",
        "generated_samples = generator(latent_space_samples)'''"
      ],
      "metadata": {
        "id": "-Wykj5QAAvhx"
      },
      "execution_count": 30,
      "outputs": []
    },
    {
      "cell_type": "code",
      "source": [
        "'''generated_samples = generated_samples.detach().cpu()\n",
        "plt.plot(generated_samples[:, 0], generated_samples[:, 1], \".\")'''"
      ],
      "metadata": {
        "colab": {
          "base_uri": "https://localhost:8080/",
          "height": 283
        },
        "id": "jz64BbxmAwmm",
        "outputId": "ac55ceb9-7b30-47be-e97e-811ce5eef2a1"
      },
      "execution_count": 31,
      "outputs": [
        {
          "output_type": "execute_result",
          "data": {
            "text/plain": [
              "[<matplotlib.lines.Line2D at 0x7f3c67e65e10>]"
            ]
          },
          "metadata": {},
          "execution_count": 31
        },
        {
          "output_type": "display_data",
          "data": {
            "text/plain": [
              "<Figure size 432x288 with 1 Axes>"
            ],
            "image/png": "[encoded data removed]"
          },
          "metadata": {
            "needs_background": "light"
          }
        }
      ]
    }
  ],
  "metadata": {
    "kernelspec": {
      "display_name": "Python 3",
      "language": "python",
      "name": "python3"
    },
    "language_info": {
      "codemirror_mode": {
        "name": "ipython",
        "version": 3
      },
      "file_extension": ".py",
      "mimetype": "text/x-python",
      "name": "python",
      "nbconvert_exporter": "python",
      "pygments_lexer": "ipython3",
      "version": "3.7.4"
    },
    "colab": {
      "name": "HW_08_final_pytorch_gan.ipynb",
      "provenance": [],
      "machine_shape": "hm",
      "collapsed_sections": [],
      "include_colab_link": true
    },
    "accelerator": "GPU"
  },
  "nbformat": 4,
  "nbformat_minor": 0
}