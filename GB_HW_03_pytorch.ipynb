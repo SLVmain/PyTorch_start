{
  "cells": [
    {
      "cell_type": "markdown",
      "metadata": {
        "id": "view-in-github",
        "colab_type": "text"
      },
      "source": [
        "<a href=\"https://colab.research.google.com/github/SLVmain/PyTorch_start/blob/Les_03/GB_HW_03_pytorch.ipynb\" target=\"_parent\"><img src=\"https://colab.research.google.com/assets/colab-badge.svg\" alt=\"Open In Colab\"/></a>"
      ]
    },
    {
      "cell_type": "markdown",
      "metadata": {
        "id": "8sMfG0lNVTQG"
      },
      "source": [
        "# Попрактикуемся с тем, что изучили\n",
        "\n",
        "Будем практиковаться на датасете:\n",
        "https://www.kaggle.com/c/avito-demand-prediction\n",
        "\n",
        "Ваша задача:\n",
        "1. Создать Dataset для загрузки данных (используем только числовые данные)\n",
        "2. Обернуть его в Dataloader\n",
        "3. Написать архитектуру сети, которая предсказывает число показов на основании числовых данных (вы всегда можете нагенерить дополнительных факторов). Сеть должна включать BatchNorm слои и Dropout (или НЕ включать, но нужно обосновать)\n",
        "4. Учить будем на функцию потерь с кагла (log RMSE) - нужно её реализовать\n",
        "5. Сравните сходимость Adam, RMSProp и SGD, сделайте вывод по качеству работы модели\n",
        "\n",
        "train-test разделение нужно сделать с помощью sklearn random_state=13, test_size = 0.25\n",
        "\n",
        "Вопросы? в личку @Kinetikm"
      ]
    },
    {
      "cell_type": "code",
      "source": [
        "import numpy as np\n",
        "import pandas as pd\n",
        "import matplotlib.pyplot as plt\n",
        "\n",
        "\n",
        "import torch\n",
        "import torch.nn.functional as F\n",
        "from torch import nn\n",
        "from torch import optim\n",
        "\n",
        "import torchvision\n",
        "import torchvision.transforms as transforms\n",
        "\n",
        "from tqdm import tqdm_notebook\n",
        "from tqdm import tqdm\n",
        "\n",
        "from sklearn.model_selection import train_test_split\n",
        "from sklearn.preprocessing import MinMaxScaler, StandardScaler"
      ],
      "metadata": {
        "id": "Pnxnbj16utNF"
      },
      "execution_count": 1,
      "outputs": []
    },
    {
      "cell_type": "code",
      "source": [
        "from google.colab import drive\n",
        "drive.mount('/content/drive')"
      ],
      "metadata": {
        "colab": {
          "base_uri": "https://localhost:8080/"
        },
        "id": "NKRhLbll6qsa",
        "outputId": "0a026607-35e2-476e-b820-7da7d302cc4a"
      },
      "execution_count": 2,
      "outputs": [
        {
          "output_type": "stream",
          "name": "stdout",
          "text": [
            "Mounted at /content/drive\n"
          ]
        }
      ]
    },
    {
      "cell_type": "code",
      "source": [
        "!ls drive/MyDrive/'Colab Notebooks'"
      ],
      "metadata": {
        "colab": {
          "base_uri": "https://localhost:8080/"
        },
        "id": "eo9ESkgQ6824",
        "outputId": "0e046898-351d-4f36-b56a-60cc286e9dd5"
      },
      "execution_count": 7,
      "outputs": [
        {
          "output_type": "stream",
          "name": "stdout",
          "text": [
            "'pytorch\"Июльский_курс_(2020)_PRO_Занятие_25_Pytorch_Часть_1.ipynb\"'\n",
            " train.csv\n",
            " База_знаний_УИИ_и_разборы\n",
            " Полезности\n",
            " стажировка\n"
          ]
        }
      ]
    },
    {
      "cell_type": "code",
      "source": [
        "data = pd.read_csv('/content/drive/MyDrive/Colab Notebooks/train.csv')\n",
        "data.head()"
      ],
      "metadata": {
        "colab": {
          "base_uri": "https://localhost:8080/",
          "height": 426
        },
        "id": "W5R5mjFxweZz",
        "outputId": "7d127939-8635-4397-83ee-6d1ce0a6b06e"
      },
      "execution_count": 10,
      "outputs": [
        {
          "output_type": "execute_result",
          "data": {
            "text/html": [
              "\n",
              "  <div id=\"df-35ebd342-7ab2-4f3c-a05c-4ce879254aa1\">\n",
              "    <div class=\"colab-df-container\">\n",
              "      <div>\n",
              "<style scoped>\n",
              "    .dataframe tbody tr th:only-of-type {\n",
              "        vertical-align: middle;\n",
              "    }\n",
              "\n",
              "    .dataframe tbody tr th {\n",
              "        vertical-align: top;\n",
              "    }\n",
              "\n",
              "    .dataframe thead th {\n",
              "        text-align: right;\n",
              "    }\n",
              "</style>\n",
              "<table border=\"1\" class=\"dataframe\">\n",
              "  <thead>\n",
              "    <tr style=\"text-align: right;\">\n",
              "      <th></th>\n",
              "      <th>item_id</th>\n",
              "      <th>user_id</th>\n",
              "      <th>region</th>\n",
              "      <th>city</th>\n",
              "      <th>parent_category_name</th>\n",
              "      <th>category_name</th>\n",
              "      <th>param_1</th>\n",
              "      <th>param_2</th>\n",
              "      <th>param_3</th>\n",
              "      <th>title</th>\n",
              "      <th>description</th>\n",
              "      <th>price</th>\n",
              "      <th>item_seq_number</th>\n",
              "      <th>activation_date</th>\n",
              "      <th>user_type</th>\n",
              "      <th>image</th>\n",
              "      <th>image_top_1</th>\n",
              "      <th>deal_probability</th>\n",
              "    </tr>\n",
              "  </thead>\n",
              "  <tbody>\n",
              "    <tr>\n",
              "      <th>0</th>\n",
              "      <td>b912c3c6a6ad</td>\n",
              "      <td>e00f8ff2eaf9</td>\n",
              "      <td>Свердловская область</td>\n",
              "      <td>Екатеринбург</td>\n",
              "      <td>Личные вещи</td>\n",
              "      <td>Товары для детей и игрушки</td>\n",
              "      <td>Постельные принадлежности</td>\n",
              "      <td>NaN</td>\n",
              "      <td>NaN</td>\n",
              "      <td>Кокоби(кокон для сна)</td>\n",
              "      <td>Кокон для сна малыша,пользовались меньше месяц...</td>\n",
              "      <td>400.0</td>\n",
              "      <td>2</td>\n",
              "      <td>2017-03-28</td>\n",
              "      <td>Private</td>\n",
              "      <td>d10c7e016e03247a3bf2d13348fe959fe6f436c1caf64c...</td>\n",
              "      <td>1008.0</td>\n",
              "      <td>0.12789</td>\n",
              "    </tr>\n",
              "    <tr>\n",
              "      <th>1</th>\n",
              "      <td>2dac0150717d</td>\n",
              "      <td>39aeb48f0017</td>\n",
              "      <td>Самарская область</td>\n",
              "      <td>Самара</td>\n",
              "      <td>Для дома и дачи</td>\n",
              "      <td>Мебель и интерьер</td>\n",
              "      <td>Другое</td>\n",
              "      <td>NaN</td>\n",
              "      <td>NaN</td>\n",
              "      <td>Стойка для Одежды</td>\n",
              "      <td>Стойка для одежды, под вешалки. С бутика.</td>\n",
              "      <td>3000.0</td>\n",
              "      <td>19</td>\n",
              "      <td>2017-03-26</td>\n",
              "      <td>Private</td>\n",
              "      <td>79c9392cc51a9c81c6eb91eceb8e552171db39d7142700...</td>\n",
              "      <td>692.0</td>\n",
              "      <td>0.00000</td>\n",
              "    </tr>\n",
              "    <tr>\n",
              "      <th>2</th>\n",
              "      <td>ba83aefab5dc</td>\n",
              "      <td>91e2f88dd6e3</td>\n",
              "      <td>Ростовская область</td>\n",
              "      <td>Ростов-на-Дону</td>\n",
              "      <td>Бытовая электроника</td>\n",
              "      <td>Аудио и видео</td>\n",
              "      <td>Видео, DVD и Blu-ray плееры</td>\n",
              "      <td>NaN</td>\n",
              "      <td>NaN</td>\n",
              "      <td>Philips bluray</td>\n",
              "      <td>В хорошем состоянии, домашний кинотеатр с blu ...</td>\n",
              "      <td>4000.0</td>\n",
              "      <td>9</td>\n",
              "      <td>2017-03-20</td>\n",
              "      <td>Private</td>\n",
              "      <td>b7f250ee3f39e1fedd77c141f273703f4a9be59db4b48a...</td>\n",
              "      <td>3032.0</td>\n",
              "      <td>0.43177</td>\n",
              "    </tr>\n",
              "    <tr>\n",
              "      <th>3</th>\n",
              "      <td>02996f1dd2ea</td>\n",
              "      <td>bf5cccea572d</td>\n",
              "      <td>Татарстан</td>\n",
              "      <td>Набережные Челны</td>\n",
              "      <td>Личные вещи</td>\n",
              "      <td>Товары для детей и игрушки</td>\n",
              "      <td>Автомобильные кресла</td>\n",
              "      <td>NaN</td>\n",
              "      <td>NaN</td>\n",
              "      <td>Автокресло</td>\n",
              "      <td>Продам кресло от0-25кг</td>\n",
              "      <td>2200.0</td>\n",
              "      <td>286</td>\n",
              "      <td>2017-03-25</td>\n",
              "      <td>Company</td>\n",
              "      <td>e6ef97e0725637ea84e3d203e82dadb43ed3cc0a1c8413...</td>\n",
              "      <td>796.0</td>\n",
              "      <td>0.80323</td>\n",
              "    </tr>\n",
              "    <tr>\n",
              "      <th>4</th>\n",
              "      <td>7c90be56d2ab</td>\n",
              "      <td>ef50846afc0b</td>\n",
              "      <td>Волгоградская область</td>\n",
              "      <td>Волгоград</td>\n",
              "      <td>Транспорт</td>\n",
              "      <td>Автомобили</td>\n",
              "      <td>С пробегом</td>\n",
              "      <td>ВАЗ (LADA)</td>\n",
              "      <td>2110</td>\n",
              "      <td>ВАЗ 2110, 2003</td>\n",
              "      <td>Все вопросы по телефону.</td>\n",
              "      <td>40000.0</td>\n",
              "      <td>3</td>\n",
              "      <td>2017-03-16</td>\n",
              "      <td>Private</td>\n",
              "      <td>54a687a3a0fc1d68aed99bdaaf551c5c70b761b16fd0a2...</td>\n",
              "      <td>2264.0</td>\n",
              "      <td>0.20797</td>\n",
              "    </tr>\n",
              "  </tbody>\n",
              "</table>\n",
              "</div>\n",
              "      <button class=\"colab-df-convert\" onclick=\"convertToInteractive('df-35ebd342-7ab2-4f3c-a05c-4ce879254aa1')\"\n",
              "              title=\"Convert this dataframe to an interactive table.\"\n",
              "              style=\"display:none;\">\n",
              "        \n",
              "  <svg xmlns=\"http://www.w3.org/2000/svg\" height=\"24px\"viewBox=\"0 0 24 24\"\n",
              "       width=\"24px\">\n",
              "    <path d=\"M0 0h24v24H0V0z\" fill=\"none\"/>\n",
              "    <path d=\"M18.56 5.44l.94 2.06.94-2.06 2.06-.94-2.06-.94-.94-2.06-.94 2.06-2.06.94zm-11 1L8.5 8.5l.94-2.06 2.06-.94-2.06-.94L8.5 2.5l-.94 2.06-2.06.94zm10 10l.94 2.06.94-2.06 2.06-.94-2.06-.94-.94-2.06-.94 2.06-2.06.94z\"/><path d=\"M17.41 7.96l-1.37-1.37c-.4-.4-.92-.59-1.43-.59-.52 0-1.04.2-1.43.59L10.3 9.45l-7.72 7.72c-.78.78-.78 2.05 0 2.83L4 21.41c.39.39.9.59 1.41.59.51 0 1.02-.2 1.41-.59l7.78-7.78 2.81-2.81c.8-.78.8-2.07 0-2.86zM5.41 20L4 18.59l7.72-7.72 1.47 1.35L5.41 20z\"/>\n",
              "  </svg>\n",
              "      </button>\n",
              "      \n",
              "  <style>\n",
              "    .colab-df-container {\n",
              "      display:flex;\n",
              "      flex-wrap:wrap;\n",
              "      gap: 12px;\n",
              "    }\n",
              "\n",
              "    .colab-df-convert {\n",
              "      background-color: #E8F0FE;\n",
              "      border: none;\n",
              "      border-radius: 50%;\n",
              "      cursor: pointer;\n",
              "      display: none;\n",
              "      fill: #1967D2;\n",
              "      height: 32px;\n",
              "      padding: 0 0 0 0;\n",
              "      width: 32px;\n",
              "    }\n",
              "\n",
              "    .colab-df-convert:hover {\n",
              "      background-color: #E2EBFA;\n",
              "      box-shadow: 0px 1px 2px rgba(60, 64, 67, 0.3), 0px 1px 3px 1px rgba(60, 64, 67, 0.15);\n",
              "      fill: #174EA6;\n",
              "    }\n",
              "\n",
              "    [theme=dark] .colab-df-convert {\n",
              "      background-color: #3B4455;\n",
              "      fill: #D2E3FC;\n",
              "    }\n",
              "\n",
              "    [theme=dark] .colab-df-convert:hover {\n",
              "      background-color: #434B5C;\n",
              "      box-shadow: 0px 1px 3px 1px rgba(0, 0, 0, 0.15);\n",
              "      filter: drop-shadow(0px 1px 2px rgba(0, 0, 0, 0.3));\n",
              "      fill: #FFFFFF;\n",
              "    }\n",
              "  </style>\n",
              "\n",
              "      <script>\n",
              "        const buttonEl =\n",
              "          document.querySelector('#df-35ebd342-7ab2-4f3c-a05c-4ce879254aa1 button.colab-df-convert');\n",
              "        buttonEl.style.display =\n",
              "          google.colab.kernel.accessAllowed ? 'block' : 'none';\n",
              "\n",
              "        async function convertToInteractive(key) {\n",
              "          const element = document.querySelector('#df-35ebd342-7ab2-4f3c-a05c-4ce879254aa1');\n",
              "          const dataTable =\n",
              "            await google.colab.kernel.invokeFunction('convertToInteractive',\n",
              "                                                     [key], {});\n",
              "          if (!dataTable) return;\n",
              "\n",
              "          const docLinkHtml = 'Like what you see? Visit the ' +\n",
              "            '<a target=\"_blank\" href=https://colab.research.google.com/notebooks/data_table.ipynb>data table notebook</a>'\n",
              "            + ' to learn more about interactive tables.';\n",
              "          element.innerHTML = '';\n",
              "          dataTable['output_type'] = 'display_data';\n",
              "          await google.colab.output.renderOutput(dataTable, element);\n",
              "          const docLink = document.createElement('div');\n",
              "          docLink.innerHTML = docLinkHtml;\n",
              "          element.appendChild(docLink);\n",
              "        }\n",
              "      </script>\n",
              "    </div>\n",
              "  </div>\n",
              "  "
            ],
            "text/plain": [
              "        item_id       user_id  ... image_top_1 deal_probability\n",
              "0  b912c3c6a6ad  e00f8ff2eaf9  ...      1008.0          0.12789\n",
              "1  2dac0150717d  39aeb48f0017  ...       692.0          0.00000\n",
              "2  ba83aefab5dc  91e2f88dd6e3  ...      3032.0          0.43177\n",
              "3  02996f1dd2ea  bf5cccea572d  ...       796.0          0.80323\n",
              "4  7c90be56d2ab  ef50846afc0b  ...      2264.0          0.20797\n",
              "\n",
              "[5 rows x 18 columns]"
            ]
          },
          "metadata": {},
          "execution_count": 10
        }
      ]
    },
    {
      "cell_type": "code",
      "source": [
        "data.columns"
      ],
      "metadata": {
        "colab": {
          "base_uri": "https://localhost:8080/"
        },
        "id": "QZBuOjwq7UWp",
        "outputId": "c3963fc7-1d60-499b-8c0d-2bdb9ed84678"
      },
      "execution_count": 11,
      "outputs": [
        {
          "output_type": "execute_result",
          "data": {
            "text/plain": [
              "Index(['item_id', 'user_id', 'region', 'city', 'parent_category_name',\n",
              "       'category_name', 'param_1', 'param_2', 'param_3', 'title',\n",
              "       'description', 'price', 'item_seq_number', 'activation_date',\n",
              "       'user_type', 'image', 'image_top_1', 'deal_probability'],\n",
              "      dtype='object')"
            ]
          },
          "metadata": {},
          "execution_count": 11
        }
      ]
    },
    {
      "cell_type": "code",
      "source": [
        "data.info()"
      ],
      "metadata": {
        "colab": {
          "base_uri": "https://localhost:8080/"
        },
        "id": "SdNTZLPB7h9Z",
        "outputId": "580d3e78-c692-407e-89be-81a7a718322d"
      },
      "execution_count": 12,
      "outputs": [
        {
          "output_type": "stream",
          "name": "stdout",
          "text": [
            "<class 'pandas.core.frame.DataFrame'>\n",
            "RangeIndex: 1503424 entries, 0 to 1503423\n",
            "Data columns (total 18 columns):\n",
            " #   Column                Non-Null Count    Dtype  \n",
            "---  ------                --------------    -----  \n",
            " 0   item_id               1503424 non-null  object \n",
            " 1   user_id               1503424 non-null  object \n",
            " 2   region                1503424 non-null  object \n",
            " 3   city                  1503424 non-null  object \n",
            " 4   parent_category_name  1503424 non-null  object \n",
            " 5   category_name         1503424 non-null  object \n",
            " 6   param_1               1441848 non-null  object \n",
            " 7   param_2               848882 non-null   object \n",
            " 8   param_3               640859 non-null   object \n",
            " 9   title                 1503424 non-null  object \n",
            " 10  description           1387148 non-null  object \n",
            " 11  price                 1418062 non-null  float64\n",
            " 12  item_seq_number       1503424 non-null  int64  \n",
            " 13  activation_date       1503424 non-null  object \n",
            " 14  user_type             1503424 non-null  object \n",
            " 15  image                 1390836 non-null  object \n",
            " 16  image_top_1           1390836 non-null  float64\n",
            " 17  deal_probability      1503424 non-null  float64\n",
            "dtypes: float64(3), int64(1), object(14)\n",
            "memory usage: 206.5+ MB\n"
          ]
        }
      ]
    },
    {
      "cell_type": "code",
      "source": [
        "numeric_feature_names = ['price', 'item_seq_number', 'image_top_1', 'deal_probability']\n",
        "numeric_features = data[numeric_feature_names]\n",
        "numeric_features.head()"
      ],
      "metadata": {
        "colab": {
          "base_uri": "https://localhost:8080/",
          "height": 206
        },
        "id": "RfJOqulc73Q1",
        "outputId": "e5f7337d-2656-4c43-86bf-4176d63985a5"
      },
      "execution_count": 18,
      "outputs": [
        {
          "output_type": "execute_result",
          "data": {
            "text/html": [
              "\n",
              "  <div id=\"df-fe4796ca-73e6-48e0-bd52-da67b4a0b3e7\">\n",
              "    <div class=\"colab-df-container\">\n",
              "      <div>\n",
              "<style scoped>\n",
              "    .dataframe tbody tr th:only-of-type {\n",
              "        vertical-align: middle;\n",
              "    }\n",
              "\n",
              "    .dataframe tbody tr th {\n",
              "        vertical-align: top;\n",
              "    }\n",
              "\n",
              "    .dataframe thead th {\n",
              "        text-align: right;\n",
              "    }\n",
              "</style>\n",
              "<table border=\"1\" class=\"dataframe\">\n",
              "  <thead>\n",
              "    <tr style=\"text-align: right;\">\n",
              "      <th></th>\n",
              "      <th>price</th>\n",
              "      <th>item_seq_number</th>\n",
              "      <th>image_top_1</th>\n",
              "      <th>deal_probability</th>\n",
              "    </tr>\n",
              "  </thead>\n",
              "  <tbody>\n",
              "    <tr>\n",
              "      <th>0</th>\n",
              "      <td>400.0</td>\n",
              "      <td>2</td>\n",
              "      <td>1008.0</td>\n",
              "      <td>0.12789</td>\n",
              "    </tr>\n",
              "    <tr>\n",
              "      <th>1</th>\n",
              "      <td>3000.0</td>\n",
              "      <td>19</td>\n",
              "      <td>692.0</td>\n",
              "      <td>0.00000</td>\n",
              "    </tr>\n",
              "    <tr>\n",
              "      <th>2</th>\n",
              "      <td>4000.0</td>\n",
              "      <td>9</td>\n",
              "      <td>3032.0</td>\n",
              "      <td>0.43177</td>\n",
              "    </tr>\n",
              "    <tr>\n",
              "      <th>3</th>\n",
              "      <td>2200.0</td>\n",
              "      <td>286</td>\n",
              "      <td>796.0</td>\n",
              "      <td>0.80323</td>\n",
              "    </tr>\n",
              "    <tr>\n",
              "      <th>4</th>\n",
              "      <td>40000.0</td>\n",
              "      <td>3</td>\n",
              "      <td>2264.0</td>\n",
              "      <td>0.20797</td>\n",
              "    </tr>\n",
              "  </tbody>\n",
              "</table>\n",
              "</div>\n",
              "      <button class=\"colab-df-convert\" onclick=\"convertToInteractive('df-fe4796ca-73e6-48e0-bd52-da67b4a0b3e7')\"\n",
              "              title=\"Convert this dataframe to an interactive table.\"\n",
              "              style=\"display:none;\">\n",
              "        \n",
              "  <svg xmlns=\"http://www.w3.org/2000/svg\" height=\"24px\"viewBox=\"0 0 24 24\"\n",
              "       width=\"24px\">\n",
              "    <path d=\"M0 0h24v24H0V0z\" fill=\"none\"/>\n",
              "    <path d=\"M18.56 5.44l.94 2.06.94-2.06 2.06-.94-2.06-.94-.94-2.06-.94 2.06-2.06.94zm-11 1L8.5 8.5l.94-2.06 2.06-.94-2.06-.94L8.5 2.5l-.94 2.06-2.06.94zm10 10l.94 2.06.94-2.06 2.06-.94-2.06-.94-.94-2.06-.94 2.06-2.06.94z\"/><path d=\"M17.41 7.96l-1.37-1.37c-.4-.4-.92-.59-1.43-.59-.52 0-1.04.2-1.43.59L10.3 9.45l-7.72 7.72c-.78.78-.78 2.05 0 2.83L4 21.41c.39.39.9.59 1.41.59.51 0 1.02-.2 1.41-.59l7.78-7.78 2.81-2.81c.8-.78.8-2.07 0-2.86zM5.41 20L4 18.59l7.72-7.72 1.47 1.35L5.41 20z\"/>\n",
              "  </svg>\n",
              "      </button>\n",
              "      \n",
              "  <style>\n",
              "    .colab-df-container {\n",
              "      display:flex;\n",
              "      flex-wrap:wrap;\n",
              "      gap: 12px;\n",
              "    }\n",
              "\n",
              "    .colab-df-convert {\n",
              "      background-color: #E8F0FE;\n",
              "      border: none;\n",
              "      border-radius: 50%;\n",
              "      cursor: pointer;\n",
              "      display: none;\n",
              "      fill: #1967D2;\n",
              "      height: 32px;\n",
              "      padding: 0 0 0 0;\n",
              "      width: 32px;\n",
              "    }\n",
              "\n",
              "    .colab-df-convert:hover {\n",
              "      background-color: #E2EBFA;\n",
              "      box-shadow: 0px 1px 2px rgba(60, 64, 67, 0.3), 0px 1px 3px 1px rgba(60, 64, 67, 0.15);\n",
              "      fill: #174EA6;\n",
              "    }\n",
              "\n",
              "    [theme=dark] .colab-df-convert {\n",
              "      background-color: #3B4455;\n",
              "      fill: #D2E3FC;\n",
              "    }\n",
              "\n",
              "    [theme=dark] .colab-df-convert:hover {\n",
              "      background-color: #434B5C;\n",
              "      box-shadow: 0px 1px 3px 1px rgba(0, 0, 0, 0.15);\n",
              "      filter: drop-shadow(0px 1px 2px rgba(0, 0, 0, 0.3));\n",
              "      fill: #FFFFFF;\n",
              "    }\n",
              "  </style>\n",
              "\n",
              "      <script>\n",
              "        const buttonEl =\n",
              "          document.querySelector('#df-fe4796ca-73e6-48e0-bd52-da67b4a0b3e7 button.colab-df-convert');\n",
              "        buttonEl.style.display =\n",
              "          google.colab.kernel.accessAllowed ? 'block' : 'none';\n",
              "\n",
              "        async function convertToInteractive(key) {\n",
              "          const element = document.querySelector('#df-fe4796ca-73e6-48e0-bd52-da67b4a0b3e7');\n",
              "          const dataTable =\n",
              "            await google.colab.kernel.invokeFunction('convertToInteractive',\n",
              "                                                     [key], {});\n",
              "          if (!dataTable) return;\n",
              "\n",
              "          const docLinkHtml = 'Like what you see? Visit the ' +\n",
              "            '<a target=\"_blank\" href=https://colab.research.google.com/notebooks/data_table.ipynb>data table notebook</a>'\n",
              "            + ' to learn more about interactive tables.';\n",
              "          element.innerHTML = '';\n",
              "          dataTable['output_type'] = 'display_data';\n",
              "          await google.colab.output.renderOutput(dataTable, element);\n",
              "          const docLink = document.createElement('div');\n",
              "          docLink.innerHTML = docLinkHtml;\n",
              "          element.appendChild(docLink);\n",
              "        }\n",
              "      </script>\n",
              "    </div>\n",
              "  </div>\n",
              "  "
            ],
            "text/plain": [
              "     price  item_seq_number  image_top_1  deal_probability\n",
              "0    400.0                2       1008.0           0.12789\n",
              "1   3000.0               19        692.0           0.00000\n",
              "2   4000.0                9       3032.0           0.43177\n",
              "3   2200.0              286        796.0           0.80323\n",
              "4  40000.0                3       2264.0           0.20797"
            ]
          },
          "metadata": {},
          "execution_count": 18
        }
      ]
    },
    {
      "cell_type": "code",
      "source": [
        "for col in numeric_features.columns:\n",
        "  if numeric_features[col].isna().sum() > 0:\n",
        "    numeric_features[col].fillna(numeric_features[col].median(), inplace=True)"
      ],
      "metadata": {
        "colab": {
          "base_uri": "https://localhost:8080/"
        },
        "id": "kLvegL9kOiFU",
        "outputId": "719e2cd1-ad69-43a2-af8f-7e9468f5401c"
      },
      "execution_count": 19,
      "outputs": [
        {
          "output_type": "stream",
          "name": "stderr",
          "text": [
            "/usr/local/lib/python3.7/dist-packages/pandas/core/generic.py:6392: SettingWithCopyWarning: \n",
            "A value is trying to be set on a copy of a slice from a DataFrame\n",
            "\n",
            "See the caveats in the documentation: https://pandas.pydata.org/pandas-docs/stable/user_guide/indexing.html#returning-a-view-versus-a-copy\n",
            "  return self._update_inplace(result)\n"
          ]
        }
      ]
    },
    {
      "cell_type": "code",
      "source": [
        "numeric_features.isna().sum()"
      ],
      "metadata": {
        "colab": {
          "base_uri": "https://localhost:8080/"
        },
        "id": "eCOy3rnGO701",
        "outputId": "7718f677-6558-4287-e85c-d5c227e1fefa"
      },
      "execution_count": 20,
      "outputs": [
        {
          "output_type": "execute_result",
          "data": {
            "text/plain": [
              "price               0\n",
              "item_seq_number     0\n",
              "image_top_1         0\n",
              "deal_probability    0\n",
              "dtype: int64"
            ]
          },
          "metadata": {},
          "execution_count": 20
        }
      ]
    },
    {
      "cell_type": "code",
      "source": [
        "scaler = StandardScaler()\n",
        "\n",
        "numeric_features[['price']] = scaler.fit_transform(numeric_features[['price']])\n",
        "numeric_features[['item_seq_number']] = scaler.fit_transform(numeric_features[['item_seq_number']])\n",
        "numeric_features[['image_top_1']] = scaler.fit_transform(numeric_features[['image_top_1']])\n",
        "\n",
        "numeric_features.head()"
      ],
      "metadata": {
        "colab": {
          "base_uri": "https://localhost:8080/",
          "height": 519
        },
        "id": "9EPklCGfpOfD",
        "outputId": "ee21f732-7dc2-47b2-d2a3-e5b56e4199dd"
      },
      "execution_count": 23,
      "outputs": [
        {
          "output_type": "stream",
          "name": "stderr",
          "text": [
            "/usr/local/lib/python3.7/dist-packages/pandas/core/frame.py:3678: SettingWithCopyWarning: \n",
            "A value is trying to be set on a copy of a slice from a DataFrame.\n",
            "Try using .loc[row_indexer,col_indexer] = value instead\n",
            "\n",
            "See the caveats in the documentation: https://pandas.pydata.org/pandas-docs/stable/user_guide/indexing.html#returning-a-view-versus-a-copy\n",
            "  self[col] = igetitem(value, i)\n",
            "/usr/local/lib/python3.7/dist-packages/pandas/core/frame.py:3678: SettingWithCopyWarning: \n",
            "A value is trying to be set on a copy of a slice from a DataFrame.\n",
            "Try using .loc[row_indexer,col_indexer] = value instead\n",
            "\n",
            "See the caveats in the documentation: https://pandas.pydata.org/pandas-docs/stable/user_guide/indexing.html#returning-a-view-versus-a-copy\n",
            "  self[col] = igetitem(value, i)\n",
            "/usr/local/lib/python3.7/dist-packages/pandas/core/frame.py:3678: SettingWithCopyWarning: \n",
            "A value is trying to be set on a copy of a slice from a DataFrame.\n",
            "Try using .loc[row_indexer,col_indexer] = value instead\n",
            "\n",
            "See the caveats in the documentation: https://pandas.pydata.org/pandas-docs/stable/user_guide/indexing.html#returning-a-view-versus-a-copy\n",
            "  self[col] = igetitem(value, i)\n"
          ]
        },
        {
          "output_type": "execute_result",
          "data": {
            "text/html": [
              "\n",
              "  <div id=\"df-398703ad-05fa-4072-a188-f352e2a2e3f9\">\n",
              "    <div class=\"colab-df-container\">\n",
              "      <div>\n",
              "<style scoped>\n",
              "    .dataframe tbody tr th:only-of-type {\n",
              "        vertical-align: middle;\n",
              "    }\n",
              "\n",
              "    .dataframe tbody tr th {\n",
              "        vertical-align: top;\n",
              "    }\n",
              "\n",
              "    .dataframe thead th {\n",
              "        text-align: right;\n",
              "    }\n",
              "</style>\n",
              "<table border=\"1\" class=\"dataframe\">\n",
              "  <thead>\n",
              "    <tr style=\"text-align: right;\">\n",
              "      <th></th>\n",
              "      <th>price</th>\n",
              "      <th>item_seq_number</th>\n",
              "      <th>image_top_1</th>\n",
              "      <th>deal_probability</th>\n",
              "    </tr>\n",
              "  </thead>\n",
              "  <tbody>\n",
              "    <tr>\n",
              "      <th>0</th>\n",
              "      <td>-0.004593</td>\n",
              "      <td>-0.133095</td>\n",
              "      <td>-0.235462</td>\n",
              "      <td>0.12789</td>\n",
              "    </tr>\n",
              "    <tr>\n",
              "      <th>1</th>\n",
              "      <td>-0.004553</td>\n",
              "      <td>-0.130044</td>\n",
              "      <td>-0.573543</td>\n",
              "      <td>0.00000</td>\n",
              "    </tr>\n",
              "    <tr>\n",
              "      <th>2</th>\n",
              "      <td>-0.004538</td>\n",
              "      <td>-0.131839</td>\n",
              "      <td>1.929969</td>\n",
              "      <td>0.43177</td>\n",
              "    </tr>\n",
              "    <tr>\n",
              "      <th>3</th>\n",
              "      <td>-0.004566</td>\n",
              "      <td>-0.082131</td>\n",
              "      <td>-0.462276</td>\n",
              "      <td>0.80323</td>\n",
              "    </tr>\n",
              "    <tr>\n",
              "      <th>4</th>\n",
              "      <td>-0.003984</td>\n",
              "      <td>-0.132915</td>\n",
              "      <td>1.108304</td>\n",
              "      <td>0.20797</td>\n",
              "    </tr>\n",
              "  </tbody>\n",
              "</table>\n",
              "</div>\n",
              "      <button class=\"colab-df-convert\" onclick=\"convertToInteractive('df-398703ad-05fa-4072-a188-f352e2a2e3f9')\"\n",
              "              title=\"Convert this dataframe to an interactive table.\"\n",
              "              style=\"display:none;\">\n",
              "        \n",
              "  <svg xmlns=\"http://www.w3.org/2000/svg\" height=\"24px\"viewBox=\"0 0 24 24\"\n",
              "       width=\"24px\">\n",
              "    <path d=\"M0 0h24v24H0V0z\" fill=\"none\"/>\n",
              "    <path d=\"M18.56 5.44l.94 2.06.94-2.06 2.06-.94-2.06-.94-.94-2.06-.94 2.06-2.06.94zm-11 1L8.5 8.5l.94-2.06 2.06-.94-2.06-.94L8.5 2.5l-.94 2.06-2.06.94zm10 10l.94 2.06.94-2.06 2.06-.94-2.06-.94-.94-2.06-.94 2.06-2.06.94z\"/><path d=\"M17.41 7.96l-1.37-1.37c-.4-.4-.92-.59-1.43-.59-.52 0-1.04.2-1.43.59L10.3 9.45l-7.72 7.72c-.78.78-.78 2.05 0 2.83L4 21.41c.39.39.9.59 1.41.59.51 0 1.02-.2 1.41-.59l7.78-7.78 2.81-2.81c.8-.78.8-2.07 0-2.86zM5.41 20L4 18.59l7.72-7.72 1.47 1.35L5.41 20z\"/>\n",
              "  </svg>\n",
              "      </button>\n",
              "      \n",
              "  <style>\n",
              "    .colab-df-container {\n",
              "      display:flex;\n",
              "      flex-wrap:wrap;\n",
              "      gap: 12px;\n",
              "    }\n",
              "\n",
              "    .colab-df-convert {\n",
              "      background-color: #E8F0FE;\n",
              "      border: none;\n",
              "      border-radius: 50%;\n",
              "      cursor: pointer;\n",
              "      display: none;\n",
              "      fill: #1967D2;\n",
              "      height: 32px;\n",
              "      padding: 0 0 0 0;\n",
              "      width: 32px;\n",
              "    }\n",
              "\n",
              "    .colab-df-convert:hover {\n",
              "      background-color: #E2EBFA;\n",
              "      box-shadow: 0px 1px 2px rgba(60, 64, 67, 0.3), 0px 1px 3px 1px rgba(60, 64, 67, 0.15);\n",
              "      fill: #174EA6;\n",
              "    }\n",
              "\n",
              "    [theme=dark] .colab-df-convert {\n",
              "      background-color: #3B4455;\n",
              "      fill: #D2E3FC;\n",
              "    }\n",
              "\n",
              "    [theme=dark] .colab-df-convert:hover {\n",
              "      background-color: #434B5C;\n",
              "      box-shadow: 0px 1px 3px 1px rgba(0, 0, 0, 0.15);\n",
              "      filter: drop-shadow(0px 1px 2px rgba(0, 0, 0, 0.3));\n",
              "      fill: #FFFFFF;\n",
              "    }\n",
              "  </style>\n",
              "\n",
              "      <script>\n",
              "        const buttonEl =\n",
              "          document.querySelector('#df-398703ad-05fa-4072-a188-f352e2a2e3f9 button.colab-df-convert');\n",
              "        buttonEl.style.display =\n",
              "          google.colab.kernel.accessAllowed ? 'block' : 'none';\n",
              "\n",
              "        async function convertToInteractive(key) {\n",
              "          const element = document.querySelector('#df-398703ad-05fa-4072-a188-f352e2a2e3f9');\n",
              "          const dataTable =\n",
              "            await google.colab.kernel.invokeFunction('convertToInteractive',\n",
              "                                                     [key], {});\n",
              "          if (!dataTable) return;\n",
              "\n",
              "          const docLinkHtml = 'Like what you see? Visit the ' +\n",
              "            '<a target=\"_blank\" href=https://colab.research.google.com/notebooks/data_table.ipynb>data table notebook</a>'\n",
              "            + ' to learn more about interactive tables.';\n",
              "          element.innerHTML = '';\n",
              "          dataTable['output_type'] = 'display_data';\n",
              "          await google.colab.output.renderOutput(dataTable, element);\n",
              "          const docLink = document.createElement('div');\n",
              "          docLink.innerHTML = docLinkHtml;\n",
              "          element.appendChild(docLink);\n",
              "        }\n",
              "      </script>\n",
              "    </div>\n",
              "  </div>\n",
              "  "
            ],
            "text/plain": [
              "      price  item_seq_number  image_top_1  deal_probability\n",
              "0 -0.004593        -0.133095    -0.235462           0.12789\n",
              "1 -0.004553        -0.130044    -0.573543           0.00000\n",
              "2 -0.004538        -0.131839     1.929969           0.43177\n",
              "3 -0.004566        -0.082131    -0.462276           0.80323\n",
              "4 -0.003984        -0.132915     1.108304           0.20797"
            ]
          },
          "metadata": {},
          "execution_count": 23
        }
      ]
    },
    {
      "cell_type": "code",
      "source": [
        "numeric_features.iloc[:, :-1]"
      ],
      "metadata": {
        "colab": {
          "base_uri": "https://localhost:8080/",
          "height": 424
        },
        "id": "Pps3z8Zrii_p",
        "outputId": "f30a30dc-d151-4a56-d014-563f11b2931c"
      },
      "execution_count": 24,
      "outputs": [
        {
          "output_type": "execute_result",
          "data": {
            "text/html": [
              "\n",
              "  <div id=\"df-94ef1936-877b-4f9b-b971-848dd0da0894\">\n",
              "    <div class=\"colab-df-container\">\n",
              "      <div>\n",
              "<style scoped>\n",
              "    .dataframe tbody tr th:only-of-type {\n",
              "        vertical-align: middle;\n",
              "    }\n",
              "\n",
              "    .dataframe tbody tr th {\n",
              "        vertical-align: top;\n",
              "    }\n",
              "\n",
              "    .dataframe thead th {\n",
              "        text-align: right;\n",
              "    }\n",
              "</style>\n",
              "<table border=\"1\" class=\"dataframe\">\n",
              "  <thead>\n",
              "    <tr style=\"text-align: right;\">\n",
              "      <th></th>\n",
              "      <th>price</th>\n",
              "      <th>item_seq_number</th>\n",
              "      <th>image_top_1</th>\n",
              "    </tr>\n",
              "  </thead>\n",
              "  <tbody>\n",
              "    <tr>\n",
              "      <th>0</th>\n",
              "      <td>-0.004593</td>\n",
              "      <td>-0.133095</td>\n",
              "      <td>-0.235462</td>\n",
              "    </tr>\n",
              "    <tr>\n",
              "      <th>1</th>\n",
              "      <td>-0.004553</td>\n",
              "      <td>-0.130044</td>\n",
              "      <td>-0.573543</td>\n",
              "    </tr>\n",
              "    <tr>\n",
              "      <th>2</th>\n",
              "      <td>-0.004538</td>\n",
              "      <td>-0.131839</td>\n",
              "      <td>1.929969</td>\n",
              "    </tr>\n",
              "    <tr>\n",
              "      <th>3</th>\n",
              "      <td>-0.004566</td>\n",
              "      <td>-0.082131</td>\n",
              "      <td>-0.462276</td>\n",
              "    </tr>\n",
              "    <tr>\n",
              "      <th>4</th>\n",
              "      <td>-0.003984</td>\n",
              "      <td>-0.132915</td>\n",
              "      <td>1.108304</td>\n",
              "    </tr>\n",
              "    <tr>\n",
              "      <th>...</th>\n",
              "      <td>...</td>\n",
              "      <td>...</td>\n",
              "      <td>...</td>\n",
              "    </tr>\n",
              "    <tr>\n",
              "      <th>1503419</th>\n",
              "      <td>-0.004595</td>\n",
              "      <td>-0.132198</td>\n",
              "      <td>-1.219748</td>\n",
              "    </tr>\n",
              "    <tr>\n",
              "      <th>1503420</th>\n",
              "      <td>-0.004596</td>\n",
              "      <td>-0.133274</td>\n",
              "      <td>-0.039674</td>\n",
              "    </tr>\n",
              "    <tr>\n",
              "      <th>1503421</th>\n",
              "      <td>-0.004579</td>\n",
              "      <td>-0.124481</td>\n",
              "      <td>-0.027906</td>\n",
              "    </tr>\n",
              "    <tr>\n",
              "      <th>1503422</th>\n",
              "      <td>-0.004594</td>\n",
              "      <td>-0.127532</td>\n",
              "      <td>-1.220818</td>\n",
              "    </tr>\n",
              "    <tr>\n",
              "      <th>1503423</th>\n",
              "      <td>-0.004576</td>\n",
              "      <td>-0.130224</td>\n",
              "      <td>-0.266488</td>\n",
              "    </tr>\n",
              "  </tbody>\n",
              "</table>\n",
              "<p>1503424 rows × 3 columns</p>\n",
              "</div>\n",
              "      <button class=\"colab-df-convert\" onclick=\"convertToInteractive('df-94ef1936-877b-4f9b-b971-848dd0da0894')\"\n",
              "              title=\"Convert this dataframe to an interactive table.\"\n",
              "              style=\"display:none;\">\n",
              "        \n",
              "  <svg xmlns=\"http://www.w3.org/2000/svg\" height=\"24px\"viewBox=\"0 0 24 24\"\n",
              "       width=\"24px\">\n",
              "    <path d=\"M0 0h24v24H0V0z\" fill=\"none\"/>\n",
              "    <path d=\"M18.56 5.44l.94 2.06.94-2.06 2.06-.94-2.06-.94-.94-2.06-.94 2.06-2.06.94zm-11 1L8.5 8.5l.94-2.06 2.06-.94-2.06-.94L8.5 2.5l-.94 2.06-2.06.94zm10 10l.94 2.06.94-2.06 2.06-.94-2.06-.94-.94-2.06-.94 2.06-2.06.94z\"/><path d=\"M17.41 7.96l-1.37-1.37c-.4-.4-.92-.59-1.43-.59-.52 0-1.04.2-1.43.59L10.3 9.45l-7.72 7.72c-.78.78-.78 2.05 0 2.83L4 21.41c.39.39.9.59 1.41.59.51 0 1.02-.2 1.41-.59l7.78-7.78 2.81-2.81c.8-.78.8-2.07 0-2.86zM5.41 20L4 18.59l7.72-7.72 1.47 1.35L5.41 20z\"/>\n",
              "  </svg>\n",
              "      </button>\n",
              "      \n",
              "  <style>\n",
              "    .colab-df-container {\n",
              "      display:flex;\n",
              "      flex-wrap:wrap;\n",
              "      gap: 12px;\n",
              "    }\n",
              "\n",
              "    .colab-df-convert {\n",
              "      background-color: #E8F0FE;\n",
              "      border: none;\n",
              "      border-radius: 50%;\n",
              "      cursor: pointer;\n",
              "      display: none;\n",
              "      fill: #1967D2;\n",
              "      height: 32px;\n",
              "      padding: 0 0 0 0;\n",
              "      width: 32px;\n",
              "    }\n",
              "\n",
              "    .colab-df-convert:hover {\n",
              "      background-color: #E2EBFA;\n",
              "      box-shadow: 0px 1px 2px rgba(60, 64, 67, 0.3), 0px 1px 3px 1px rgba(60, 64, 67, 0.15);\n",
              "      fill: #174EA6;\n",
              "    }\n",
              "\n",
              "    [theme=dark] .colab-df-convert {\n",
              "      background-color: #3B4455;\n",
              "      fill: #D2E3FC;\n",
              "    }\n",
              "\n",
              "    [theme=dark] .colab-df-convert:hover {\n",
              "      background-color: #434B5C;\n",
              "      box-shadow: 0px 1px 3px 1px rgba(0, 0, 0, 0.15);\n",
              "      filter: drop-shadow(0px 1px 2px rgba(0, 0, 0, 0.3));\n",
              "      fill: #FFFFFF;\n",
              "    }\n",
              "  </style>\n",
              "\n",
              "      <script>\n",
              "        const buttonEl =\n",
              "          document.querySelector('#df-94ef1936-877b-4f9b-b971-848dd0da0894 button.colab-df-convert');\n",
              "        buttonEl.style.display =\n",
              "          google.colab.kernel.accessAllowed ? 'block' : 'none';\n",
              "\n",
              "        async function convertToInteractive(key) {\n",
              "          const element = document.querySelector('#df-94ef1936-877b-4f9b-b971-848dd0da0894');\n",
              "          const dataTable =\n",
              "            await google.colab.kernel.invokeFunction('convertToInteractive',\n",
              "                                                     [key], {});\n",
              "          if (!dataTable) return;\n",
              "\n",
              "          const docLinkHtml = 'Like what you see? Visit the ' +\n",
              "            '<a target=\"_blank\" href=https://colab.research.google.com/notebooks/data_table.ipynb>data table notebook</a>'\n",
              "            + ' to learn more about interactive tables.';\n",
              "          element.innerHTML = '';\n",
              "          dataTable['output_type'] = 'display_data';\n",
              "          await google.colab.output.renderOutput(dataTable, element);\n",
              "          const docLink = document.createElement('div');\n",
              "          docLink.innerHTML = docLinkHtml;\n",
              "          element.appendChild(docLink);\n",
              "        }\n",
              "      </script>\n",
              "    </div>\n",
              "  </div>\n",
              "  "
            ],
            "text/plain": [
              "            price  item_seq_number  image_top_1\n",
              "0       -0.004593        -0.133095    -0.235462\n",
              "1       -0.004553        -0.130044    -0.573543\n",
              "2       -0.004538        -0.131839     1.929969\n",
              "3       -0.004566        -0.082131    -0.462276\n",
              "4       -0.003984        -0.132915     1.108304\n",
              "...           ...              ...          ...\n",
              "1503419 -0.004595        -0.132198    -1.219748\n",
              "1503420 -0.004596        -0.133274    -0.039674\n",
              "1503421 -0.004579        -0.124481    -0.027906\n",
              "1503422 -0.004594        -0.127532    -1.220818\n",
              "1503423 -0.004576        -0.130224    -0.266488\n",
              "\n",
              "[1503424 rows x 3 columns]"
            ]
          },
          "metadata": {},
          "execution_count": 24
        }
      ]
    },
    {
      "cell_type": "code",
      "source": [
        "numeric_features.iloc[:, -1:]"
      ],
      "metadata": {
        "colab": {
          "base_uri": "https://localhost:8080/",
          "height": 424
        },
        "id": "haovY5pzUsfR",
        "outputId": "cf76bf72-beb3-4700-8919-723950992a96"
      },
      "execution_count": 25,
      "outputs": [
        {
          "output_type": "execute_result",
          "data": {
            "text/html": [
              "\n",
              "  <div id=\"df-a6188d45-64c9-4f70-85da-61ee97be3fa8\">\n",
              "    <div class=\"colab-df-container\">\n",
              "      <div>\n",
              "<style scoped>\n",
              "    .dataframe tbody tr th:only-of-type {\n",
              "        vertical-align: middle;\n",
              "    }\n",
              "\n",
              "    .dataframe tbody tr th {\n",
              "        vertical-align: top;\n",
              "    }\n",
              "\n",
              "    .dataframe thead th {\n",
              "        text-align: right;\n",
              "    }\n",
              "</style>\n",
              "<table border=\"1\" class=\"dataframe\">\n",
              "  <thead>\n",
              "    <tr style=\"text-align: right;\">\n",
              "      <th></th>\n",
              "      <th>deal_probability</th>\n",
              "    </tr>\n",
              "  </thead>\n",
              "  <tbody>\n",
              "    <tr>\n",
              "      <th>0</th>\n",
              "      <td>0.12789</td>\n",
              "    </tr>\n",
              "    <tr>\n",
              "      <th>1</th>\n",
              "      <td>0.00000</td>\n",
              "    </tr>\n",
              "    <tr>\n",
              "      <th>2</th>\n",
              "      <td>0.43177</td>\n",
              "    </tr>\n",
              "    <tr>\n",
              "      <th>3</th>\n",
              "      <td>0.80323</td>\n",
              "    </tr>\n",
              "    <tr>\n",
              "      <th>4</th>\n",
              "      <td>0.20797</td>\n",
              "    </tr>\n",
              "    <tr>\n",
              "      <th>...</th>\n",
              "      <td>...</td>\n",
              "    </tr>\n",
              "    <tr>\n",
              "      <th>1503419</th>\n",
              "      <td>0.25019</td>\n",
              "    </tr>\n",
              "    <tr>\n",
              "      <th>1503420</th>\n",
              "      <td>0.60000</td>\n",
              "    </tr>\n",
              "    <tr>\n",
              "      <th>1503421</th>\n",
              "      <td>0.39569</td>\n",
              "    </tr>\n",
              "    <tr>\n",
              "      <th>1503422</th>\n",
              "      <td>0.00000</td>\n",
              "    </tr>\n",
              "    <tr>\n",
              "      <th>1503423</th>\n",
              "      <td>0.00000</td>\n",
              "    </tr>\n",
              "  </tbody>\n",
              "</table>\n",
              "<p>1503424 rows × 1 columns</p>\n",
              "</div>\n",
              "      <button class=\"colab-df-convert\" onclick=\"convertToInteractive('df-a6188d45-64c9-4f70-85da-61ee97be3fa8')\"\n",
              "              title=\"Convert this dataframe to an interactive table.\"\n",
              "              style=\"display:none;\">\n",
              "        \n",
              "  <svg xmlns=\"http://www.w3.org/2000/svg\" height=\"24px\"viewBox=\"0 0 24 24\"\n",
              "       width=\"24px\">\n",
              "    <path d=\"M0 0h24v24H0V0z\" fill=\"none\"/>\n",
              "    <path d=\"M18.56 5.44l.94 2.06.94-2.06 2.06-.94-2.06-.94-.94-2.06-.94 2.06-2.06.94zm-11 1L8.5 8.5l.94-2.06 2.06-.94-2.06-.94L8.5 2.5l-.94 2.06-2.06.94zm10 10l.94 2.06.94-2.06 2.06-.94-2.06-.94-.94-2.06-.94 2.06-2.06.94z\"/><path d=\"M17.41 7.96l-1.37-1.37c-.4-.4-.92-.59-1.43-.59-.52 0-1.04.2-1.43.59L10.3 9.45l-7.72 7.72c-.78.78-.78 2.05 0 2.83L4 21.41c.39.39.9.59 1.41.59.51 0 1.02-.2 1.41-.59l7.78-7.78 2.81-2.81c.8-.78.8-2.07 0-2.86zM5.41 20L4 18.59l7.72-7.72 1.47 1.35L5.41 20z\"/>\n",
              "  </svg>\n",
              "      </button>\n",
              "      \n",
              "  <style>\n",
              "    .colab-df-container {\n",
              "      display:flex;\n",
              "      flex-wrap:wrap;\n",
              "      gap: 12px;\n",
              "    }\n",
              "\n",
              "    .colab-df-convert {\n",
              "      background-color: #E8F0FE;\n",
              "      border: none;\n",
              "      border-radius: 50%;\n",
              "      cursor: pointer;\n",
              "      display: none;\n",
              "      fill: #1967D2;\n",
              "      height: 32px;\n",
              "      padding: 0 0 0 0;\n",
              "      width: 32px;\n",
              "    }\n",
              "\n",
              "    .colab-df-convert:hover {\n",
              "      background-color: #E2EBFA;\n",
              "      box-shadow: 0px 1px 2px rgba(60, 64, 67, 0.3), 0px 1px 3px 1px rgba(60, 64, 67, 0.15);\n",
              "      fill: #174EA6;\n",
              "    }\n",
              "\n",
              "    [theme=dark] .colab-df-convert {\n",
              "      background-color: #3B4455;\n",
              "      fill: #D2E3FC;\n",
              "    }\n",
              "\n",
              "    [theme=dark] .colab-df-convert:hover {\n",
              "      background-color: #434B5C;\n",
              "      box-shadow: 0px 1px 3px 1px rgba(0, 0, 0, 0.15);\n",
              "      filter: drop-shadow(0px 1px 2px rgba(0, 0, 0, 0.3));\n",
              "      fill: #FFFFFF;\n",
              "    }\n",
              "  </style>\n",
              "\n",
              "      <script>\n",
              "        const buttonEl =\n",
              "          document.querySelector('#df-a6188d45-64c9-4f70-85da-61ee97be3fa8 button.colab-df-convert');\n",
              "        buttonEl.style.display =\n",
              "          google.colab.kernel.accessAllowed ? 'block' : 'none';\n",
              "\n",
              "        async function convertToInteractive(key) {\n",
              "          const element = document.querySelector('#df-a6188d45-64c9-4f70-85da-61ee97be3fa8');\n",
              "          const dataTable =\n",
              "            await google.colab.kernel.invokeFunction('convertToInteractive',\n",
              "                                                     [key], {});\n",
              "          if (!dataTable) return;\n",
              "\n",
              "          const docLinkHtml = 'Like what you see? Visit the ' +\n",
              "            '<a target=\"_blank\" href=https://colab.research.google.com/notebooks/data_table.ipynb>data table notebook</a>'\n",
              "            + ' to learn more about interactive tables.';\n",
              "          element.innerHTML = '';\n",
              "          dataTable['output_type'] = 'display_data';\n",
              "          await google.colab.output.renderOutput(dataTable, element);\n",
              "          const docLink = document.createElement('div');\n",
              "          docLink.innerHTML = docLinkHtml;\n",
              "          element.appendChild(docLink);\n",
              "        }\n",
              "      </script>\n",
              "    </div>\n",
              "  </div>\n",
              "  "
            ],
            "text/plain": [
              "         deal_probability\n",
              "0                 0.12789\n",
              "1                 0.00000\n",
              "2                 0.43177\n",
              "3                 0.80323\n",
              "4                 0.20797\n",
              "...                   ...\n",
              "1503419           0.25019\n",
              "1503420           0.60000\n",
              "1503421           0.39569\n",
              "1503422           0.00000\n",
              "1503423           0.00000\n",
              "\n",
              "[1503424 rows x 1 columns]"
            ]
          },
          "metadata": {},
          "execution_count": 25
        }
      ]
    },
    {
      "cell_type": "code",
      "source": [
        "train, test = train_test_split(numeric_features, test_size=0.25, random_state=13)"
      ],
      "metadata": {
        "id": "mV1ti-Gu9YPO"
      },
      "execution_count": 26,
      "outputs": []
    },
    {
      "cell_type": "code",
      "source": [
        "class MyDataset(torch.utils.data.Dataset):\n",
        "    def __init__(self, df):\n",
        "        self.df = df.copy()\n",
        "\n",
        "        self.X = torch.Tensor(self.df.iloc[:, :-1].values)\n",
        "        self.y = np.array(self.df.iloc[:, -1:].values.tolist())\n",
        "    \n",
        "    def __len__(self):\n",
        "        return self.df.shape[0]\n",
        "\n",
        "\n",
        "    def __getitem__(self, index):\n",
        "        return (self.X[index], self.y[index])\n"
      ],
      "metadata": {
        "id": "oGQPegRv92RX"
      },
      "execution_count": 27,
      "outputs": []
    },
    {
      "cell_type": "code",
      "source": [
        "x_train = MyDataset(train)\n",
        "x_test = MyDataset(test)"
      ],
      "metadata": {
        "id": "wcbvpgMhWQlL"
      },
      "execution_count": 28,
      "outputs": []
    },
    {
      "cell_type": "code",
      "source": [
        "train_loader = torch.utils.data.DataLoader(x_train, batch_size=256, shuffle=True, num_workers=2)\n",
        "\n",
        "test_loader = torch.utils.data.DataLoader(x_test, batch_size=256, shuffle=True, num_workers=2)"
      ],
      "metadata": {
        "id": "987RSWDZWakk"
      },
      "execution_count": 38,
      "outputs": []
    },
    {
      "cell_type": "code",
      "source": [
        "for batch, label in train_loader:\n",
        "    print(batch.shape)\n",
        "    print(label.shape)\n",
        "    print(label[:5])\n",
        "    break"
      ],
      "metadata": {
        "colab": {
          "base_uri": "https://localhost:8080/"
        },
        "id": "0p6-CNwpg1xY",
        "outputId": "301f0c78-2e96-4681-ab1e-b0035cf36073"
      },
      "execution_count": 48,
      "outputs": [
        {
          "output_type": "stream",
          "name": "stdout",
          "text": [
            "torch.Size([256, 3])\n",
            "torch.Size([256, 1])\n",
            "tensor([[0.0000],\n",
            "        [0.0000],\n",
            "        [0.0000],\n",
            "        [0.0000],\n",
            "        [0.4217]], dtype=torch.float64)\n"
          ]
        }
      ]
    },
    {
      "cell_type": "code",
      "source": [
        "#F.tanh(x), F.leaky_relu(x, 0.05), F.relu(x)\n",
        "# гипотеза: сделать стандартизацию слоем BatchNorm1d\n",
        "\n",
        "\n",
        "class SigmoidNN(nn.Module):\n",
        "    def __init__(self, input_dim, hidden_dim):\n",
        "        super().__init__()\n",
        "        self.layer1 = nn.Linear(input_dim, 4 * hidden_dim)\n",
        "        self.batch1 = nn.BatchNorm1d(4 * hidden_dim)\n",
        "        self.dp = nn.Dropout(0.20)\n",
        "        self.layer2 = nn.Linear(4 * hidden_dim, 2 * hidden_dim)\n",
        "        self.batch2 = nn.BatchNorm1d(2 * hidden_dim)\n",
        "        self.layer3 = nn.Linear(2 * hidden_dim, hidden_dim)\n",
        "        self.layer4 = nn.Linear(hidden_dim, 1)\n",
        "\n",
        "    def forward(self, x):\n",
        "        \n",
        "        x = self.layer1(x)\n",
        "        x = F.leaky_relu(x, 0.05)\n",
        "        x = self.batch1(x)\n",
        "        x = self.dp(x)\n",
        "        x = self.layer2(x)\n",
        "        x = F.leaky_relu(x, 0.05)\n",
        "        x = self.batch2(x)\n",
        "        x = self.dp(x)\n",
        "        x = self.layer3(x)\n",
        "        x = F.leaky_relu(x, 0.05)\n",
        "        \n",
        "        x = self.layer4(x)\n",
        "        x = torch.sigmoid(x)\n",
        "        return x\n",
        "\n",
        "\n"
      ],
      "metadata": {
        "id": "i6YejcgMd3Na"
      },
      "execution_count": 49,
      "outputs": []
    },
    {
      "cell_type": "code",
      "source": [
        "def rmseloss(y_pred, y_true, eps=1e-6):\n",
        "  loss = torch.sqrt(torch.mean((torch.log(y_pred+eps)-torch.log(y_true+eps))**2))\n",
        "  return loss"
      ],
      "metadata": {
        "id": "kzRWu-2lBw0X"
      },
      "execution_count": 32,
      "outputs": []
    },
    {
      "cell_type": "code",
      "execution_count": 50,
      "metadata": {
        "id": "KPz7F01ipb-k"
      },
      "outputs": [],
      "source": [
        "net = SigmoidNN(3, 50)\n",
        "optimizer = optim.SGD(net.parameters(), lr=0.001, momentum=0.9)"
      ]
    },
    {
      "cell_type": "code",
      "execution_count": 34,
      "metadata": {
        "id": "9aKdKSL6pb-l"
      },
      "outputs": [],
      "source": [
        "from tqdm import tqdm"
      ]
    },
    {
      "cell_type": "code",
      "execution_count": 51,
      "metadata": {
        "id": "kVMQ0BO_pb-l",
        "outputId": "5891cc11-82af-470a-f8c1-63ff86027498",
        "colab": {
          "base_uri": "https://localhost:8080/"
        }
      },
      "outputs": [
        {
          "output_type": "stream",
          "name": "stderr",
          "text": [
            "\r  0%|          | 0/10 [00:00<?, ?it/s]"
          ]
        },
        {
          "output_type": "stream",
          "name": "stdout",
          "text": [
            "[1,     1] loss: 0.005\n",
            "[1,   301] loss: 1.020\n",
            "[1,   601] loss: 0.846\n",
            "[1,   901] loss: 0.843\n",
            "[1,  1201] loss: 0.844\n",
            "[1,  1501] loss: 0.844\n",
            "[1,  1801] loss: 0.841\n",
            "[1,  2101] loss: 0.841\n",
            "[1,  2401] loss: 0.839\n",
            "[1,  2701] loss: 0.839\n",
            "[1,  3001] loss: 0.836\n",
            "[1,  3301] loss: 0.839\n",
            "[1,  3601] loss: 0.839\n",
            "[1,  3901] loss: 0.833\n",
            "[1,  4201] loss: 0.836\n"
          ]
        },
        {
          "output_type": "stream",
          "name": "stderr",
          "text": [
            "\r 10%|█         | 1/10 [00:23<03:34, 23.87s/it]"
          ]
        },
        {
          "output_type": "stream",
          "name": "stdout",
          "text": [
            "[2,     1] loss: 0.003\n",
            "[2,   301] loss: 0.835\n",
            "[2,   601] loss: 0.836\n",
            "[2,   901] loss: 0.834\n",
            "[2,  1201] loss: 0.832\n",
            "[2,  1501] loss: 0.835\n",
            "[2,  1801] loss: 0.834\n",
            "[2,  2101] loss: 0.834\n",
            "[2,  2401] loss: 0.834\n",
            "[2,  2701] loss: 0.835\n",
            "[2,  3001] loss: 0.834\n",
            "[2,  3301] loss: 0.837\n",
            "[2,  3601] loss: 0.831\n",
            "[2,  3901] loss: 0.832\n",
            "[2,  4201] loss: 0.833\n"
          ]
        },
        {
          "output_type": "stream",
          "name": "stderr",
          "text": [
            "\r 20%|██        | 2/10 [00:50<03:22, 25.27s/it]"
          ]
        },
        {
          "output_type": "stream",
          "name": "stdout",
          "text": [
            "[3,     1] loss: 0.003\n",
            "[3,   301] loss: 0.832\n",
            "[3,   601] loss: 0.831\n",
            "[3,   901] loss: 0.831\n",
            "[3,  1201] loss: 0.831\n",
            "[3,  1501] loss: 0.832\n",
            "[3,  1801] loss: 0.831\n",
            "[3,  2101] loss: 0.834\n",
            "[3,  2401] loss: 0.830\n",
            "[3,  2701] loss: 0.830\n",
            "[3,  3001] loss: 0.831\n",
            "[3,  3301] loss: 0.832\n",
            "[3,  3601] loss: 0.831\n",
            "[3,  3901] loss: 0.833\n",
            "[3,  4201] loss: 0.832\n"
          ]
        },
        {
          "output_type": "stream",
          "name": "stderr",
          "text": [
            "\r 30%|███       | 3/10 [01:14<02:54, 25.00s/it]"
          ]
        },
        {
          "output_type": "stream",
          "name": "stdout",
          "text": [
            "[4,     1] loss: 0.003\n",
            "[4,   301] loss: 0.831\n",
            "[4,   601] loss: 0.832\n",
            "[4,   901] loss: 0.829\n",
            "[4,  1201] loss: 0.829\n",
            "[4,  1501] loss: 0.830\n",
            "[4,  1801] loss: 0.830\n",
            "[4,  2101] loss: 0.834\n",
            "[4,  2401] loss: 0.831\n",
            "[4,  2701] loss: 0.829\n",
            "[4,  3001] loss: 0.829\n",
            "[4,  3301] loss: 0.831\n",
            "[4,  3601] loss: 0.830\n",
            "[4,  3901] loss: 0.831\n",
            "[4,  4201] loss: 0.834\n"
          ]
        },
        {
          "output_type": "stream",
          "name": "stderr",
          "text": [
            "\r 40%|████      | 4/10 [01:38<02:26, 24.46s/it]"
          ]
        },
        {
          "output_type": "stream",
          "name": "stdout",
          "text": [
            "[5,     1] loss: 0.003\n",
            "[5,   301] loss: 0.834\n",
            "[5,   601] loss: 0.833\n",
            "[5,   901] loss: 0.829\n",
            "[5,  1201] loss: 0.830\n",
            "[5,  1501] loss: 0.830\n",
            "[5,  1801] loss: 0.832\n",
            "[5,  2101] loss: 0.830\n",
            "[5,  2401] loss: 0.828\n",
            "[5,  2701] loss: 0.829\n",
            "[5,  3001] loss: 0.830\n",
            "[5,  3301] loss: 0.830\n",
            "[5,  3601] loss: 0.829\n",
            "[5,  3901] loss: 0.827\n",
            "[5,  4201] loss: 0.827\n"
          ]
        },
        {
          "output_type": "stream",
          "name": "stderr",
          "text": [
            "\r 50%|█████     | 5/10 [02:02<02:01, 24.25s/it]"
          ]
        },
        {
          "output_type": "stream",
          "name": "stdout",
          "text": [
            "[6,     1] loss: 0.003\n",
            "[6,   301] loss: 0.828\n",
            "[6,   601] loss: 0.829\n",
            "[6,   901] loss: 0.829\n",
            "[6,  1201] loss: 0.831\n",
            "[6,  1501] loss: 0.830\n",
            "[6,  1801] loss: 0.829\n",
            "[6,  2101] loss: 0.831\n",
            "[6,  2401] loss: 0.830\n",
            "[6,  2701] loss: 0.829\n",
            "[6,  3001] loss: 0.829\n",
            "[6,  3301] loss: 0.828\n",
            "[6,  3601] loss: 0.827\n",
            "[6,  3901] loss: 0.828\n",
            "[6,  4201] loss: 0.826\n"
          ]
        },
        {
          "output_type": "stream",
          "name": "stderr",
          "text": [
            "\r 60%|██████    | 6/10 [02:25<01:36, 24.01s/it]"
          ]
        },
        {
          "output_type": "stream",
          "name": "stdout",
          "text": [
            "[7,     1] loss: 0.003\n",
            "[7,   301] loss: 0.828\n",
            "[7,   601] loss: 0.829\n",
            "[7,   901] loss: 0.830\n",
            "[7,  1201] loss: 0.828\n",
            "[7,  1501] loss: 0.829\n",
            "[7,  1801] loss: 0.827\n",
            "[7,  2101] loss: 0.829\n",
            "[7,  2401] loss: 0.828\n",
            "[7,  2701] loss: 0.831\n",
            "[7,  3001] loss: 0.829\n",
            "[7,  3301] loss: 0.827\n",
            "[7,  3601] loss: 0.827\n",
            "[7,  3901] loss: 0.829\n",
            "[7,  4201] loss: 0.829\n"
          ]
        },
        {
          "output_type": "stream",
          "name": "stderr",
          "text": [
            "\r 70%|███████   | 7/10 [02:49<01:11, 23.93s/it]"
          ]
        },
        {
          "output_type": "stream",
          "name": "stdout",
          "text": [
            "[8,     1] loss: 0.003\n",
            "[8,   301] loss: 0.829\n",
            "[8,   601] loss: 0.829\n",
            "[8,   901] loss: 0.831\n",
            "[8,  1201] loss: 0.823\n",
            "[8,  1501] loss: 0.828\n",
            "[8,  1801] loss: 0.828\n",
            "[8,  2101] loss: 0.830\n",
            "[8,  2401] loss: 0.826\n",
            "[8,  2701] loss: 0.827\n",
            "[8,  3001] loss: 0.827\n",
            "[8,  3301] loss: 0.828\n",
            "[8,  3601] loss: 0.829\n",
            "[8,  3901] loss: 0.826\n",
            "[8,  4201] loss: 0.827\n"
          ]
        },
        {
          "output_type": "stream",
          "name": "stderr",
          "text": [
            "\r 80%|████████  | 8/10 [03:13<00:47, 23.81s/it]"
          ]
        },
        {
          "output_type": "stream",
          "name": "stdout",
          "text": [
            "[9,     1] loss: 0.003\n",
            "[9,   301] loss: 0.827\n",
            "[9,   601] loss: 0.826\n",
            "[9,   901] loss: 0.830\n",
            "[9,  1201] loss: 0.828\n",
            "[9,  1501] loss: 0.826\n",
            "[9,  1801] loss: 0.829\n",
            "[9,  2101] loss: 0.829\n",
            "[9,  2401] loss: 0.827\n",
            "[9,  2701] loss: 0.827\n",
            "[9,  3001] loss: 0.827\n",
            "[9,  3301] loss: 0.826\n",
            "[9,  3601] loss: 0.824\n",
            "[9,  3901] loss: 0.825\n",
            "[9,  4201] loss: 0.829\n"
          ]
        },
        {
          "output_type": "stream",
          "name": "stderr",
          "text": [
            "\r 90%|█████████ | 9/10 [03:37<00:23, 23.88s/it]"
          ]
        },
        {
          "output_type": "stream",
          "name": "stdout",
          "text": [
            "[10,     1] loss: 0.003\n",
            "[10,   301] loss: 0.826\n",
            "[10,   601] loss: 0.827\n",
            "[10,   901] loss: 0.826\n",
            "[10,  1201] loss: 0.827\n",
            "[10,  1501] loss: 0.827\n",
            "[10,  1801] loss: 0.826\n",
            "[10,  2101] loss: 0.829\n",
            "[10,  2401] loss: 0.827\n",
            "[10,  2701] loss: 0.825\n",
            "[10,  3001] loss: 0.826\n",
            "[10,  3301] loss: 0.827\n",
            "[10,  3601] loss: 0.824\n",
            "[10,  3901] loss: 0.829\n",
            "[10,  4201] loss: 0.830\n"
          ]
        },
        {
          "output_type": "stream",
          "name": "stderr",
          "text": [
            "100%|██████████| 10/10 [04:00<00:00, 24.09s/it]"
          ]
        },
        {
          "output_type": "stream",
          "name": "stdout",
          "text": [
            "Training is finished!\n"
          ]
        },
        {
          "output_type": "stream",
          "name": "stderr",
          "text": [
            "\n"
          ]
        }
      ],
      "source": [
        "for epoch in tqdm(range(10)):  \n",
        "    running_loss = 0.0\n",
        "    for i, data in enumerate(train_loader, 0):\n",
        "        inputs, labels = data[0], data[1]\n",
        "\n",
        "        # обнуляем градиент\n",
        "        optimizer.zero_grad()\n",
        "\n",
        "        outputs = net(inputs)\n",
        "        loss = rmseloss(outputs, labels)\n",
        "        loss.backward()\n",
        "        optimizer.step()\n",
        "\n",
        "        # выводим статистику о процессе обучения\n",
        "        running_loss += loss.item()\n",
        "        if i % 300 == 0:    # печатаем каждые 300 mini-batches\n",
        "            print('[%d, %5d] loss: %.3f' %\n",
        "                  (epoch + 1, i + 1, running_loss / 2000))\n",
        "            running_loss = 0.0\n",
        "\n",
        "print('Training is finished!')"
      ]
    },
    {
      "cell_type": "code",
      "source": [
        "net2 = SigmoidNN(3, 50) #чтобы сравнить оптимизаторы, инициализируем сеть заново\n",
        "optimizer = torch.optim.Adam(net2.parameters(), lr=0.0004)"
      ],
      "metadata": {
        "id": "emVysXyT6uzD"
      },
      "execution_count": 52,
      "outputs": []
    },
    {
      "cell_type": "code",
      "source": [
        "for epoch in tqdm(range(10)):  \n",
        "    running_loss = 0.0\n",
        "    for i, data in enumerate(train_loader, 0):\n",
        "        inputs, labels = data[0], data[1]\n",
        "\n",
        "        # обнуляем градиент\n",
        "        optimizer.zero_grad()\n",
        "\n",
        "        outputs = net2(inputs)\n",
        "        loss = rmseloss(outputs, labels)\n",
        "        loss.backward()\n",
        "        optimizer.step()\n",
        "\n",
        "        # выводим статистику о процессе обучения\n",
        "        running_loss += loss.item()\n",
        "        if i % 300 == 0:    # печатаем каждые 300 mini-batches\n",
        "            print('[%d, %5d] loss: %.3f' %\n",
        "                  (epoch + 1, i + 1, running_loss / 2000))\n",
        "            running_loss = 0.0\n",
        "\n",
        "print('Training is finished!')"
      ],
      "metadata": {
        "colab": {
          "base_uri": "https://localhost:8080/"
        },
        "id": "m5fTi7RE7pAZ",
        "outputId": "405c4fad-cc0f-4cd6-8807-fe0467308575"
      },
      "execution_count": 53,
      "outputs": [
        {
          "output_type": "stream",
          "name": "stderr",
          "text": [
            "\r  0%|          | 0/10 [00:00<?, ?it/s]"
          ]
        },
        {
          "output_type": "stream",
          "name": "stdout",
          "text": [
            "[1,     1] loss: 0.005\n",
            "[1,   301] loss: 1.019\n",
            "[1,   601] loss: 0.846\n",
            "[1,   901] loss: 0.844\n",
            "[1,  1201] loss: 0.840\n",
            "[1,  1501] loss: 0.841\n",
            "[1,  1801] loss: 0.837\n",
            "[1,  2101] loss: 0.836\n",
            "[1,  2401] loss: 0.838\n",
            "[1,  2701] loss: 0.839\n",
            "[1,  3001] loss: 0.837\n",
            "[1,  3301] loss: 0.833\n",
            "[1,  3601] loss: 0.834\n",
            "[1,  3901] loss: 0.834\n",
            "[1,  4201] loss: 0.834\n"
          ]
        },
        {
          "output_type": "stream",
          "name": "stderr",
          "text": [
            "\r 10%|█         | 1/10 [00:25<03:50, 25.57s/it]"
          ]
        },
        {
          "output_type": "stream",
          "name": "stdout",
          "text": [
            "[2,     1] loss: 0.003\n",
            "[2,   301] loss: 0.834\n",
            "[2,   601] loss: 0.834\n",
            "[2,   901] loss: 0.830\n",
            "[2,  1201] loss: 0.834\n",
            "[2,  1501] loss: 0.832\n",
            "[2,  1801] loss: 0.832\n",
            "[2,  2101] loss: 0.832\n",
            "[2,  2401] loss: 0.831\n",
            "[2,  2701] loss: 0.831\n",
            "[2,  3001] loss: 0.831\n",
            "[2,  3301] loss: 0.832\n",
            "[2,  3601] loss: 0.831\n",
            "[2,  3901] loss: 0.830\n",
            "[2,  4201] loss: 0.826\n"
          ]
        },
        {
          "output_type": "stream",
          "name": "stderr",
          "text": [
            "\r 20%|██        | 2/10 [00:50<03:23, 25.41s/it]"
          ]
        },
        {
          "output_type": "stream",
          "name": "stdout",
          "text": [
            "[3,     1] loss: 0.003\n",
            "[3,   301] loss: 0.829\n",
            "[3,   601] loss: 0.828\n",
            "[3,   901] loss: 0.831\n",
            "[3,  1201] loss: 0.828\n",
            "[3,  1501] loss: 0.829\n",
            "[3,  1801] loss: 0.830\n",
            "[3,  2101] loss: 0.829\n",
            "[3,  2401] loss: 0.830\n",
            "[3,  2701] loss: 0.828\n",
            "[3,  3001] loss: 0.827\n",
            "[3,  3301] loss: 0.826\n",
            "[3,  3601] loss: 0.826\n",
            "[3,  3901] loss: 0.829\n",
            "[3,  4201] loss: 0.825\n"
          ]
        },
        {
          "output_type": "stream",
          "name": "stderr",
          "text": [
            "\r 30%|███       | 3/10 [01:16<02:57, 25.30s/it]"
          ]
        },
        {
          "output_type": "stream",
          "name": "stdout",
          "text": [
            "[4,     1] loss: 0.003\n",
            "[4,   301] loss: 0.828\n",
            "[4,   601] loss: 0.825\n",
            "[4,   901] loss: 0.829\n",
            "[4,  1201] loss: 0.829\n",
            "[4,  1501] loss: 0.827\n",
            "[4,  1801] loss: 0.826\n",
            "[4,  2101] loss: 0.827\n",
            "[4,  2401] loss: 0.825\n",
            "[4,  2701] loss: 0.827\n",
            "[4,  3001] loss: 0.827\n",
            "[4,  3301] loss: 0.823\n",
            "[4,  3601] loss: 0.827\n",
            "[4,  3901] loss: 0.827\n",
            "[4,  4201] loss: 0.825\n"
          ]
        },
        {
          "output_type": "stream",
          "name": "stderr",
          "text": [
            "\r 40%|████      | 4/10 [01:41<02:31, 25.31s/it]"
          ]
        },
        {
          "output_type": "stream",
          "name": "stdout",
          "text": [
            "[5,     1] loss: 0.003\n",
            "[5,   301] loss: 0.825\n",
            "[5,   601] loss: 0.825\n",
            "[5,   901] loss: 0.824\n",
            "[5,  1201] loss: 0.826\n",
            "[5,  1501] loss: 0.829\n",
            "[5,  1801] loss: 0.826\n",
            "[5,  2101] loss: 0.825\n",
            "[5,  2401] loss: 0.823\n",
            "[5,  2701] loss: 0.823\n",
            "[5,  3001] loss: 0.823\n",
            "[5,  3301] loss: 0.824\n",
            "[5,  3601] loss: 0.825\n",
            "[5,  3901] loss: 0.825\n",
            "[5,  4201] loss: 0.824\n"
          ]
        },
        {
          "output_type": "stream",
          "name": "stderr",
          "text": [
            "\r 50%|█████     | 5/10 [02:06<02:06, 25.26s/it]"
          ]
        },
        {
          "output_type": "stream",
          "name": "stdout",
          "text": [
            "[6,     1] loss: 0.003\n",
            "[6,   301] loss: 0.825\n",
            "[6,   601] loss: 0.823\n",
            "[6,   901] loss: 0.824\n",
            "[6,  1201] loss: 0.822\n",
            "[6,  1501] loss: 0.826\n",
            "[6,  1801] loss: 0.823\n",
            "[6,  2101] loss: 0.823\n",
            "[6,  2401] loss: 0.822\n",
            "[6,  2701] loss: 0.827\n",
            "[6,  3001] loss: 0.824\n",
            "[6,  3301] loss: 0.822\n",
            "[6,  3601] loss: 0.822\n",
            "[6,  3901] loss: 0.823\n",
            "[6,  4201] loss: 0.823\n"
          ]
        },
        {
          "output_type": "stream",
          "name": "stderr",
          "text": [
            "\r 60%|██████    | 6/10 [02:31<01:40, 25.16s/it]"
          ]
        },
        {
          "output_type": "stream",
          "name": "stdout",
          "text": [
            "[7,     1] loss: 0.003\n",
            "[7,   301] loss: 0.822\n",
            "[7,   601] loss: 0.824\n",
            "[7,   901] loss: 0.821\n",
            "[7,  1201] loss: 0.822\n",
            "[7,  1501] loss: 0.822\n",
            "[7,  1801] loss: 0.824\n",
            "[7,  2101] loss: 0.824\n",
            "[7,  2401] loss: 0.822\n",
            "[7,  2701] loss: 0.821\n",
            "[7,  3001] loss: 0.819\n",
            "[7,  3301] loss: 0.823\n",
            "[7,  3601] loss: 0.822\n",
            "[7,  3901] loss: 0.824\n",
            "[7,  4201] loss: 0.822\n"
          ]
        },
        {
          "output_type": "stream",
          "name": "stderr",
          "text": [
            "\r 70%|███████   | 7/10 [02:56<01:15, 25.22s/it]"
          ]
        },
        {
          "output_type": "stream",
          "name": "stdout",
          "text": [
            "[8,     1] loss: 0.003\n",
            "[8,   301] loss: 0.822\n",
            "[8,   601] loss: 0.822\n",
            "[8,   901] loss: 0.823\n",
            "[8,  1201] loss: 0.821\n",
            "[8,  1501] loss: 0.824\n",
            "[8,  1801] loss: 0.822\n",
            "[8,  2101] loss: 0.823\n",
            "[8,  2401] loss: 0.825\n",
            "[8,  2701] loss: 0.820\n",
            "[8,  3001] loss: 0.821\n",
            "[8,  3301] loss: 0.822\n",
            "[8,  3601] loss: 0.822\n",
            "[8,  3901] loss: 0.821\n",
            "[8,  4201] loss: 0.819\n"
          ]
        },
        {
          "output_type": "stream",
          "name": "stderr",
          "text": [
            "\r 80%|████████  | 8/10 [03:21<00:50, 25.10s/it]"
          ]
        },
        {
          "output_type": "stream",
          "name": "stdout",
          "text": [
            "[9,     1] loss: 0.003\n",
            "[9,   301] loss: 0.822\n",
            "[9,   601] loss: 0.824\n",
            "[9,   901] loss: 0.818\n",
            "[9,  1201] loss: 0.821\n",
            "[9,  1501] loss: 0.821\n",
            "[9,  1801] loss: 0.822\n",
            "[9,  2101] loss: 0.818\n",
            "[9,  2401] loss: 0.822\n",
            "[9,  2701] loss: 0.822\n",
            "[9,  3001] loss: 0.819\n",
            "[9,  3301] loss: 0.821\n",
            "[9,  3601] loss: 0.821\n",
            "[9,  3901] loss: 0.823\n",
            "[9,  4201] loss: 0.821\n"
          ]
        },
        {
          "output_type": "stream",
          "name": "stderr",
          "text": [
            "\r 90%|█████████ | 9/10 [03:46<00:25, 25.08s/it]"
          ]
        },
        {
          "output_type": "stream",
          "name": "stdout",
          "text": [
            "[10,     1] loss: 0.003\n",
            "[10,   301] loss: 0.819\n",
            "[10,   601] loss: 0.821\n",
            "[10,   901] loss: 0.820\n",
            "[10,  1201] loss: 0.821\n",
            "[10,  1501] loss: 0.823\n",
            "[10,  1801] loss: 0.820\n",
            "[10,  2101] loss: 0.822\n",
            "[10,  2401] loss: 0.822\n",
            "[10,  2701] loss: 0.820\n",
            "[10,  3001] loss: 0.820\n",
            "[10,  3301] loss: 0.822\n",
            "[10,  3601] loss: 0.820\n",
            "[10,  3901] loss: 0.819\n",
            "[10,  4201] loss: 0.820\n"
          ]
        },
        {
          "output_type": "stream",
          "name": "stderr",
          "text": [
            "100%|██████████| 10/10 [04:11<00:00, 25.16s/it]"
          ]
        },
        {
          "output_type": "stream",
          "name": "stdout",
          "text": [
            "Training is finished!\n"
          ]
        },
        {
          "output_type": "stream",
          "name": "stderr",
          "text": [
            "\n"
          ]
        }
      ]
    },
    {
      "cell_type": "code",
      "source": [
        "net3 = SigmoidNN(3, 50) #чтобы сравнить оптимизаторы, инициализируем сеть заново\n",
        "optimizer = torch.optim.RMSprop(net3.parameters())\n",
        "\n",
        "for epoch in tqdm(range(10)):  \n",
        "    running_loss = 0.0\n",
        "    for i, data in enumerate(train_loader, 0):\n",
        "        inputs, labels = data[0], data[1]\n",
        "\n",
        "        # обнуляем градиент\n",
        "        optimizer.zero_grad()\n",
        "\n",
        "        outputs = net3(inputs)\n",
        "        loss = rmseloss(outputs, labels)\n",
        "        loss.backward()\n",
        "        optimizer.step()\n",
        "\n",
        "        # выводим статистику о процессе обучения\n",
        "        running_loss += loss.item()\n",
        "        if i % 300 == 0:    # печатаем каждые 300 mini-batches\n",
        "            print('[%d, %5d] loss: %.3f' %\n",
        "                  (epoch + 1, i + 1, running_loss / 2000))\n",
        "            running_loss = 0.0\n",
        "\n",
        "print('Training is finished!')"
      ],
      "metadata": {
        "colab": {
          "base_uri": "https://localhost:8080/"
        },
        "id": "XyWSN60q8BeL",
        "outputId": "93b68f29-8443-48dc-f9e8-e47dffb14d42"
      },
      "execution_count": 54,
      "outputs": [
        {
          "output_type": "stream",
          "name": "stderr",
          "text": [
            "\r  0%|          | 0/10 [00:00<?, ?it/s]"
          ]
        },
        {
          "output_type": "stream",
          "name": "stdout",
          "text": [
            "[1,     1] loss: 0.005\n",
            "[1,   301] loss: 0.863\n",
            "[1,   601] loss: 0.846\n",
            "[1,   901] loss: 0.843\n",
            "[1,  1201] loss: 0.839\n",
            "[1,  1501] loss: 0.837\n",
            "[1,  1801] loss: 0.836\n",
            "[1,  2101] loss: 0.835\n",
            "[1,  2401] loss: 0.834\n",
            "[1,  2701] loss: 0.834\n",
            "[1,  3001] loss: 0.832\n",
            "[1,  3301] loss: 0.833\n",
            "[1,  3601] loss: 0.831\n",
            "[1,  3901] loss: 0.831\n",
            "[1,  4201] loss: 0.831\n"
          ]
        },
        {
          "output_type": "stream",
          "name": "stderr",
          "text": [
            "\r 10%|█         | 1/10 [00:24<03:37, 24.18s/it]"
          ]
        },
        {
          "output_type": "stream",
          "name": "stdout",
          "text": [
            "[2,     1] loss: 0.003\n",
            "[2,   301] loss: 0.830\n",
            "[2,   601] loss: 0.830\n",
            "[2,   901] loss: 0.829\n",
            "[2,  1201] loss: 0.829\n",
            "[2,  1501] loss: 0.830\n",
            "[2,  1801] loss: 0.829\n",
            "[2,  2101] loss: 0.827\n",
            "[2,  2401] loss: 0.830\n",
            "[2,  2701] loss: 0.826\n",
            "[2,  3001] loss: 0.830\n",
            "[2,  3301] loss: 0.825\n",
            "[2,  3601] loss: 0.827\n",
            "[2,  3901] loss: 0.826\n",
            "[2,  4201] loss: 0.827\n"
          ]
        },
        {
          "output_type": "stream",
          "name": "stderr",
          "text": [
            "\r 20%|██        | 2/10 [00:48<03:14, 24.25s/it]"
          ]
        },
        {
          "output_type": "stream",
          "name": "stdout",
          "text": [
            "[3,     1] loss: 0.003\n",
            "[3,   301] loss: 0.826\n",
            "[3,   601] loss: 0.826\n",
            "[3,   901] loss: 0.822\n",
            "[3,  1201] loss: 0.828\n",
            "[3,  1501] loss: 0.824\n",
            "[3,  1801] loss: 0.826\n",
            "[3,  2101] loss: 0.825\n",
            "[3,  2401] loss: 0.825\n",
            "[3,  2701] loss: 0.825\n",
            "[3,  3001] loss: 0.825\n",
            "[3,  3301] loss: 0.825\n",
            "[3,  3601] loss: 0.824\n",
            "[3,  3901] loss: 0.827\n",
            "[3,  4201] loss: 0.825\n"
          ]
        },
        {
          "output_type": "stream",
          "name": "stderr",
          "text": [
            "\r 30%|███       | 3/10 [01:12<02:49, 24.17s/it]"
          ]
        },
        {
          "output_type": "stream",
          "name": "stdout",
          "text": [
            "[4,     1] loss: 0.003\n",
            "[4,   301] loss: 0.828\n",
            "[4,   601] loss: 0.826\n",
            "[4,   901] loss: 0.823\n",
            "[4,  1201] loss: 0.827\n",
            "[4,  1501] loss: 0.823\n",
            "[4,  1801] loss: 0.822\n",
            "[4,  2101] loss: 0.823\n",
            "[4,  2401] loss: 0.825\n",
            "[4,  2701] loss: 0.824\n",
            "[4,  3001] loss: 0.822\n",
            "[4,  3301] loss: 0.824\n",
            "[4,  3601] loss: 0.822\n",
            "[4,  3901] loss: 0.825\n",
            "[4,  4201] loss: 0.825\n"
          ]
        },
        {
          "output_type": "stream",
          "name": "stderr",
          "text": [
            "\r 40%|████      | 4/10 [01:36<02:24, 24.10s/it]"
          ]
        },
        {
          "output_type": "stream",
          "name": "stdout",
          "text": [
            "[5,     1] loss: 0.003\n",
            "[5,   301] loss: 0.826\n",
            "[5,   601] loss: 0.822\n",
            "[5,   901] loss: 0.825\n",
            "[5,  1201] loss: 0.824\n",
            "[5,  1501] loss: 0.824\n",
            "[5,  1801] loss: 0.820\n",
            "[5,  2101] loss: 0.827\n",
            "[5,  2401] loss: 0.823\n",
            "[5,  2701] loss: 0.822\n",
            "[5,  3001] loss: 0.826\n",
            "[5,  3301] loss: 0.824\n",
            "[5,  3601] loss: 0.824\n",
            "[5,  3901] loss: 0.823\n",
            "[5,  4201] loss: 0.822\n"
          ]
        },
        {
          "output_type": "stream",
          "name": "stderr",
          "text": [
            "\r 50%|█████     | 5/10 [02:00<02:00, 24.09s/it]"
          ]
        },
        {
          "output_type": "stream",
          "name": "stdout",
          "text": [
            "[6,     1] loss: 0.003\n",
            "[6,   301] loss: 0.820\n",
            "[6,   601] loss: 0.826\n",
            "[6,   901] loss: 0.825\n",
            "[6,  1201] loss: 0.820\n",
            "[6,  1501] loss: 0.825\n",
            "[6,  1801] loss: 0.827\n",
            "[6,  2101] loss: 0.821\n",
            "[6,  2401] loss: 0.825\n",
            "[6,  2701] loss: 0.825\n",
            "[6,  3001] loss: 0.821\n",
            "[6,  3301] loss: 0.825\n",
            "[6,  3601] loss: 0.823\n",
            "[6,  3901] loss: 0.821\n",
            "[6,  4201] loss: 0.823\n"
          ]
        },
        {
          "output_type": "stream",
          "name": "stderr",
          "text": [
            "\r 60%|██████    | 6/10 [02:24<01:36, 24.17s/it]"
          ]
        },
        {
          "output_type": "stream",
          "name": "stdout",
          "text": [
            "[7,     1] loss: 0.003\n",
            "[7,   301] loss: 0.822\n",
            "[7,   601] loss: 0.823\n",
            "[7,   901] loss: 0.822\n",
            "[7,  1201] loss: 0.825\n",
            "[7,  1501] loss: 0.822\n",
            "[7,  1801] loss: 0.823\n",
            "[7,  2101] loss: 0.822\n",
            "[7,  2401] loss: 0.823\n",
            "[7,  2701] loss: 0.822\n",
            "[7,  3001] loss: 0.822\n",
            "[7,  3301] loss: 0.823\n",
            "[7,  3601] loss: 0.822\n",
            "[7,  3901] loss: 0.820\n",
            "[7,  4201] loss: 0.824\n"
          ]
        },
        {
          "output_type": "stream",
          "name": "stderr",
          "text": [
            "\r 70%|███████   | 7/10 [02:48<01:12, 24.08s/it]"
          ]
        },
        {
          "output_type": "stream",
          "name": "stdout",
          "text": [
            "[8,     1] loss: 0.003\n",
            "[8,   301] loss: 0.821\n",
            "[8,   601] loss: 0.822\n",
            "[8,   901] loss: 0.824\n",
            "[8,  1201] loss: 0.821\n",
            "[8,  1501] loss: 0.822\n",
            "[8,  1801] loss: 0.822\n",
            "[8,  2101] loss: 0.825\n",
            "[8,  2401] loss: 0.825\n",
            "[8,  2701] loss: 0.824\n",
            "[8,  3001] loss: 0.822\n",
            "[8,  3301] loss: 0.821\n",
            "[8,  3601] loss: 0.822\n",
            "[8,  3901] loss: 0.822\n",
            "[8,  4201] loss: 0.824\n"
          ]
        },
        {
          "output_type": "stream",
          "name": "stderr",
          "text": [
            "\r 80%|████████  | 8/10 [03:12<00:47, 23.98s/it]"
          ]
        },
        {
          "output_type": "stream",
          "name": "stdout",
          "text": [
            "[9,     1] loss: 0.003\n",
            "[9,   301] loss: 0.823\n",
            "[9,   601] loss: 0.823\n",
            "[9,   901] loss: 0.823\n",
            "[9,  1201] loss: 0.822\n",
            "[9,  1501] loss: 0.823\n",
            "[9,  1801] loss: 0.822\n",
            "[9,  2101] loss: 0.824\n",
            "[9,  2401] loss: 0.822\n",
            "[9,  2701] loss: 0.822\n",
            "[9,  3001] loss: 0.822\n",
            "[9,  3301] loss: 0.823\n",
            "[9,  3601] loss: 0.823\n",
            "[9,  3901] loss: 0.823\n",
            "[9,  4201] loss: 0.822\n"
          ]
        },
        {
          "output_type": "stream",
          "name": "stderr",
          "text": [
            "\r 90%|█████████ | 9/10 [03:36<00:23, 23.89s/it]"
          ]
        },
        {
          "output_type": "stream",
          "name": "stdout",
          "text": [
            "[10,     1] loss: 0.003\n",
            "[10,   301] loss: 0.821\n",
            "[10,   601] loss: 0.820\n",
            "[10,   901] loss: 0.822\n",
            "[10,  1201] loss: 0.823\n",
            "[10,  1501] loss: 0.822\n",
            "[10,  1801] loss: 0.821\n",
            "[10,  2101] loss: 0.820\n",
            "[10,  2401] loss: 0.823\n",
            "[10,  2701] loss: 0.822\n",
            "[10,  3001] loss: 0.822\n",
            "[10,  3301] loss: 0.823\n",
            "[10,  3601] loss: 0.825\n",
            "[10,  3901] loss: 0.823\n",
            "[10,  4201] loss: 0.822\n"
          ]
        },
        {
          "output_type": "stream",
          "name": "stderr",
          "text": [
            "100%|██████████| 10/10 [04:00<00:00, 24.00s/it]"
          ]
        },
        {
          "output_type": "stream",
          "name": "stdout",
          "text": [
            "Training is finished!\n"
          ]
        },
        {
          "output_type": "stream",
          "name": "stderr",
          "text": [
            "\n"
          ]
        }
      ]
    },
    {
      "cell_type": "markdown",
      "source": [
        "# На 10 эпохах немного лучше сходимость у ADAM, затем RMSprop, хуже всего - у SDG"
      ],
      "metadata": {
        "id": "GfIx_qEM9fx0"
      }
    },
    {
      "cell_type": "code",
      "source": [
        ""
      ],
      "metadata": {
        "id": "ojSQz9I69vhU"
      },
      "execution_count": null,
      "outputs": []
    },
    {
      "cell_type": "code",
      "source": [
        ""
      ],
      "metadata": {
        "id": "7oTZ9OZr9vbc"
      },
      "execution_count": null,
      "outputs": []
    },
    {
      "cell_type": "code",
      "source": [
        ""
      ],
      "metadata": {
        "id": "SBqizlGd9vYJ"
      },
      "execution_count": null,
      "outputs": []
    },
    {
      "cell_type": "code",
      "source": [
        ""
      ],
      "metadata": {
        "id": "sKcoRmFk9vUt"
      },
      "execution_count": null,
      "outputs": []
    },
    {
      "cell_type": "code",
      "source": [
        ""
      ],
      "metadata": {
        "id": "IdHDzVAO9vRd"
      },
      "execution_count": null,
      "outputs": []
    },
    {
      "cell_type": "code",
      "source": [
        ""
      ],
      "metadata": {
        "id": "uT3i4EEP9vOD"
      },
      "execution_count": null,
      "outputs": []
    },
    {
      "cell_type": "code",
      "source": [
        ""
      ],
      "metadata": {
        "id": "CEzI3niM9vKz"
      },
      "execution_count": null,
      "outputs": []
    },
    {
      "cell_type": "code",
      "source": [
        ""
      ],
      "metadata": {
        "id": "NjRsb_kx9u__"
      },
      "execution_count": null,
      "outputs": []
    },
    {
      "cell_type": "code",
      "source": [
        "\"\"\"class RMSELoss(nn.Module):\n",
        "    def __init__(self, eps=1e-6):\n",
        "        super().__init__()\n",
        "        self.mse = nn.MSELoss()\n",
        "        self.eps = eps\n",
        "\n",
        "    def forward(self, y_pred, y_true):\n",
        "        loss = torch.sqrt(self.mse(y_pred, y_true) + self.eps)\n",
        "        return loss\"\"\""
      ],
      "metadata": {
        "id": "kUcP2Vzk6sFF"
      },
      "execution_count": null,
      "outputs": []
    },
    {
      "cell_type": "code",
      "source": [
        "#train = pd.read_csv('../train.csv.zip',compression='zip',parse_dates=['activation_date'])\n",
        "#test = pd.read_csv('../test.csv.zip',compression='zip',parse_dates=['activation_date'])\n",
        "\n",
        "#x = x.view(x.shape[0], -1)"
      ],
      "metadata": {
        "id": "7i4sqidFC6zY"
      },
      "execution_count": null,
      "outputs": []
    }
  ],
  "metadata": {
    "kernelspec": {
      "display_name": "Python 3",
      "language": "python",
      "name": "python3"
    },
    "language_info": {
      "codemirror_mode": {
        "name": "ipython",
        "version": 3
      },
      "file_extension": ".py",
      "mimetype": "text/x-python",
      "name": "python",
      "nbconvert_exporter": "python",
      "pygments_lexer": "ipython3",
      "version": "3.7.4"
    },
    "colab": {
      "name": "GB_HW_03_pytorch.ipynb",
      "provenance": [],
      "machine_shape": "hm",
      "collapsed_sections": [],
      "include_colab_link": true
    },
    "accelerator": "GPU"
  },
  "nbformat": 4,
  "nbformat_minor": 0
}