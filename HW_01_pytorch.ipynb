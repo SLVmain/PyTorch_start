{
  "cells": [
    {
      "cell_type": "markdown",
      "metadata": {
        "id": "view-in-github",
        "colab_type": "text"
      },
      "source": [
        "<a href=\"https://colab.research.google.com/github/SLVmain/PyTorch_start/blob/Les_01/HW_01_pytorch.ipynb\" target=\"_parent\"><img src=\"https://colab.research.google.com/assets/colab-badge.svg\" alt=\"Open In Colab\"/></a>"
      ]
    },
    {
      "cell_type": "code",
      "execution_count": 2,
      "metadata": {
        "id": "PFHzNhBwpjzZ"
      },
      "outputs": [],
      "source": [
        "import torch"
      ]
    },
    {
      "cell_type": "code",
      "execution_count": null,
      "metadata": {
        "id": "J80RfV19pjze"
      },
      "outputs": [],
      "source": [
        "# Создайте случайный FloatTensor размера 3x4x5\n",
        "x = torch.FloatTensor(3, 4, 5)"
      ]
    },
    {
      "cell_type": "code",
      "source": [
        "x"
      ],
      "metadata": {
        "colab": {
          "base_uri": "https://localhost:8080/"
        },
        "id": "3_kwavLVAF-U",
        "outputId": "97d07e86-6482-4598-97e5-511d586357aa"
      },
      "execution_count": null,
      "outputs": [
        {
          "output_type": "execute_result",
          "data": {
            "text/plain": [
              "tensor([[[8.4717e-16, 3.0864e-41, 2.8727e-43, 0.0000e+00, 0.0000e+00],\n",
              "         [0.0000e+00, 0.0000e+00, 0.0000e+00, 0.0000e+00, 0.0000e+00],\n",
              "         [1.9422e+31, 2.7491e+20, 6.1949e-04, 1.9421e+31, 2.7491e+20],\n",
              "         [2.3078e-12, 1.8788e+31, 7.9303e+34, 6.1949e-04, 1.8038e+28]],\n",
              "\n",
              "        [[4.2324e+21, 7.1536e+22, 1.8180e+31, 1.4580e-19, 1.1495e+24],\n",
              "         [3.0956e-18, 9.4370e-09, 1.0733e-08, 6.5712e-07, 1.6503e-07],\n",
              "         [1.3149e+22, 3.3609e+21, 1.0533e+21, 2.1029e+20, 2.4693e-18],\n",
              "         [8.2207e+32, 1.8394e+25, 6.1963e-04, 4.1185e-11, 1.4580e-19]],\n",
              "\n",
              "        [[1.8179e+31, 1.8524e+28, 2.1715e-18, 8.5382e-07, 6.6466e+22],\n",
              "         [1.3458e+22, 5.4071e+22, 1.3400e-08, 2.1235e+20, 1.6804e-04],\n",
              "         [2.1865e+23, 2.1707e-18, 7.2128e+22, 2.1715e-18, 1.0372e-08],\n",
              "         [1.0072e-11, 1.2352e-08, 2.5644e-09, 4.2109e-11, 4.1488e-08]]])"
            ]
          },
          "metadata": {},
          "execution_count": 18
        }
      ]
    },
    {
      "cell_type": "code",
      "source": [
        "x.size()"
      ],
      "metadata": {
        "colab": {
          "base_uri": "https://localhost:8080/"
        },
        "id": "Boot8-zk5JyH",
        "outputId": "1841fc11-874b-414a-ca1d-78fe782bea2a"
      },
      "execution_count": null,
      "outputs": [
        {
          "output_type": "execute_result",
          "data": {
            "text/plain": [
              "torch.Size([3, 4, 5])"
            ]
          },
          "metadata": {},
          "execution_count": 3
        }
      ]
    },
    {
      "cell_type": "code",
      "execution_count": null,
      "metadata": {
        "id": "2ib8Efkcpjzf",
        "colab": {
          "base_uri": "https://localhost:8080/"
        },
        "outputId": "36a3776f-29aa-4b57-f1f8-19e36e48cf88"
      },
      "outputs": [
        {
          "output_type": "execute_result",
          "data": {
            "text/plain": [
              "torch.Size([3, 4, 5])"
            ]
          },
          "metadata": {},
          "execution_count": 4
        }
      ],
      "source": [
        "# Выведите его форму (shape)\n",
        "x.shape"
      ]
    },
    {
      "cell_type": "code",
      "execution_count": null,
      "metadata": {
        "id": "6SnlCmpYpjzg",
        "colab": {
          "base_uri": "https://localhost:8080/"
        },
        "outputId": "962817ec-779d-4194-832c-7f77808d7ce4"
      },
      "outputs": [
        {
          "output_type": "execute_result",
          "data": {
            "text/plain": [
              "tensor([[8.4717e-16, 3.0864e-41, 2.8727e-43, 0.0000e+00, 0.0000e+00, 0.0000e+00,\n",
              "         0.0000e+00, 0.0000e+00, 0.0000e+00, 0.0000e+00],\n",
              "        [1.9422e+31, 2.7491e+20, 6.1949e-04, 1.9421e+31, 2.7491e+20, 2.3078e-12,\n",
              "         1.8788e+31, 7.9303e+34, 6.1949e-04, 1.8038e+28],\n",
              "        [4.2324e+21, 7.1536e+22, 1.8180e+31, 1.4580e-19, 1.1495e+24, 3.0956e-18,\n",
              "         9.4370e-09, 1.0733e-08, 6.5712e-07, 1.6503e-07],\n",
              "        [1.3149e+22, 3.3609e+21, 1.0533e+21, 2.1029e+20, 2.4693e-18, 8.2207e+32,\n",
              "         1.8394e+25, 6.1963e-04, 4.1185e-11, 1.4580e-19],\n",
              "        [1.8179e+31, 1.8524e+28, 2.1715e-18, 8.5382e-07, 6.6466e+22, 1.3458e+22,\n",
              "         5.4071e+22, 1.3400e-08, 2.1235e+20, 1.6804e-04],\n",
              "        [2.1865e+23, 2.1707e-18, 7.2128e+22, 2.1715e-18, 1.0372e-08, 1.0072e-11,\n",
              "         1.2352e-08, 2.5644e-09, 4.2109e-11, 4.1488e-08]])"
            ]
          },
          "metadata": {},
          "execution_count": 23
        }
      ],
      "source": [
        "# Приведите его к форме 6 X 10\n",
        "x.reshape(6, 10)"
      ]
    },
    {
      "cell_type": "code",
      "execution_count": null,
      "metadata": {
        "id": "k1sXNQEvpjzh",
        "colab": {
          "base_uri": "https://localhost:8080/"
        },
        "outputId": "a110f623-a6d1-4868-f0d6-0e16069bf122"
      },
      "outputs": [
        {
          "output_type": "stream",
          "name": "stdout",
          "text": [
            "tensor([[[8.4717e-16, 3.0864e-41, 2.8727e-43, 0.0000e+00, 0.0000e+00],\n",
            "         [0.0000e+00, 0.0000e+00, 0.0000e+00, 0.0000e+00, 0.0000e+00],\n",
            "         [1.9422e+31, 2.7491e+20, 6.1949e-04, 1.9421e+31, 2.7491e+20],\n",
            "         [2.3078e-12, 1.8788e+31, 7.9303e+34, 6.1949e-04, 1.8038e+28]],\n",
            "\n",
            "        [[4.2324e+21, 7.1536e+22, 1.8180e+31, 1.4580e-19, 1.1495e+24],\n",
            "         [3.0956e-18, 9.4370e-09, 1.0733e-08, 6.5712e-07, 1.6503e-07],\n",
            "         [1.3149e+22, 3.3609e+21, 1.0533e+21, 2.1029e+20, 2.4693e-18],\n",
            "         [8.2207e+32, 1.8394e+25, 6.1963e-04, 4.1185e-11, 1.4580e-19]],\n",
            "\n",
            "        [[1.8179e+31, 1.8524e+28, 2.1715e-18, 8.5382e-07, 6.6466e+22],\n",
            "         [1.3458e+22, 5.4071e+22, 1.3400e-08, 2.1235e+20, 1.6804e-04],\n",
            "         [2.1865e+23, 2.1707e-18, 7.2128e+22, 2.1715e-18, 1.0372e-08],\n",
            "         [1.0072e-11, 1.2352e-08, 2.5644e-09, 4.2109e-11, 4.1488e-08]]])\n",
            "tensor([1, 4, 2, 2, 1])\n"
          ]
        },
        {
          "output_type": "execute_result",
          "data": {
            "text/plain": [
              "tensor([[[8.4717e-16, 1.2345e-40, 5.7453e-43, 0.0000e+00, 0.0000e+00],\n",
              "         [0.0000e+00, 0.0000e+00, 0.0000e+00, 0.0000e+00, 0.0000e+00],\n",
              "         [1.9422e+31, 1.0996e+21, 1.2390e-03, 3.8843e+31, 2.7491e+20],\n",
              "         [2.3078e-12, 7.5151e+31, 1.5861e+35, 1.2390e-03, 1.8038e+28]],\n",
              "\n",
              "        [[4.2324e+21, 2.8614e+23, 3.6359e+31, 2.9161e-19, 1.1495e+24],\n",
              "         [3.0956e-18, 3.7748e-08, 2.1465e-08, 1.3142e-06, 1.6503e-07],\n",
              "         [1.3149e+22, 1.3443e+22, 2.1065e+21, 4.2058e+20, 2.4693e-18],\n",
              "         [8.2207e+32, 7.3577e+25, 1.2393e-03, 8.2370e-11, 1.4580e-19]],\n",
              "\n",
              "        [[1.8179e+31, 7.4094e+28, 4.3430e-18, 1.7076e-06, 6.6466e+22],\n",
              "         [1.3458e+22, 2.1628e+23, 2.6801e-08, 4.2471e+20, 1.6804e-04],\n",
              "         [2.1865e+23, 8.6830e-18, 1.4426e+23, 4.3430e-18, 1.0372e-08],\n",
              "         [1.0072e-11, 4.9408e-08, 5.1289e-09, 8.4217e-11, 4.1488e-08]]])"
            ]
          },
          "metadata": {},
          "execution_count": 20
        }
      ],
      "source": [
        "# Умножьте его на вектор [1, 4, 2, 2, 1] поэлементно\n",
        "y = torch.tensor([1, 4, 2, 2, 1])\n",
        "print(x)\n",
        "print(y)\n",
        "mult_xy = x * y\n",
        "mult_xy"
      ]
    },
    {
      "cell_type": "code",
      "source": [
        "x.shape"
      ],
      "metadata": {
        "colab": {
          "base_uri": "https://localhost:8080/"
        },
        "id": "50-tibMaAxwp",
        "outputId": "72b49d6b-9f20-421f-b0e9-c3d4745c640b"
      },
      "execution_count": null,
      "outputs": [
        {
          "output_type": "execute_result",
          "data": {
            "text/plain": [
              "torch.Size([3, 4, 5])"
            ]
          },
          "metadata": {},
          "execution_count": 27
        }
      ]
    },
    {
      "cell_type": "code",
      "source": [
        "x = x.view(6,10)"
      ],
      "metadata": {
        "id": "BmeUnLxLA9yw"
      },
      "execution_count": null,
      "outputs": []
    },
    {
      "cell_type": "code",
      "execution_count": null,
      "metadata": {
        "id": "fckkHafIpjzl",
        "colab": {
          "base_uri": "https://localhost:8080/"
        },
        "outputId": "1e566678-180c-4e85-84c2-61d9f8c85e23"
      },
      "outputs": [
        {
          "output_type": "execute_result",
          "data": {
            "text/plain": [
              "tensor([[7.1769e-31, 1.6453e+16, 3.5856e+06, 1.1139e+07, 1.5401e+16, 1.8523e+08],\n",
              "        [1.6453e+16,        inf,        inf,        inf,        inf,        inf],\n",
              "        [3.5856e+06,        inf,        inf,        inf,        inf,        inf],\n",
              "        [1.1139e+07,        inf,        inf,        inf,        inf,        inf],\n",
              "        [1.5401e+16,        inf,        inf,        inf,        inf,        inf],\n",
              "        [1.8523e+08,        inf,        inf,        inf,        inf,        inf]])"
            ]
          },
          "metadata": {},
          "execution_count": 29
        }
      ],
      "source": [
        "# Умножьте тензор матрично на себя, чтобы результат был размерности 6x6\n",
        "torch.matmul(x, x.T)"
      ]
    },
    {
      "cell_type": "code",
      "execution_count": null,
      "metadata": {
        "id": "jTa6TjP9pjzm"
      },
      "outputs": [],
      "source": [
        "# Посчитайте производную функции y = x**3 + z - 75t в точке (1, 0.5, 2)\n",
        "from torch.autograd import Variable\n",
        "\n",
        "z = y = x**3 + z - 75*t\n",
        "\n",
        "\n",
        "x = Variable(torch.FloatTensor([1]),   requires_grad = True)\n",
        "z = Variable(torch.FloatTensor([0.5]), requires_grad = True)\n",
        "t = Variable(torch.FloatTensor([2]),   requires_grad = True)\n",
        "\n",
        "y = x**3 + z -75*t\n",
        "\n",
        "y.backward([x, z, t])\n",
        "\n",
        "(x.grad, z.grad, t.grad)"
      ]
    },
    {
      "cell_type": "code",
      "source": [
        "# Посчитайте производную функции y = x**3 + z - 75t в точке (1, 0.5, 2)\n",
        "from torch.autograd import Variable"
      ],
      "metadata": {
        "id": "otrjJygrDePn"
      },
      "execution_count": null,
      "outputs": []
    },
    {
      "cell_type": "code",
      "metadata": {
        "id": "EagAc4kF8Oaq"
      },
      "source": [
        "# Создаем тензоры\n",
        "x = torch.tensor(1.)\n",
        "z = torch.tensor(0.5)\n",
        "t = torch.tensor(2.)\n",
        "x = Variable(x, requires_grad=True)\n",
        "z = Variable(z, requires_grad=True)\n",
        "t = Variable(t, requires_grad=True)"
      ],
      "execution_count": null,
      "outputs": []
    },
    {
      "cell_type": "code",
      "metadata": {
        "id": "p29P6gytGc5t",
        "colab": {
          "base_uri": "https://localhost:8080/"
        },
        "outputId": "0e52831a-e8ff-4b90-a389-00cdd1cebd53"
      },
      "source": [
        "# Строим вычислительный граф\n",
        "y = x**3 + z - 75*t\n",
        "y"
      ],
      "execution_count": null,
      "outputs": [
        {
          "output_type": "execute_result",
          "data": {
            "text/plain": [
              "tensor(-148.5000, grad_fn=<SubBackward0>)"
            ]
          },
          "metadata": {},
          "execution_count": 62
        }
      ]
    },
    {
      "cell_type": "code",
      "metadata": {
        "id": "JC2psRJpByno",
        "colab": {
          "base_uri": "https://localhost:8080/"
        },
        "outputId": "1386004d-0680-4902-b6ff-9a44b996337b"
      },
      "source": [
        "x**3 + z - 75*t"
      ],
      "execution_count": null,
      "outputs": [
        {
          "output_type": "execute_result",
          "data": {
            "text/plain": [
              "tensor(-148.5000, grad_fn=<SubBackward0>)"
            ]
          },
          "metadata": {},
          "execution_count": 63
        }
      ]
    },
    {
      "cell_type": "code",
      "metadata": {
        "id": "njwqI1g9HiSW"
      },
      "source": [
        "# Вычисляем градиенты (выполняем обратный проход и получаем производную всех переменных)\n",
        "y.backward()"
      ],
      "execution_count": null,
      "outputs": []
    },
    {
      "cell_type": "code",
      "metadata": {
        "id": "JXIInTLc8Oav",
        "colab": {
          "base_uri": "https://localhost:8080/"
        },
        "outputId": "b59eb670-ec2e-493c-c5aa-7c3d3b77eafb"
      },
      "source": [
        "# Посмотрим градиенты для каждого из задействованных тензоров\n",
        "print(x.grad)    \n",
        "print(z.grad)    \n",
        "print(t.grad)    "
      ],
      "execution_count": null,
      "outputs": [
        {
          "output_type": "stream",
          "name": "stdout",
          "text": [
            "tensor(3.)\n",
            "tensor(1.)\n",
            "tensor(-75.)\n"
          ]
        }
      ]
    },
    {
      "cell_type": "code",
      "source": [
        "x.grad + z.grad + t.grad"
      ],
      "metadata": {
        "colab": {
          "base_uri": "https://localhost:8080/"
        },
        "id": "zxb3QeHLHII3",
        "outputId": "30f4d40b-8076-4e08-95af-ac817483d76f"
      },
      "execution_count": null,
      "outputs": [
        {
          "output_type": "execute_result",
          "data": {
            "text/plain": [
              "tensor(-71.)"
            ]
          },
          "metadata": {},
          "execution_count": 67
        }
      ]
    },
    {
      "cell_type": "code",
      "execution_count": null,
      "metadata": {
        "id": "rrOGNRUPpjzm",
        "colab": {
          "base_uri": "https://localhost:8080/"
        },
        "outputId": "e2b01f2e-754b-48b6-f402-e267aba4d04f"
      },
      "outputs": [
        {
          "output_type": "execute_result",
          "data": {
            "text/plain": [
              "tensor([[1., 1., 1., 1., 1., 1.],\n",
              "        [1., 1., 1., 1., 1., 1.],\n",
              "        [1., 1., 1., 1., 1., 1.],\n",
              "        [1., 1., 1., 1., 1., 1.],\n",
              "        [1., 1., 1., 1., 1., 1.]])"
            ]
          },
          "metadata": {},
          "execution_count": 73
        }
      ],
      "source": [
        "# Создайте единичный тензор размера 5x6\n",
        "a = torch.ones(5,6)\n",
        "a"
      ]
    },
    {
      "cell_type": "code",
      "execution_count": null,
      "metadata": {
        "id": "WPTarvsApjzn",
        "colab": {
          "base_uri": "https://localhost:8080/"
        },
        "outputId": "1ae98bd4-321e-4759-9364-c54d43d90676"
      },
      "outputs": [
        {
          "output_type": "execute_result",
          "data": {
            "text/plain": [
              "array([[1., 1., 1., 1., 1., 1.],\n",
              "       [1., 1., 1., 1., 1., 1.],\n",
              "       [1., 1., 1., 1., 1., 1.],\n",
              "       [1., 1., 1., 1., 1., 1.],\n",
              "       [1., 1., 1., 1., 1., 1.]], dtype=float32)"
            ]
          },
          "metadata": {},
          "execution_count": 74
        }
      ],
      "source": [
        "# Переведите его в формат numpy\n",
        "c = a.numpy() \n",
        "c"
      ]
    },
    {
      "cell_type": "code",
      "execution_count": null,
      "metadata": {
        "id": "Alk5tBTBpjzo"
      },
      "outputs": [],
      "source": [
        "# Давайте теперь пооптимизируем: возьмите функцию y = x**w1 - 2 * x**2 + 5\n",
        "# Посчитайте "
      ]
    },
    {
      "cell_type": "code",
      "source": [
        "from torch.autograd import Variable\n",
        "\n",
        "dtype = torch.float\n",
        "device = torch.device(\"cpu\")\n",
        "\n",
        "x = torch.randn(1) # матрица случайных значений, соответствующих нормальному распределению \n",
        "y = torch.randn(1)\n",
        "x = Variable(x) #requires_grad=False по умолчанию\n",
        "y = Variable(y) #requires_grad=False по умолчанию\n",
        "\n",
        "w1 = torch.full((), 0.0, device=device, dtype=dtype, requires_grad=True)"
      ],
      "metadata": {
        "id": "tealgMshGpgg"
      },
      "execution_count": 24,
      "outputs": []
    },
    {
      "cell_type": "code",
      "metadata": {
        "colab": {
          "base_uri": "https://localhost:8080/"
        },
        "outputId": "c863635d-f17d-4bd3-95a9-f8f365e442d2",
        "id": "CVr_QDxn6cwg"
      },
      "source": [
        "print(x)\n",
        "print(y)\n",
        "print(w1)"
      ],
      "execution_count": 25,
      "outputs": [
        {
          "output_type": "stream",
          "name": "stdout",
          "text": [
            "tensor([0.8971])\n",
            "tensor([-0.3086])\n",
            "tensor(0., requires_grad=True)\n"
          ]
        }
      ]
    },
    {
      "cell_type": "code",
      "source": [
        "optimizer = torch.optim.SGD([w1], lr=0.01)"
      ],
      "metadata": {
        "id": "sMmkK6fJHAT9"
      },
      "execution_count": 26,
      "outputs": []
    },
    {
      "cell_type": "code",
      "source": [
        "criterion = torch.nn.MSELoss()"
      ],
      "metadata": {
        "id": "uBZ0ZB-NHE8H"
      },
      "execution_count": 27,
      "outputs": []
    },
    {
      "cell_type": "code",
      "source": [
        "y_pred = x**w1 - 2 * x**2 + 5"
      ],
      "metadata": {
        "id": "xvVI0dKVHH4-"
      },
      "execution_count": 28,
      "outputs": []
    },
    {
      "cell_type": "code",
      "source": [
        "optimizer.zero_grad()"
      ],
      "metadata": {
        "id": "MvUDz4IDHQbx"
      },
      "execution_count": 29,
      "outputs": []
    },
    {
      "cell_type": "code",
      "source": [
        "loss = criterion(y_pred, y)"
      ],
      "metadata": {
        "id": "Z10tcYeiHR3y"
      },
      "execution_count": 30,
      "outputs": []
    },
    {
      "cell_type": "code",
      "source": [
        "loss.backward()     "
      ],
      "metadata": {
        "id": "z_WXfp3iHW6s"
      },
      "execution_count": 31,
      "outputs": []
    },
    {
      "cell_type": "code",
      "source": [
        "optimizer.step()   "
      ],
      "metadata": {
        "id": "O8PshAL0Hdmy"
      },
      "execution_count": 32,
      "outputs": []
    },
    {
      "cell_type": "code",
      "source": [
        "#loss.item()"
      ],
      "metadata": {
        "id": "zdfoHVJsHf05"
      },
      "execution_count": 23,
      "outputs": []
    },
    {
      "cell_type": "code",
      "source": [
        "print(loss.detach())\n",
        "print({w1.data})"
      ],
      "metadata": {
        "colab": {
          "base_uri": "https://localhost:8080/"
        },
        "id": "uL1CILQPIAmB",
        "outputId": "f9309b42-f296-434d-e7be-d32a87430d16"
      },
      "execution_count": 33,
      "outputs": [
        {
          "output_type": "stream",
          "name": "stdout",
          "text": [
            "tensor(22.0814)\n",
            "{tensor(0.0102)}\n"
          ]
        }
      ]
    },
    {
      "cell_type": "code",
      "source": [
        "# сделаем несколько эпох\n",
        "for i in range(100): \n",
        "    \n",
        "    y_pred = x**w1 - 2 * x**2 + 5\n",
        "\n",
        "    # Считаем функцию ошибки\n",
        "    loss = criterion(y_pred, y)\n",
        "\n",
        "    # Обнуляем вручную градиент на каждой итерации\n",
        "    optimizer.zero_grad()\n",
        "\n",
        "    # Обратное распространение ошибки\n",
        "    loss.backward()\n",
        "\n",
        "    # Делаем шаг градиентного спуска\n",
        "    optimizer.step()\n",
        "    \n",
        "    if i%10 ==0:\n",
        "        print(loss.detach())"
      ],
      "metadata": {
        "colab": {
          "base_uri": "https://localhost:8080/"
        },
        "id": "dOKK9oWAIGuv",
        "outputId": "995a817e-9f74-4411-db85-32738e18be79"
      },
      "execution_count": 34,
      "outputs": [
        {
          "output_type": "stream",
          "name": "stdout",
          "text": [
            "tensor(22.0710)\n",
            "tensor(21.9684)\n",
            "tensor(21.8685)\n",
            "tensor(21.7712)\n",
            "tensor(21.6763)\n",
            "tensor(21.5838)\n",
            "tensor(21.4936)\n",
            "tensor(21.4056)\n",
            "tensor(21.3197)\n",
            "tensor(21.2358)\n"
          ]
        }
      ]
    },
    {
      "cell_type": "code",
      "source": [
        "# из документации по torch скопироваля памятку\n",
        "\n",
        "# Create random Tensors for weights. For this example, we need\n",
        "# 1 weight: y = x**w1 - 2 * x**2 + 5, \n",
        "# these weights need to be initialized\n",
        "# not too far from the correct result to ensure convergence.\n",
        "# Setting requires_grad=True indicates that we want to compute gradients with\n",
        "# respect to these Tensors during the backward pass.\n",
        "w1 = torch.full((), 0.0, device=device, dtype=dtype, requires_grad=True)\n",
        "\n",
        "\n",
        "learning_rate = 5e-6\n",
        "for t in range(11):\n",
        "    \n",
        "\n",
        "    # Forward pass: compute predicted y using operations; we compute\n",
        "    # P3 using our custom autograd operation.\n",
        "    y_pred = x**w1 - 2 * x**2 + 5\n",
        "\n",
        "    # Compute and print loss\n",
        "    loss = (y_pred - y).pow(2).sum()\n",
        "    if t % 5 == 4:\n",
        "        print(t, loss.item())\n",
        "\n",
        "    # Use autograd to compute the backward pass.\n",
        "    loss.backward()\n",
        "\n",
        "    # Update weights using gradient descent\n",
        "    with torch.no_grad():\n",
        "        w1 -= learning_rate * w1.grad\n",
        "        \n",
        "\n",
        "        # Manually zero the gradients after updating weights\n",
        "        w1.grad = None\n",
        "        \n",
        "\n",
        "print(f'Result: y = {w1.item()} x -2 *x**2 +5')\n"
      ],
      "metadata": {
        "id": "eSfrcW_x6UU-"
      },
      "execution_count": null,
      "outputs": []
    }
  ],
  "metadata": {
    "kernelspec": {
      "display_name": "Python 3",
      "language": "python",
      "name": "python3"
    },
    "language_info": {
      "codemirror_mode": {
        "name": "ipython",
        "version": 3
      },
      "file_extension": ".py",
      "mimetype": "text/x-python",
      "name": "python",
      "nbconvert_exporter": "python",
      "pygments_lexer": "ipython3",
      "version": "3.7.4"
    },
    "colab": {
      "name": "HW_01_pytorch.ipynb",
      "provenance": [],
      "collapsed_sections": [],
      "include_colab_link": true
    }
  },
  "nbformat": 4,
  "nbformat_minor": 0
}